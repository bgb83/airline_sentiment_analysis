{
  "nbformat": 4,
  "nbformat_minor": 0,
  "metadata": {
    "colab": {
      "name": "airline_tweet_sentiment_analysis_ulmfit_final.ipynb",
      "version": "0.3.2",
      "provenance": [],
      "collapsed_sections": [],
      "include_colab_link": true
    },
    "kernelspec": {
      "name": "python3",
      "display_name": "Python 3"
    },
    "accelerator": "GPU"
  },
  "cells": [
    {
      "cell_type": "markdown",
      "metadata": {
        "id": "view-in-github",
        "colab_type": "text"
      },
      "source": [
        "<a href=\"https://colab.research.google.com/github/bgb83/airline_sentiment_analysis/blob/master/airline_tweet_sentiment_analysis_ulmfit_final.ipynb\" target=\"_parent\"><img src=\"https://colab.research.google.com/assets/colab-badge.svg\" alt=\"Open In Colab\"/></a>"
      ]
    },
    {
      "metadata": {
        "id": "8RVJArAcwDqm",
        "colab_type": "text"
      },
      "cell_type": "markdown",
      "source": [
        "# **ULMFiT Airline Tweets Sentiment Analysis** "
      ]
    },
    {
      "metadata": {
        "id": "7bDFbMhHfTUA",
        "colab_type": "text"
      },
      "cell_type": "markdown",
      "source": [
        "Apply a supervised or semi-supervised ULMFiT model to Twitter US Airlines Sentiment "
      ]
    },
    {
      "metadata": {
        "id": "5NM8BT86fmqR",
        "colab_type": "text"
      },
      "cell_type": "markdown",
      "source": [
        "**Import Required Libraries**"
      ]
    },
    {
      "metadata": {
        "id": "t61Ubu0fd3T2",
        "colab_type": "code",
        "colab": {}
      },
      "cell_type": "code",
      "source": [
        "# install pytorch and fastai\n",
        "!pip3 install torch torchvision\n",
        "!pip3 install fastai"
      ],
      "execution_count": 0,
      "outputs": []
    },
    {
      "metadata": {
        "id": "5mQ44pYaeY_Z",
        "colab_type": "code",
        "colab": {}
      },
      "cell_type": "code",
      "source": [
        "# import libraries\n",
        "from fastai.text import *\n",
        "from fastai.vision import *\n",
        "import pandas as pd\n",
        "import numpy as np\n",
        "from sklearn.model_selection import train_test_split\n",
        "import matplotlib.pyplot as plt\n",
        "import io"
      ],
      "execution_count": 0,
      "outputs": []
    },
    {
      "metadata": {
        "id": "0KQJLJ9GhzKv",
        "colab_type": "code",
        "colab": {}
      },
      "cell_type": "code",
      "source": [
        "#import dataset\n",
        "from google.colab import files\n",
        "uploaded = files.upload()"
      ],
      "execution_count": 0,
      "outputs": []
    },
    {
      "metadata": {
        "id": "0LvhZkvOgVyE",
        "colab_type": "text"
      },
      "cell_type": "markdown",
      "source": [
        "**Exploratory Data Analysis**"
      ]
    },
    {
      "metadata": {
        "id": "xN5zvNeGjRoQ",
        "colab_type": "code",
        "outputId": "91d863e4-9544-409a-a091-c66a5e306785",
        "colab": {
          "base_uri": "https://localhost:8080/",
          "height": 357
        }
      },
      "cell_type": "code",
      "source": [
        "#create a dataframe from csv file and check data (nulls, columns, types)\n",
        "df = pd.read_csv(io.StringIO(uploaded['Tweets.csv'].decode('utf-8')))\n",
        "df.info()"
      ],
      "execution_count": 0,
      "outputs": [
        {
          "output_type": "stream",
          "text": [
            "<class 'pandas.core.frame.DataFrame'>\n",
            "RangeIndex: 14640 entries, 0 to 14639\n",
            "Data columns (total 15 columns):\n",
            "tweet_id                        14640 non-null int64\n",
            "airline_sentiment               14640 non-null object\n",
            "airline_sentiment_confidence    14640 non-null float64\n",
            "negativereason                  9178 non-null object\n",
            "negativereason_confidence       10522 non-null float64\n",
            "airline                         14640 non-null object\n",
            "airline_sentiment_gold          40 non-null object\n",
            "name                            14640 non-null object\n",
            "negativereason_gold             32 non-null object\n",
            "retweet_count                   14640 non-null int64\n",
            "text                            14640 non-null object\n",
            "tweet_coord                     1019 non-null object\n",
            "tweet_created                   14640 non-null object\n",
            "tweet_location                  9907 non-null object\n",
            "user_timezone                   9820 non-null object\n",
            "dtypes: float64(2), int64(2), object(11)\n",
            "memory usage: 1.7+ MB\n"
          ],
          "name": "stdout"
        }
      ]
    },
    {
      "metadata": {
        "id": "YoPq3SclOp0o",
        "colab_type": "code",
        "outputId": "0bafe1f4-0186-4c71-aa7d-0533ae95452e",
        "colab": {
          "base_uri": "https://localhost:8080/",
          "height": 445
        }
      },
      "cell_type": "code",
      "source": [
        "#check how the data looks\n",
        "df.head()"
      ],
      "execution_count": 0,
      "outputs": [
        {
          "output_type": "execute_result",
          "data": {
            "text/html": [
              "<div>\n",
              "<style scoped>\n",
              "    .dataframe tbody tr th:only-of-type {\n",
              "        vertical-align: middle;\n",
              "    }\n",
              "\n",
              "    .dataframe tbody tr th {\n",
              "        vertical-align: top;\n",
              "    }\n",
              "\n",
              "    .dataframe thead th {\n",
              "        text-align: right;\n",
              "    }\n",
              "</style>\n",
              "<table border=\"1\" class=\"dataframe\">\n",
              "  <thead>\n",
              "    <tr style=\"text-align: right;\">\n",
              "      <th></th>\n",
              "      <th>tweet_id</th>\n",
              "      <th>airline_sentiment</th>\n",
              "      <th>airline_sentiment_confidence</th>\n",
              "      <th>negativereason</th>\n",
              "      <th>negativereason_confidence</th>\n",
              "      <th>airline</th>\n",
              "      <th>airline_sentiment_gold</th>\n",
              "      <th>name</th>\n",
              "      <th>negativereason_gold</th>\n",
              "      <th>retweet_count</th>\n",
              "      <th>text</th>\n",
              "      <th>tweet_coord</th>\n",
              "      <th>tweet_created</th>\n",
              "      <th>tweet_location</th>\n",
              "      <th>user_timezone</th>\n",
              "    </tr>\n",
              "  </thead>\n",
              "  <tbody>\n",
              "    <tr>\n",
              "      <th>0</th>\n",
              "      <td>570306133677760513</td>\n",
              "      <td>neutral</td>\n",
              "      <td>1.0000</td>\n",
              "      <td>NaN</td>\n",
              "      <td>NaN</td>\n",
              "      <td>Virgin America</td>\n",
              "      <td>NaN</td>\n",
              "      <td>cairdin</td>\n",
              "      <td>NaN</td>\n",
              "      <td>0</td>\n",
              "      <td>@VirginAmerica What @dhepburn said.</td>\n",
              "      <td>NaN</td>\n",
              "      <td>2015-02-24 11:35:52 -0800</td>\n",
              "      <td>NaN</td>\n",
              "      <td>Eastern Time (US &amp; Canada)</td>\n",
              "    </tr>\n",
              "    <tr>\n",
              "      <th>1</th>\n",
              "      <td>570301130888122368</td>\n",
              "      <td>positive</td>\n",
              "      <td>0.3486</td>\n",
              "      <td>NaN</td>\n",
              "      <td>0.0000</td>\n",
              "      <td>Virgin America</td>\n",
              "      <td>NaN</td>\n",
              "      <td>jnardino</td>\n",
              "      <td>NaN</td>\n",
              "      <td>0</td>\n",
              "      <td>@VirginAmerica plus you've added commercials t...</td>\n",
              "      <td>NaN</td>\n",
              "      <td>2015-02-24 11:15:59 -0800</td>\n",
              "      <td>NaN</td>\n",
              "      <td>Pacific Time (US &amp; Canada)</td>\n",
              "    </tr>\n",
              "    <tr>\n",
              "      <th>2</th>\n",
              "      <td>570301083672813571</td>\n",
              "      <td>neutral</td>\n",
              "      <td>0.6837</td>\n",
              "      <td>NaN</td>\n",
              "      <td>NaN</td>\n",
              "      <td>Virgin America</td>\n",
              "      <td>NaN</td>\n",
              "      <td>yvonnalynn</td>\n",
              "      <td>NaN</td>\n",
              "      <td>0</td>\n",
              "      <td>@VirginAmerica I didn't today... Must mean I n...</td>\n",
              "      <td>NaN</td>\n",
              "      <td>2015-02-24 11:15:48 -0800</td>\n",
              "      <td>Lets Play</td>\n",
              "      <td>Central Time (US &amp; Canada)</td>\n",
              "    </tr>\n",
              "    <tr>\n",
              "      <th>3</th>\n",
              "      <td>570301031407624196</td>\n",
              "      <td>negative</td>\n",
              "      <td>1.0000</td>\n",
              "      <td>Bad Flight</td>\n",
              "      <td>0.7033</td>\n",
              "      <td>Virgin America</td>\n",
              "      <td>NaN</td>\n",
              "      <td>jnardino</td>\n",
              "      <td>NaN</td>\n",
              "      <td>0</td>\n",
              "      <td>@VirginAmerica it's really aggressive to blast...</td>\n",
              "      <td>NaN</td>\n",
              "      <td>2015-02-24 11:15:36 -0800</td>\n",
              "      <td>NaN</td>\n",
              "      <td>Pacific Time (US &amp; Canada)</td>\n",
              "    </tr>\n",
              "    <tr>\n",
              "      <th>4</th>\n",
              "      <td>570300817074462722</td>\n",
              "      <td>negative</td>\n",
              "      <td>1.0000</td>\n",
              "      <td>Can't Tell</td>\n",
              "      <td>1.0000</td>\n",
              "      <td>Virgin America</td>\n",
              "      <td>NaN</td>\n",
              "      <td>jnardino</td>\n",
              "      <td>NaN</td>\n",
              "      <td>0</td>\n",
              "      <td>@VirginAmerica and it's a really big bad thing...</td>\n",
              "      <td>NaN</td>\n",
              "      <td>2015-02-24 11:14:45 -0800</td>\n",
              "      <td>NaN</td>\n",
              "      <td>Pacific Time (US &amp; Canada)</td>\n",
              "    </tr>\n",
              "  </tbody>\n",
              "</table>\n",
              "</div>"
            ],
            "text/plain": [
              "             tweet_id airline_sentiment  airline_sentiment_confidence  \\\n",
              "0  570306133677760513           neutral                        1.0000   \n",
              "1  570301130888122368          positive                        0.3486   \n",
              "2  570301083672813571           neutral                        0.6837   \n",
              "3  570301031407624196          negative                        1.0000   \n",
              "4  570300817074462722          negative                        1.0000   \n",
              "\n",
              "  negativereason  negativereason_confidence         airline  \\\n",
              "0            NaN                        NaN  Virgin America   \n",
              "1            NaN                     0.0000  Virgin America   \n",
              "2            NaN                        NaN  Virgin America   \n",
              "3     Bad Flight                     0.7033  Virgin America   \n",
              "4     Can't Tell                     1.0000  Virgin America   \n",
              "\n",
              "  airline_sentiment_gold        name negativereason_gold  retweet_count  \\\n",
              "0                    NaN     cairdin                 NaN              0   \n",
              "1                    NaN    jnardino                 NaN              0   \n",
              "2                    NaN  yvonnalynn                 NaN              0   \n",
              "3                    NaN    jnardino                 NaN              0   \n",
              "4                    NaN    jnardino                 NaN              0   \n",
              "\n",
              "                                                text tweet_coord  \\\n",
              "0                @VirginAmerica What @dhepburn said.         NaN   \n",
              "1  @VirginAmerica plus you've added commercials t...         NaN   \n",
              "2  @VirginAmerica I didn't today... Must mean I n...         NaN   \n",
              "3  @VirginAmerica it's really aggressive to blast...         NaN   \n",
              "4  @VirginAmerica and it's a really big bad thing...         NaN   \n",
              "\n",
              "               tweet_created tweet_location               user_timezone  \n",
              "0  2015-02-24 11:35:52 -0800            NaN  Eastern Time (US & Canada)  \n",
              "1  2015-02-24 11:15:59 -0800            NaN  Pacific Time (US & Canada)  \n",
              "2  2015-02-24 11:15:48 -0800      Lets Play  Central Time (US & Canada)  \n",
              "3  2015-02-24 11:15:36 -0800            NaN  Pacific Time (US & Canada)  \n",
              "4  2015-02-24 11:14:45 -0800            NaN  Pacific Time (US & Canada)  "
            ]
          },
          "metadata": {
            "tags": []
          },
          "execution_count": 5
        }
      ]
    },
    {
      "metadata": {
        "id": "1X8s26e5ubMP",
        "colab_type": "code",
        "outputId": "5531be94-eb49-45bf-dd8f-c1ed8e6aaf55",
        "colab": {
          "base_uri": "https://localhost:8080/",
          "height": 390
        }
      },
      "cell_type": "code",
      "source": [
        "#check labels: airline_sentiment\n",
        "df.airline_sentiment.value_counts().plot(kind='bar', title='Airline Sentiment Count');"
      ],
      "execution_count": 0,
      "outputs": [
        {
          "output_type": "display_data",
          "data": {
            "image/png": "[encoded data removed]",
            "text/plain": [
              "<Figure size 576x396 with 1 Axes>"
            ]
          },
          "metadata": {
            "tags": []
          }
        }
      ]
    },
    {
      "metadata": {
        "id": "idCUbzZJyGYi",
        "colab_type": "code",
        "outputId": "3e1370d9-71eb-4643-8e39-5b7f54be7b4a",
        "colab": {
          "base_uri": "https://localhost:8080/",
          "height": 417
        }
      },
      "cell_type": "code",
      "source": [
        "#check airlines\n",
        "df.airline.value_counts().plot(kind='bar', title='Airline Count');"
      ],
      "execution_count": 0,
      "outputs": [
        {
          "output_type": "display_data",
          "data": {
            "image/png": "[encoded data removed]",
            "text/plain": [
              "<Figure size 576x396 with 1 Axes>"
            ]
          },
          "metadata": {
            "tags": []
          }
        }
      ]
    },
    {
      "metadata": {
        "id": "g5xgGJXl2Mae",
        "colab_type": "code",
        "outputId": "0b092d78-07da-4b08-8fe1-899d76a47217",
        "colab": {
          "base_uri": "https://localhost:8080/",
          "height": 743
        }
      },
      "cell_type": "code",
      "source": [
        "#Check labels per airline\n",
        "fig, axarr = plt.subplots(3, 2, figsize=(12, 12), sharex=True, sharey=True)\n",
        "\n",
        "df[df['airline']=='United']['airline_sentiment'].value_counts().sort_values(ascending=False).plot.bar(\n",
        "    ax=axarr[0][0]\n",
        ")\n",
        "axarr[0][0].set_title(\"Sentiment count for United\")\n",
        "\n",
        "df[df['airline']=='US Airways']['airline_sentiment'].value_counts().sort_values(ascending=False).plot.bar(\n",
        "    ax=axarr[1][0]\n",
        ")\n",
        "axarr[1][0].set_title(\"Sentiment count for US Airways\")\n",
        "\n",
        "df[df['airline']=='American']['airline_sentiment'].value_counts().sort_values(ascending=False).plot.bar(\n",
        "    ax=axarr[2][0]\n",
        ")\n",
        "axarr[2][0].set_title(\"Sentiment count for American\")\n",
        "\n",
        "df[df['airline']=='Southwest']['airline_sentiment'].value_counts().sort_values(ascending=False).plot.bar(\n",
        "    ax=axarr[0][1]\n",
        ")\n",
        "axarr[0][1].set_title(\"Sentiment count for Southwest\")\n",
        "\n",
        "df[df['airline']=='Delta']['airline_sentiment'].value_counts().sort_values(ascending=False).plot.bar(\n",
        "    ax=axarr[1][1]\n",
        ")\n",
        "axarr[1][1].set_title(\"Sentiment count for US Delta\")\n",
        "\n",
        "df[df['airline']=='Virgin America']['airline_sentiment'].value_counts().sort_values(ascending=False).plot.bar(\n",
        "    ax=axarr[2][1]\n",
        ")\n",
        "axarr[2][1].set_title(\"Sentiment count for Virgin America\");\n",
        "\n"
      ],
      "execution_count": 0,
      "outputs": [
        {
          "output_type": "display_data",
          "data": {
            "image/png": "[encoded data removed]",
            "text/plain": [
              "<Figure size 864x864 with 6 Axes>"
            ]
          },
          "metadata": {
            "tags": []
          }
        }
      ]
    },
    {
      "metadata": {
        "id": "QF3gL-0r_vIs",
        "colab_type": "code",
        "outputId": "db76a52f-cc28-4a1c-c747-a2c0e3f433d6",
        "colab": {
          "base_uri": "https://localhost:8080/",
          "height": 362
        }
      },
      "cell_type": "code",
      "source": [
        "#check tweet length to confirm text size is ok\n",
        "df['text'].apply(lambda x: len(x)).plot(kind='hist',title=\"Tweet Length\");"
      ],
      "execution_count": 0,
      "outputs": [
        {
          "output_type": "display_data",
          "data": {
            "image/png": "[encoded data removed]",
            "text/plain": [
              "<Figure size 576x396 with 1 Axes>"
            ]
          },
          "metadata": {
            "tags": []
          }
        }
      ]
    },
    {
      "metadata": {
        "id": "pIyAMWcT4FP7",
        "colab_type": "code",
        "outputId": "48fe4525-18eb-49d7-89eb-c9bb58326311",
        "colab": {
          "base_uri": "https://localhost:8080/",
          "height": 119
        }
      },
      "cell_type": "code",
      "source": [
        "#check how tweets look\n",
        "df['text'].sample(5)"
      ],
      "execution_count": 0,
      "outputs": [
        {
          "output_type": "execute_result",
          "data": {
            "text/plain": [
              "5975     @SouthwestAir I already follow you and can't D...\n",
              "13803    “@AmericanAir: @nlrphoto Those are very beauti...\n",
              "14065    @AmericanAir \"overweight\" flight = you sold mo...\n",
              "11551    @USAirways Thx to gate agt John Pascucci for f...\n",
              "1144     @united shes been rescheduled for today, but w...\n",
              "Name: text, dtype: object"
            ]
          },
          "metadata": {
            "tags": []
          },
          "execution_count": 10
        }
      ]
    },
    {
      "metadata": {
        "id": "DeZW-hbzk4nq",
        "colab_type": "text"
      },
      "cell_type": "markdown",
      "source": [
        "We can clearly see that most tweets are negative and neutral and positive tweets are more or less balanced. To make classification more accurate, I combined neutral and positive tweets. This results in a binary classification problem with relatively balanced classes."
      ]
    },
    {
      "metadata": {
        "id": "rlX1OxtIpwBk",
        "colab_type": "text"
      },
      "cell_type": "markdown",
      "source": [
        "**Preprocess Data for ULMfiT**"
      ]
    },
    {
      "metadata": {
        "id": "jNZciEWMIS1m",
        "colab_type": "code",
        "outputId": "41514792-27c4-4914-b2ed-9186e5516e60",
        "colab": {
          "base_uri": "https://localhost:8080/",
          "height": 204
        }
      },
      "cell_type": "code",
      "source": [
        "# create dataframe consisting of labels and text only as suggested by Yann LeCun et. al https://arxiv.org/pdf/1509.01626.pdf\n",
        "data_df = pd.DataFrame()\n",
        "data_df['label'] = df['airline_sentiment'].apply(lambda x: 'neg' if x =='negative' else 'non_neg') #combine pos and neutral into non_neg class\n",
        "data_df['text'] = df['text'].copy()\n",
        "data_df.head()#check how new Dataframe looks"
      ],
      "execution_count": 0,
      "outputs": [
        {
          "output_type": "execute_result",
          "data": {
            "text/html": [
              "<div>\n",
              "<style scoped>\n",
              "    .dataframe tbody tr th:only-of-type {\n",
              "        vertical-align: middle;\n",
              "    }\n",
              "\n",
              "    .dataframe tbody tr th {\n",
              "        vertical-align: top;\n",
              "    }\n",
              "\n",
              "    .dataframe thead th {\n",
              "        text-align: right;\n",
              "    }\n",
              "</style>\n",
              "<table border=\"1\" class=\"dataframe\">\n",
              "  <thead>\n",
              "    <tr style=\"text-align: right;\">\n",
              "      <th></th>\n",
              "      <th>label</th>\n",
              "      <th>text</th>\n",
              "    </tr>\n",
              "  </thead>\n",
              "  <tbody>\n",
              "    <tr>\n",
              "      <th>0</th>\n",
              "      <td>non_neg</td>\n",
              "      <td>@VirginAmerica What @dhepburn said.</td>\n",
              "    </tr>\n",
              "    <tr>\n",
              "      <th>1</th>\n",
              "      <td>non_neg</td>\n",
              "      <td>@VirginAmerica plus you've added commercials t...</td>\n",
              "    </tr>\n",
              "    <tr>\n",
              "      <th>2</th>\n",
              "      <td>non_neg</td>\n",
              "      <td>@VirginAmerica I didn't today... Must mean I n...</td>\n",
              "    </tr>\n",
              "    <tr>\n",
              "      <th>3</th>\n",
              "      <td>neg</td>\n",
              "      <td>@VirginAmerica it's really aggressive to blast...</td>\n",
              "    </tr>\n",
              "    <tr>\n",
              "      <th>4</th>\n",
              "      <td>neg</td>\n",
              "      <td>@VirginAmerica and it's a really big bad thing...</td>\n",
              "    </tr>\n",
              "  </tbody>\n",
              "</table>\n",
              "</div>"
            ],
            "text/plain": [
              "     label                                               text\n",
              "0  non_neg                @VirginAmerica What @dhepburn said.\n",
              "1  non_neg  @VirginAmerica plus you've added commercials t...\n",
              "2  non_neg  @VirginAmerica I didn't today... Must mean I n...\n",
              "3      neg  @VirginAmerica it's really aggressive to blast...\n",
              "4      neg  @VirginAmerica and it's a really big bad thing..."
            ]
          },
          "metadata": {
            "tags": []
          },
          "execution_count": 11
        }
      ]
    },
    {
      "metadata": {
        "id": "89xz8LTVNQVm",
        "colab_type": "code",
        "outputId": "87dfb763-2409-4d2d-f056-94f9bf17f3d2",
        "colab": {
          "base_uri": "https://localhost:8080/",
          "height": 34
        }
      },
      "cell_type": "code",
      "source": [
        "#check size of new dataframe\n",
        "data_df.shape"
      ],
      "execution_count": 0,
      "outputs": [
        {
          "output_type": "execute_result",
          "data": {
            "text/plain": [
              "(14640, 2)"
            ]
          },
          "metadata": {
            "tags": []
          },
          "execution_count": 12
        }
      ]
    },
    {
      "metadata": {
        "id": "MHZ0ij5ROep5",
        "colab_type": "code",
        "outputId": "4af7c4ff-a3d2-42ef-b4db-0ff825b34add",
        "colab": {
          "base_uri": "https://localhost:8080/",
          "height": 136
        }
      },
      "cell_type": "code",
      "source": [
        "#check new dataframe info (nulls, columns, types)\n",
        "data_df.info()"
      ],
      "execution_count": 0,
      "outputs": [
        {
          "output_type": "stream",
          "text": [
            "<class 'pandas.core.frame.DataFrame'>\n",
            "RangeIndex: 14640 entries, 0 to 14639\n",
            "Data columns (total 2 columns):\n",
            "label    14640 non-null object\n",
            "text     14640 non-null object\n",
            "dtypes: object(2)\n",
            "memory usage: 228.8+ KB\n"
          ],
          "name": "stdout"
        }
      ]
    },
    {
      "metadata": {
        "id": "Q51qCPf8RC4F",
        "colab_type": "code",
        "outputId": "ab893db6-2740-4ec1-a89e-3322e1058924",
        "colab": {
          "base_uri": "https://localhost:8080/",
          "height": 34
        }
      },
      "cell_type": "code",
      "source": [
        "#split data into train 90%, validate 10% as per fastai deep_learning course (lesson 10) \n",
        "\n",
        "df_trn_1, df_val_1 = train_test_split(data_df, stratify=data_df['label'], test_size = 0.1, random_state = 83)\n",
        "\n",
        "df_trn_1.shape, df_val_1.shape"
      ],
      "execution_count": 0,
      "outputs": [
        {
          "output_type": "execute_result",
          "data": {
            "text/plain": [
              "((13176, 2), (1464, 2))"
            ]
          },
          "metadata": {
            "tags": []
          },
          "execution_count": 14
        }
      ]
    },
    {
      "metadata": {
        "id": "ofKSlwE7V_9N",
        "colab_type": "code",
        "colab": {}
      },
      "cell_type": "code",
      "source": [
        "#select batch-size for classifier\n",
        "bs=32 #default for TextClasDataBunch\n",
        "# create a DataBunch (fastai data object) for Language Model\n",
        "data_lm_1 = TextLMDataBunch.from_df(train_df = df_trn_1, valid_df = df_val_1, path = \"\", min_freq=1)\n",
        "\n",
        "# create a DataBunch (fastai data object) for RNN classifier using vocab from language model\n",
        "data_clas_1 = TextClasDataBunch.from_df(path = \"\", train_df = df_trn_1, valid_df = df_val_1, vocab=data_lm_1.train_ds.vocab, bs=bs, min_freq=1)"
      ],
      "execution_count": 0,
      "outputs": []
    },
    {
      "metadata": {
        "id": "KUsUNcBbvoNt",
        "colab_type": "text"
      },
      "cell_type": "markdown",
      "source": [
        "TextLMDataBunch does a lot of data preprocessing under the hood including tokenization. It also allows to retain punctuation, special characters and original case.  What it does, is it adds special tokens to represent these, for example token xxup is used for all caps. All very informative specially in tweets (character limit)."
      ]
    },
    {
      "metadata": {
        "id": "UuGLBmnNRElX",
        "colab_type": "code",
        "outputId": "5ba06a07-dca1-4e3f-b0c5-f93b29ed35df",
        "colab": {
          "base_uri": "https://localhost:8080/",
          "height": 289
        }
      },
      "cell_type": "code",
      "source": [
        "# check how data looks after preprocessing\n",
        "data_lm_1.show_batch()"
      ],
      "execution_count": 0,
      "outputs": [
        {
          "output_type": "display_data",
          "data": {
            "text/html": [
              "<table border=\"1\" class=\"dataframe\">\n",
              "  <thead>\n",
              "    <tr style=\"text-align: right;\">\n",
              "      <th>idx</th>\n",
              "      <th>text</th>\n",
              "    </tr>\n",
              "  </thead>\n",
              "  <tbody>\n",
              "    <tr>\n",
              "      <td>0</td>\n",
              "      <td>book a flight because of outdated , forced opt - in \" xxmaj verified by xxmaj visa \" nonsense . xxmaj help a girl out ? i just want to get to @sxsw xxbos @united just 1 last thing . u guys should n't be charging $ for drinks on a transatlantic flight xxbos @americanair what 's the status of flight 1357 out of sju ? xxbos @americanair good care</td>\n",
              "    </tr>\n",
              "    <tr>\n",
              "      <td>1</td>\n",
              "      <td>you clearly did n't care about our troubles yday thought i 'd share bags took &gt; 90min and came back absolutely drenched .. xxbos @americanair well we cleared customs in xxup auh . i need to get to xxup iah after i arrive in xxup dfw . xxmaj is it possible to retrieve my luggage in xxup iad ? xxbos @usairways the flight that i did not connect to was</td>\n",
              "    </tr>\n",
              "    <tr>\n",
              "      <td>2</td>\n",
              "      <td>is beyond ridiculous . xxmaj some steering problem delays us again . # neveragain it 's no wonder you had to sell xxbos @united xxmaj what a really xxup great &amp; &amp; xxup flattering story about you ! xxmaj you should be very proud :) http : / / t.co / oktukjy92o ( via @parachuteguy ) xxbos @virginamerica i applied over 2 weeks ago . xxmaj have n't heard back</td>\n",
              "    </tr>\n",
              "    <tr>\n",
              "      <td>3</td>\n",
              "      <td>@united just got my lost xxmaj kindle in the mail ! xxmaj thanks again . xxbos @jetblue xxmaj yep , still waiting for bags at # xxup jfk . xxmaj what 's the holdup ? xxmaj looks like we are the only flight that got in at this time .. ? ? xxbos @united xxmaj do you have any flights with lie flat seating from xxup stl to xxup pdx</td>\n",
              "    </tr>\n",
              "    <tr>\n",
              "      <td>4</td>\n",
              "      <td>xxmaj please than xxmaj robin at xxup ewr xxmaj premiere xxmaj desk for helping me get on a an earlier flight . xxmaj she did the work . xxmaj huge thanks . xxbos @jetblue xxup @tsa jetblue never disappoints ! xxbos @usairways xxup us 728 / xxmaj feb 21 . xxmaj arrive 7 hrs xxmaj late xxmaj flight ; checked car seat missing . xxmaj no replacement available . xxmaj</td>\n",
              "    </tr>\n",
              "  </tbody>\n",
              "</table>"
            ],
            "text/plain": [
              "<IPython.core.display.HTML object>"
            ]
          },
          "metadata": {
            "tags": []
          }
        }
      ]
    },
    {
      "metadata": {
        "id": "5UC95jb47EZc",
        "colab_type": "text"
      },
      "cell_type": "markdown",
      "source": [
        "## **Basic Implementation**"
      ]
    },
    {
      "metadata": {
        "id": "4GWZKS_ezMpr",
        "colab_type": "text"
      },
      "cell_type": "markdown",
      "source": [
        "**Language Model Fine-tuning**"
      ]
    },
    {
      "metadata": {
        "id": "Cd4culRRdcQj",
        "colab_type": "code",
        "colab": {}
      },
      "cell_type": "code",
      "source": [
        "#create learner model using pretrained dataset AWD_LSTM Merity et. al https://arxiv.org/abs/1708.02182 from fastai\n",
        "drop_mult=0.1\n",
        "learn_1 = language_model_learner(data_lm_1, AWD_LSTM, drop_mult=drop_mult)"
      ],
      "execution_count": 0,
      "outputs": []
    },
    {
      "metadata": {
        "id": "ps2c-dZ2SI-d",
        "colab_type": "code",
        "outputId": "e4ae28a3-a3af-44d0-f999-a5830e6eec80",
        "colab": {
          "base_uri": "https://localhost:8080/",
          "height": 459
        }
      },
      "cell_type": "code",
      "source": [
        "#check structue of learner model\n",
        "list(learn_1.model.children())"
      ],
      "execution_count": 0,
      "outputs": [
        {
          "output_type": "execute_result",
          "data": {
            "text/plain": [
              "[AWD_LSTM(\n",
              "   (encoder): Embedding(15095, 400, padding_idx=1)\n",
              "   (encoder_dp): EmbeddingDropout(\n",
              "     (emb): Embedding(15095, 400, padding_idx=1)\n",
              "   )\n",
              "   (rnns): ModuleList(\n",
              "     (0): WeightDropout(\n",
              "       (module): LSTM(400, 1150, batch_first=True)\n",
              "     )\n",
              "     (1): WeightDropout(\n",
              "       (module): LSTM(1150, 1150, batch_first=True)\n",
              "     )\n",
              "     (2): WeightDropout(\n",
              "       (module): LSTM(1150, 400, batch_first=True)\n",
              "     )\n",
              "   )\n",
              "   (input_dp): RNNDropout()\n",
              "   (hidden_dps): ModuleList(\n",
              "     (0): RNNDropout()\n",
              "     (1): RNNDropout()\n",
              "     (2): RNNDropout()\n",
              "   )\n",
              " ), LinearDecoder(\n",
              "   (decoder): Linear(in_features=400, out_features=15095, bias=True)\n",
              "   (output_dp): RNNDropout()\n",
              " )]"
            ]
          },
          "metadata": {
            "tags": []
          },
          "execution_count": 18
        }
      ]
    },
    {
      "metadata": {
        "id": "JfohG0qaevxO",
        "colab_type": "code",
        "outputId": "7bbbda74-d134-4574-9b79-6172ef0b036d",
        "colab": {
          "base_uri": "https://localhost:8080/",
          "height": 378
        }
      },
      "cell_type": "code",
      "source": [
        "#find optimum learning rate\n",
        "learn_1.lr_find()\n",
        "learn_1.recorder.plot()"
      ],
      "execution_count": 0,
      "outputs": [
        {
          "output_type": "display_data",
          "data": {
            "text/html": [
              ""
            ],
            "text/plain": [
              "<IPython.core.display.HTML object>"
            ]
          },
          "metadata": {
            "tags": []
          }
        },
        {
          "output_type": "stream",
          "text": [
            "LR Finder is complete, type {learner_name}.recorder.plot() to see the graph.\n"
          ],
          "name": "stdout"
        },
        {
          "output_type": "display_data",
          "data": {
            "image/png": "[encoded data removed]",
            "text/plain": [
              "<Figure size 576x396 with 1 Axes>"
            ]
          },
          "metadata": {
            "tags": []
          }
        }
      ]
    },
    {
      "metadata": {
        "id": "PgVmxgDuhIAn",
        "colab_type": "code",
        "outputId": "e14b3312-69d9-40b7-9bb0-beb7ba0a0b0e",
        "colab": {
          "base_uri": "https://localhost:8080/",
          "height": 103
        }
      },
      "cell_type": "code",
      "source": [
        "#train model w/ max learning rate 1e-3, one epoch, using fit_one cycle that already provides some regularization \n",
        "learn_1.fit_one_cycle(cyc_len=1, max_lr=1e-3)"
      ],
      "execution_count": 0,
      "outputs": [
        {
          "output_type": "display_data",
          "data": {
            "text/html": [
              "Total time: 00:28 <p><table border=\"1\" class=\"dataframe\">\n",
              "  <thead>\n",
              "    <tr style=\"text-align: left;\">\n",
              "      <th>epoch</th>\n",
              "      <th>train_loss</th>\n",
              "      <th>valid_loss</th>\n",
              "      <th>accuracy</th>\n",
              "      <th>time</th>\n",
              "    </tr>\n",
              "  </thead>\n",
              "  <tbody>\n",
              "    <tr>\n",
              "      <td>1</td>\n",
              "      <td>6.846763</td>\n",
              "      <td>6.320168</td>\n",
              "      <td>0.164035</td>\n",
              "      <td>00:28</td>\n",
              "    </tr>\n",
              "  </tbody>\n",
              "</table>"
            ],
            "text/plain": [
              "<IPython.core.display.HTML object>"
            ]
          },
          "metadata": {
            "tags": []
          }
        }
      ]
    },
    {
      "metadata": {
        "id": "ZkzMuztu6N6l",
        "colab_type": "text"
      },
      "cell_type": "markdown",
      "source": [
        "Model fine-tuned to 16.4% accuracy in one epoch"
      ]
    },
    {
      "metadata": {
        "id": "XKhhWSUiii7a",
        "colab_type": "code",
        "colab": {}
      },
      "cell_type": "code",
      "source": [
        "#Save fine-tuned model to use in classification\n",
        "learn_1.save_encoder('ft_enc')"
      ],
      "execution_count": 0,
      "outputs": []
    },
    {
      "metadata": {
        "id": "PbPxWaJM7uPo",
        "colab_type": "text"
      },
      "cell_type": "markdown",
      "source": [
        "**Train the classifier**"
      ]
    },
    {
      "metadata": {
        "id": "D95zSAm3lWEd",
        "colab_type": "code",
        "colab": {}
      },
      "cell_type": "code",
      "source": [
        "# create classifier using DataBunch created earlier for classification and AWS_LSTM pretrained language model \n",
        "drop_mult = 0.5 \n",
        "learn_1 = text_classifier_learner(data_clas_1, AWD_LSTM, drop_mult=drop_mult)\n",
        "learn_1.load_encoder('ft_enc')# load fine-tuned learner model"
      ],
      "execution_count": 0,
      "outputs": []
    },
    {
      "metadata": {
        "id": "eQq4pIcjfEa7",
        "colab_type": "code",
        "outputId": "5d92b899-00a8-49a3-b8a5-540f27913689",
        "colab": {
          "base_uri": "https://localhost:8080/",
          "height": 378
        }
      },
      "cell_type": "code",
      "source": [
        "#find optimum learning rate\n",
        "learn_1.lr_find()\n",
        "learn_1.recorder.plot()"
      ],
      "execution_count": 0,
      "outputs": [
        {
          "output_type": "display_data",
          "data": {
            "text/html": [
              ""
            ],
            "text/plain": [
              "<IPython.core.display.HTML object>"
            ]
          },
          "metadata": {
            "tags": []
          }
        },
        {
          "output_type": "stream",
          "text": [
            "LR Finder is complete, type {learner_name}.recorder.plot() to see the graph.\n"
          ],
          "name": "stdout"
        },
        {
          "output_type": "display_data",
          "data": {
            "image/png": "[encoded data removed]",
            "text/plain": [
              "<Figure size 576x396 with 1 Axes>"
            ]
          },
          "metadata": {
            "tags": []
          }
        }
      ]
    },
    {
      "metadata": {
        "id": "kgPFYofKfMBz",
        "colab_type": "code",
        "outputId": "2781ba36-f8d6-4fd1-bb8c-facedaf33127",
        "colab": {
          "base_uri": "https://localhost:8080/",
          "height": 103
        }
      },
      "cell_type": "code",
      "source": [
        "#train model w/ max learning rate 1e-3, one epoch, using fit_one cycle that already provides some regularization\n",
        "learn_1.fit_one_cycle(cyc_len=1, max_lr=1e-3)"
      ],
      "execution_count": 0,
      "outputs": [
        {
          "output_type": "display_data",
          "data": {
            "text/html": [
              "Total time: 00:25 <p><table border=\"1\" class=\"dataframe\">\n",
              "  <thead>\n",
              "    <tr style=\"text-align: left;\">\n",
              "      <th>epoch</th>\n",
              "      <th>train_loss</th>\n",
              "      <th>valid_loss</th>\n",
              "      <th>accuracy</th>\n",
              "      <th>time</th>\n",
              "    </tr>\n",
              "  </thead>\n",
              "  <tbody>\n",
              "    <tr>\n",
              "      <td>1</td>\n",
              "      <td>0.557326</td>\n",
              "      <td>0.479571</td>\n",
              "      <td>0.761612</td>\n",
              "      <td>00:25</td>\n",
              "    </tr>\n",
              "  </tbody>\n",
              "</table>"
            ],
            "text/plain": [
              "<IPython.core.display.HTML object>"
            ]
          },
          "metadata": {
            "tags": []
          }
        }
      ]
    },
    {
      "metadata": {
        "id": "kSIYUaoM9IFZ",
        "colab_type": "text"
      },
      "cell_type": "markdown",
      "source": [
        "Basic implementation resulted in** 76.2%** accuracy and validation loss is less than training loss. Let's examine what the model is doing."
      ]
    },
    {
      "metadata": {
        "id": "Np3hjOxI9b2S",
        "colab_type": "text"
      },
      "cell_type": "markdown",
      "source": [
        "**Confusion Matrix**"
      ]
    },
    {
      "metadata": {
        "id": "H0pYvbqk3vzh",
        "colab_type": "code",
        "outputId": "6f43f56b-f4a9-4d97-b654-408c618c2894",
        "colab": {
          "base_uri": "https://localhost:8080/",
          "height": 415
        }
      },
      "cell_type": "code",
      "source": [
        "#create confusion matrix \n",
        "preds_1,y_1,losses_1 = learn_1.get_preds(with_loss=True)\n",
        "interp_1 = ClassificationInterpretation(learn_1, preds_1, y_1, losses_1)\n",
        "interp_1.plot_confusion_matrix()"
      ],
      "execution_count": 0,
      "outputs": [
        {
          "output_type": "display_data",
          "data": {
            "image/png": "[encoded data removed]",
            "text/plain": [
              "<Figure size 576x396 with 1 Axes>"
            ]
          },
          "metadata": {
            "tags": []
          }
        }
      ]
    },
    {
      "metadata": {
        "id": "NdTXYuzu-eWp",
        "colab_type": "text"
      },
      "cell_type": "markdown",
      "source": [
        "This Basic implementation seems to be overclassifying non_negative sentiments (positive and neutral) as negative. Let's take a closer look."
      ]
    },
    {
      "metadata": {
        "id": "GNsRZVB--tGy",
        "colab_type": "text"
      },
      "cell_type": "markdown",
      "source": [
        "**Results**"
      ]
    },
    {
      "metadata": {
        "id": "uR-Q4xNi32dA",
        "colab_type": "code",
        "outputId": "4900e3d2-c8ae-4aae-a5ab-df9878741983",
        "colab": {
          "base_uri": "https://localhost:8080/",
          "height": 119
        }
      },
      "cell_type": "code",
      "source": [
        "#Add predictions to validation dataframe\n",
        "df_val_1['pred'] = df_val_1['text'].apply(lambda row: str(learn_1.predict(row)[0]))"
      ],
      "execution_count": 0,
      "outputs": [
        {
          "output_type": "stream",
          "text": [
            "/usr/local/lib/python3.6/dist-packages/ipykernel_launcher.py:1: SettingWithCopyWarning: \n",
            "A value is trying to be set on a copy of a slice from a DataFrame.\n",
            "Try using .loc[row_indexer,col_indexer] = value instead\n",
            "\n",
            "See the caveats in the documentation: http://pandas.pydata.org/pandas-docs/stable/indexing.html#indexing-view-versus-copy\n",
            "  \"\"\"Entry point for launching an IPython kernel.\n"
          ],
          "name": "stderr"
        }
      ]
    },
    {
      "metadata": {
        "id": "nEGTiESK4frl",
        "colab_type": "code",
        "outputId": "a4ba88f5-8586-4f27-819b-df9ead1e1861",
        "colab": {
          "base_uri": "https://localhost:8080/",
          "height": 204
        }
      },
      "cell_type": "code",
      "source": [
        "#check data frame \n",
        "df_val_1.tail()"
      ],
      "execution_count": 0,
      "outputs": [
        {
          "output_type": "execute_result",
          "data": {
            "text/html": [
              "<div>\n",
              "<style scoped>\n",
              "    .dataframe tbody tr th:only-of-type {\n",
              "        vertical-align: middle;\n",
              "    }\n",
              "\n",
              "    .dataframe tbody tr th {\n",
              "        vertical-align: top;\n",
              "    }\n",
              "\n",
              "    .dataframe thead th {\n",
              "        text-align: right;\n",
              "    }\n",
              "</style>\n",
              "<table border=\"1\" class=\"dataframe\">\n",
              "  <thead>\n",
              "    <tr style=\"text-align: right;\">\n",
              "      <th></th>\n",
              "      <th>label</th>\n",
              "      <th>text</th>\n",
              "      <th>pred</th>\n",
              "    </tr>\n",
              "  </thead>\n",
              "  <tbody>\n",
              "    <tr>\n",
              "      <th>12811</th>\n",
              "      <td>non_neg</td>\n",
              "      <td>@AmericanAir um no just hanging out what’s new...</td>\n",
              "      <td>neg</td>\n",
              "    </tr>\n",
              "    <tr>\n",
              "      <th>2250</th>\n",
              "      <td>neg</td>\n",
              "      <td>@united Flight has been delayed for another ho...</td>\n",
              "      <td>neg</td>\n",
              "    </tr>\n",
              "    <tr>\n",
              "      <th>5323</th>\n",
              "      <td>neg</td>\n",
              "      <td>.@SouthwestAir received an error online and ha...</td>\n",
              "      <td>neg</td>\n",
              "    </tr>\n",
              "    <tr>\n",
              "      <th>9534</th>\n",
              "      <td>neg</td>\n",
              "      <td>@USAirways What is going on with flight 1826 f...</td>\n",
              "      <td>neg</td>\n",
              "    </tr>\n",
              "    <tr>\n",
              "      <th>10679</th>\n",
              "      <td>neg</td>\n",
              "      <td>@USAirways How dirty does the damn plane have ...</td>\n",
              "      <td>neg</td>\n",
              "    </tr>\n",
              "  </tbody>\n",
              "</table>\n",
              "</div>"
            ],
            "text/plain": [
              "         label                                               text pred\n",
              "12811  non_neg  @AmericanAir um no just hanging out what’s new...  neg\n",
              "2250       neg  @united Flight has been delayed for another ho...  neg\n",
              "5323       neg  .@SouthwestAir received an error online and ha...  neg\n",
              "9534       neg  @USAirways What is going on with flight 1826 f...  neg\n",
              "10679      neg  @USAirways How dirty does the damn plane have ...  neg"
            ]
          },
          "metadata": {
            "tags": []
          },
          "execution_count": 27
        }
      ]
    },
    {
      "metadata": {
        "id": "pZI-tbf5BpXO",
        "colab_type": "code",
        "outputId": "60312273-ebd1-46f1-84a0-cf89b7f27a32",
        "colab": {
          "base_uri": "https://localhost:8080/",
          "height": 153
        }
      },
      "cell_type": "code",
      "source": [
        "#check dataframe info (nulls, colums, types)\n",
        "df_val_1.info()"
      ],
      "execution_count": 0,
      "outputs": [
        {
          "output_type": "stream",
          "text": [
            "<class 'pandas.core.frame.DataFrame'>\n",
            "Int64Index: 1464 entries, 12229 to 10679\n",
            "Data columns (total 3 columns):\n",
            "label    1464 non-null object\n",
            "text     1464 non-null object\n",
            "pred     1464 non-null object\n",
            "dtypes: object(3)\n",
            "memory usage: 45.8+ KB\n"
          ],
          "name": "stdout"
        }
      ]
    },
    {
      "metadata": {
        "id": "wJiQbey2bjkT",
        "colab_type": "code",
        "outputId": "d6eae31a-e696-4e89-e36e-0ddd9b10ce15",
        "colab": {
          "base_uri": "https://localhost:8080/",
          "height": 418
        }
      },
      "cell_type": "code",
      "source": [
        "#plot sentiment count for predictions, targets and incorrect predictions.\n",
        "fig, axarr = plt.subplots(1, 3, figsize=(12, 6), sharey=True)\n",
        "\n",
        "df_val_1.pred.value_counts().sort_index().plot.bar(\n",
        "    ax=axarr[0]\n",
        ")\n",
        "axarr[0].set_title(\"Sentiment count for predicted values\")\n",
        "\n",
        "df_val_1.label.value_counts().sort_index().plot.bar(\n",
        "    ax=axarr[1]\n",
        ")\n",
        "axarr[1].set_title(\"Sentiment count for target values\")\n",
        "\n",
        "df_val_1[df_val_1.label!= df_val_1.pred].label.value_counts().sort_index().plot.bar(\n",
        "    ax=axarr[2]\n",
        ")\n",
        "axarr[2].set_title(\"Sentiment count for incorrect predictions\");\n"
      ],
      "execution_count": 0,
      "outputs": [
        {
          "output_type": "display_data",
          "data": {
            "image/png": "[encoded data removed]",
            "text/plain": [
              "<Figure size 864x432 with 3 Axes>"
            ]
          },
          "metadata": {
            "tags": []
          }
        }
      ]
    },
    {
      "metadata": {
        "id": "soFfJOZP_l7X",
        "colab_type": "text"
      },
      "cell_type": "markdown",
      "source": [
        "This confirms that our model is overpredicting negative values (or incorrectly classifying non_negative values as negatives). Let's check the Tweets."
      ]
    },
    {
      "metadata": {
        "id": "Ot2nacXJDoCJ",
        "colab_type": "code",
        "outputId": "8569e913-6460-49da-dcc6-d1a089b36fc4",
        "colab": {
          "base_uri": "https://localhost:8080/",
          "height": 359
        }
      },
      "cell_type": "code",
      "source": [
        "#check a sample of incorrectly classified tweets.\n",
        "df_val_1[df_val_1.label!= df_val_1.pred].tail(10)"
      ],
      "execution_count": 0,
      "outputs": [
        {
          "output_type": "execute_result",
          "data": {
            "text/html": [
              "<div>\n",
              "<style scoped>\n",
              "    .dataframe tbody tr th:only-of-type {\n",
              "        vertical-align: middle;\n",
              "    }\n",
              "\n",
              "    .dataframe tbody tr th {\n",
              "        vertical-align: top;\n",
              "    }\n",
              "\n",
              "    .dataframe thead th {\n",
              "        text-align: right;\n",
              "    }\n",
              "</style>\n",
              "<table border=\"1\" class=\"dataframe\">\n",
              "  <thead>\n",
              "    <tr style=\"text-align: right;\">\n",
              "      <th></th>\n",
              "      <th>label</th>\n",
              "      <th>text</th>\n",
              "      <th>pred</th>\n",
              "    </tr>\n",
              "  </thead>\n",
              "  <tbody>\n",
              "    <tr>\n",
              "      <th>773</th>\n",
              "      <td>non_neg</td>\n",
              "      <td>@united flight ua3576, gate b1. And tell ray I...</td>\n",
              "      <td>neg</td>\n",
              "    </tr>\n",
              "    <tr>\n",
              "      <th>919</th>\n",
              "      <td>neg</td>\n",
              "      <td>@united empathizes w/ my disappointment that 1...</td>\n",
              "      <td>non_neg</td>\n",
              "    </tr>\n",
              "    <tr>\n",
              "      <th>127</th>\n",
              "      <td>non_neg</td>\n",
              "      <td>@VirginAmerica completely awesome experience l...</td>\n",
              "      <td>neg</td>\n",
              "    </tr>\n",
              "    <tr>\n",
              "      <th>4573</th>\n",
              "      <td>non_neg</td>\n",
              "      <td>@SouthwestAir can you tell me if flight 805 fr...</td>\n",
              "      <td>neg</td>\n",
              "    </tr>\n",
              "    <tr>\n",
              "      <th>6846</th>\n",
              "      <td>non_neg</td>\n",
              "      <td>@JetBlue Hi there, any rough idea of when Janu...</td>\n",
              "      <td>neg</td>\n",
              "    </tr>\n",
              "    <tr>\n",
              "      <th>5016</th>\n",
              "      <td>non_neg</td>\n",
              "      <td>@SouthwestAir last week I flew from DAL to LAX...</td>\n",
              "      <td>neg</td>\n",
              "    </tr>\n",
              "    <tr>\n",
              "      <th>7453</th>\n",
              "      <td>non_neg</td>\n",
              "      <td>@JetBlue what a great experience on flight fro...</td>\n",
              "      <td>neg</td>\n",
              "    </tr>\n",
              "    <tr>\n",
              "      <th>5680</th>\n",
              "      <td>non_neg</td>\n",
              "      <td>@SouthwestAir sent</td>\n",
              "      <td>neg</td>\n",
              "    </tr>\n",
              "    <tr>\n",
              "      <th>9394</th>\n",
              "      <td>non_neg</td>\n",
              "      <td>@USAirways @AmericanAir shout out to Diane at ...</td>\n",
              "      <td>neg</td>\n",
              "    </tr>\n",
              "    <tr>\n",
              "      <th>12811</th>\n",
              "      <td>non_neg</td>\n",
              "      <td>@AmericanAir um no just hanging out what’s new...</td>\n",
              "      <td>neg</td>\n",
              "    </tr>\n",
              "  </tbody>\n",
              "</table>\n",
              "</div>"
            ],
            "text/plain": [
              "         label                                               text     pred\n",
              "773    non_neg  @united flight ua3576, gate b1. And tell ray I...      neg\n",
              "919        neg  @united empathizes w/ my disappointment that 1...  non_neg\n",
              "127    non_neg  @VirginAmerica completely awesome experience l...      neg\n",
              "4573   non_neg  @SouthwestAir can you tell me if flight 805 fr...      neg\n",
              "6846   non_neg  @JetBlue Hi there, any rough idea of when Janu...      neg\n",
              "5016   non_neg  @SouthwestAir last week I flew from DAL to LAX...      neg\n",
              "7453   non_neg  @JetBlue what a great experience on flight fro...      neg\n",
              "5680   non_neg                                 @SouthwestAir sent      neg\n",
              "9394   non_neg  @USAirways @AmericanAir shout out to Diane at ...      neg\n",
              "12811  non_neg  @AmericanAir um no just hanging out what’s new...      neg"
            ]
          },
          "metadata": {
            "tags": []
          },
          "execution_count": 30
        }
      ]
    },
    {
      "metadata": {
        "id": "OghMfqlID3h5",
        "colab_type": "code",
        "outputId": "cfcb8c6f-5c8e-4fbb-f3b2-b0cff101b3f9",
        "colab": {
          "base_uri": "https://localhost:8080/",
          "height": 34
        }
      },
      "cell_type": "code",
      "source": [
        "#negative tweet predicted as non_negative\n",
        "df_val_1.loc[919].text"
      ],
      "execution_count": 0,
      "outputs": [
        {
          "output_type": "execute_result",
          "data": {
            "text/plain": [
              "'@united empathizes w/ my disappointment that 1stClass flight w/nonworking entertainmnt is worth $50. #UnFriendlySkies http://t.co/lOecO4gmvd'"
            ]
          },
          "metadata": {
            "tags": []
          },
          "execution_count": 31
        }
      ]
    },
    {
      "metadata": {
        "id": "Ca_FAJpzAwZy",
        "colab_type": "text"
      },
      "cell_type": "markdown",
      "source": [
        "Tweet above is predicted as non_negative. Model seems to be picking the work \"empathize\" over the rest for classifying."
      ]
    },
    {
      "metadata": {
        "id": "e_3Ak-kVExm1",
        "colab_type": "code",
        "outputId": "ebe80117-acc4-41aa-a0cd-ff96b4495fbd",
        "colab": {
          "base_uri": "https://localhost:8080/",
          "height": 34
        }
      },
      "cell_type": "code",
      "source": [
        "#non_negative tweet predicted as negative\n",
        "df_val_1.loc[7453].text"
      ],
      "execution_count": 0,
      "outputs": [
        {
          "output_type": "execute_result",
          "data": {
            "text/plain": [
              "'@JetBlue what a great experience on flight from SFO to JFK; seats, service, food, everything is top quality. I will be back. Very soon!'"
            ]
          },
          "metadata": {
            "tags": []
          },
          "execution_count": 32
        }
      ]
    },
    {
      "metadata": {
        "id": "2KKsh7dPAVfm",
        "colab_type": "text"
      },
      "cell_type": "markdown",
      "source": [
        "This tweet above is predicted as negative. Which baffles me, as there are no negative words. Maybe model doesn't know what to do with words ike SFO and JFK."
      ]
    },
    {
      "metadata": {
        "id": "4-BPqULBc-Io",
        "colab_type": "code",
        "outputId": "85e0a63a-bc64-470c-8486-56cbbdb5d3b6",
        "colab": {
          "base_uri": "https://localhost:8080/",
          "height": 34
        }
      },
      "cell_type": "code",
      "source": [
        "#non_negative tweet predicted as negative\n",
        "df_val_1.loc[12811].text"
      ],
      "execution_count": 0,
      "outputs": [
        {
          "output_type": "execute_result",
          "data": {
            "text/plain": [
              "'@AmericanAir um no just hanging out what’s new w you?'"
            ]
          },
          "metadata": {
            "tags": []
          },
          "execution_count": 33
        }
      ]
    },
    {
      "metadata": {
        "id": "xPEeKAVOBP1W",
        "colab_type": "text"
      },
      "cell_type": "markdown",
      "source": [
        "Another non_negative (neutral) tweet predicted as negative. Model seems to be using the word no to determine that this is a negative tweet."
      ]
    },
    {
      "metadata": {
        "id": "nnE3zwlOBq0s",
        "colab_type": "text"
      },
      "cell_type": "markdown",
      "source": [
        "Model can definetly be improved by using Deep Learning Hyper-parametric fine-tuning techniques."
      ]
    },
    {
      "metadata": {
        "id": "et6leFyhCrPz",
        "colab_type": "text"
      },
      "cell_type": "markdown",
      "source": [
        "## **Improved Implementation**"
      ]
    },
    {
      "metadata": {
        "id": "jwEQUn2KDjIg",
        "colab_type": "text"
      },
      "cell_type": "markdown",
      "source": [
        "**Preprocess Data for ULMfiT**"
      ]
    },
    {
      "metadata": {
        "colab_type": "code",
        "outputId": "ff0d92e6-de54-465d-8c6f-1b7fae1c0e25",
        "id": "1x2CSxJVnpku",
        "colab": {
          "base_uri": "https://localhost:8080/",
          "height": 34
        }
      },
      "cell_type": "code",
      "source": [
        "#split data into train 90%, validate 10% as per fastai deep_learning course (lesson 10)\n",
        "df_trn_2, df_val_2 = train_test_split(data_df, stratify=data_df['label'], test_size = 0.1, random_state = 83)\n",
        "\n",
        "df_trn_2.shape, df_val_2.shape"
      ],
      "execution_count": 0,
      "outputs": [
        {
          "output_type": "execute_result",
          "data": {
            "text/plain": [
              "((13176, 2), (1464, 2))"
            ]
          },
          "metadata": {
            "tags": []
          },
          "execution_count": 34
        }
      ]
    },
    {
      "metadata": {
        "colab_type": "code",
        "id": "93yU-SYqnpkz",
        "colab": {}
      },
      "cell_type": "code",
      "source": [
        "#select batch-size for classifier\n",
        "bs=32 #default for TextClasDataBunch\n",
        "# create a DataBunch (fastai data object) for Language Model\n",
        "data_lm_2 = TextLMDataBunch.from_df(train_df = df_trn_2, valid_df = df_val_2, path = \"\", min_freq=1)\n",
        "\n",
        "# create a DataBunch (fastai data object) for RNN classifier using vocab from language model\n",
        "data_clas_2 = TextClasDataBunch.from_df(path = \"\", train_df = df_trn_2, valid_df = df_val_2, vocab=data_lm_2.train_ds.vocab, bs=bs, min_freq=1)"
      ],
      "execution_count": 0,
      "outputs": []
    },
    {
      "metadata": {
        "colab_type": "code",
        "outputId": "ba09d02f-5812-45cd-b9ce-dbbea054ee60",
        "id": "4T_Lnc5Vnpkz",
        "colab": {
          "base_uri": "https://localhost:8080/",
          "height": 289
        }
      },
      "cell_type": "code",
      "source": [
        "# check how data looks after preprocessing\n",
        "data_lm_2.show_batch()"
      ],
      "execution_count": 0,
      "outputs": [
        {
          "output_type": "display_data",
          "data": {
            "text/html": [
              "<table border=\"1\" class=\"dataframe\">\n",
              "  <thead>\n",
              "    <tr style=\"text-align: right;\">\n",
              "      <th>idx</th>\n",
              "      <th>text</th>\n",
              "    </tr>\n",
              "  </thead>\n",
              "  <tbody>\n",
              "    <tr>\n",
              "      <td>0</td>\n",
              "      <td>book a flight because of outdated , forced opt - in \" xxmaj verified by xxmaj visa \" nonsense . xxmaj help a girl out ? i just want to get to @sxsw xxbos @united just 1 last thing . u guys should n't be charging $ for drinks on a transatlantic flight xxbos @americanair what 's the status of flight 1357 out of sju ? xxbos @americanair good care</td>\n",
              "    </tr>\n",
              "    <tr>\n",
              "      <td>1</td>\n",
              "      <td>you clearly did n't care about our troubles yday thought i 'd share bags took &gt; 90min and came back absolutely drenched .. xxbos @americanair well we cleared customs in xxup auh . i need to get to xxup iah after i arrive in xxup dfw . xxmaj is it possible to retrieve my luggage in xxup iad ? xxbos @usairways the flight that i did not connect to was</td>\n",
              "    </tr>\n",
              "    <tr>\n",
              "      <td>2</td>\n",
              "      <td>is beyond ridiculous . xxmaj some steering problem delays us again . # neveragain it 's no wonder you had to sell xxbos @united xxmaj what a really xxup great &amp; &amp; xxup flattering story about you ! xxmaj you should be very proud :) http : / / t.co / oktukjy92o ( via @parachuteguy ) xxbos @virginamerica i applied over 2 weeks ago . xxmaj have n't heard back</td>\n",
              "    </tr>\n",
              "    <tr>\n",
              "      <td>3</td>\n",
              "      <td>@united just got my lost xxmaj kindle in the mail ! xxmaj thanks again . xxbos @jetblue xxmaj yep , still waiting for bags at # xxup jfk . xxmaj what 's the holdup ? xxmaj looks like we are the only flight that got in at this time .. ? ? xxbos @united xxmaj do you have any flights with lie flat seating from xxup stl to xxup pdx</td>\n",
              "    </tr>\n",
              "    <tr>\n",
              "      <td>4</td>\n",
              "      <td>xxmaj please than xxmaj robin at xxup ewr xxmaj premiere xxmaj desk for helping me get on a an earlier flight . xxmaj she did the work . xxmaj huge thanks . xxbos @jetblue xxup @tsa jetblue never disappoints ! xxbos @usairways xxup us 728 / xxmaj feb 21 . xxmaj arrive 7 hrs xxmaj late xxmaj flight ; checked car seat missing . xxmaj no replacement available . xxmaj</td>\n",
              "    </tr>\n",
              "  </tbody>\n",
              "</table>"
            ],
            "text/plain": [
              "<IPython.core.display.HTML object>"
            ]
          },
          "metadata": {
            "tags": []
          }
        }
      ]
    },
    {
      "metadata": {
        "id": "dZd_1K4XEf9G",
        "colab_type": "text"
      },
      "cell_type": "markdown",
      "source": [
        "**Language Model Fine-tuning**"
      ]
    },
    {
      "metadata": {
        "colab_type": "code",
        "id": "I_8ciJK-npk1",
        "colab": {}
      },
      "cell_type": "code",
      "source": [
        "#create learner model using pretrained dataset AWD_LSTM Merity et. al https://arxiv.org/abs/1708.02182 from fastai\n",
        "drop_mult=0.1\n",
        "learn_2 = language_model_learner(data_lm_2, AWD_LSTM, drop_mult=drop_mult)"
      ],
      "execution_count": 0,
      "outputs": []
    },
    {
      "metadata": {
        "colab_type": "code",
        "outputId": "25307b6d-26a1-4340-8ee0-c9c132eda372",
        "id": "iIv-YdVrnpk3",
        "colab": {
          "base_uri": "https://localhost:8080/",
          "height": 459
        }
      },
      "cell_type": "code",
      "source": [
        "#check structue of learner model\n",
        "list(learn_2.model.children())"
      ],
      "execution_count": 0,
      "outputs": [
        {
          "output_type": "execute_result",
          "data": {
            "text/plain": [
              "[AWD_LSTM(\n",
              "   (encoder): Embedding(15095, 400, padding_idx=1)\n",
              "   (encoder_dp): EmbeddingDropout(\n",
              "     (emb): Embedding(15095, 400, padding_idx=1)\n",
              "   )\n",
              "   (rnns): ModuleList(\n",
              "     (0): WeightDropout(\n",
              "       (module): LSTM(400, 1150, batch_first=True)\n",
              "     )\n",
              "     (1): WeightDropout(\n",
              "       (module): LSTM(1150, 1150, batch_first=True)\n",
              "     )\n",
              "     (2): WeightDropout(\n",
              "       (module): LSTM(1150, 400, batch_first=True)\n",
              "     )\n",
              "   )\n",
              "   (input_dp): RNNDropout()\n",
              "   (hidden_dps): ModuleList(\n",
              "     (0): RNNDropout()\n",
              "     (1): RNNDropout()\n",
              "     (2): RNNDropout()\n",
              "   )\n",
              " ), LinearDecoder(\n",
              "   (decoder): Linear(in_features=400, out_features=15095, bias=True)\n",
              "   (output_dp): RNNDropout()\n",
              " )]"
            ]
          },
          "metadata": {
            "tags": []
          },
          "execution_count": 38
        }
      ]
    },
    {
      "metadata": {
        "colab_type": "code",
        "outputId": "81db60d5-bb12-4652-e4b2-7aa89ba8535f",
        "id": "cjmu-Pwonpk5",
        "colab": {
          "base_uri": "https://localhost:8080/",
          "height": 378
        }
      },
      "cell_type": "code",
      "source": [
        "#find optimum learning rate\n",
        "learn_2.lr_find(start_lr=1e-8, end_lr=1e2)\n",
        "learn_2.recorder.plot()"
      ],
      "execution_count": 0,
      "outputs": [
        {
          "output_type": "display_data",
          "data": {
            "text/html": [
              ""
            ],
            "text/plain": [
              "<IPython.core.display.HTML object>"
            ]
          },
          "metadata": {
            "tags": []
          }
        },
        {
          "output_type": "stream",
          "text": [
            "LR Finder is complete, type {learner_name}.recorder.plot() to see the graph.\n"
          ],
          "name": "stdout"
        },
        {
          "output_type": "display_data",
          "data": {
            "image/png": "[encoded data removed]",
            "text/plain": [
              "<Figure size 576x396 with 1 Axes>"
            ]
          },
          "metadata": {
            "tags": []
          }
        }
      ]
    },
    {
      "metadata": {
        "colab_type": "code",
        "outputId": "082ce8af-6250-494b-e05f-58b22b7f722a",
        "id": "88tPkEnXnpk6",
        "colab": {
          "base_uri": "https://localhost:8080/",
          "height": 103
        }
      },
      "cell_type": "code",
      "source": [
        "#train model w/ max learning rate 1e-3, one epoch, using fit_one cycle that already provides some regularization\n",
        "# include moms to decrease momentum so that we train faster and don't overshoot target\n",
        "learn_2.fit_one_cycle(cyc_len=1, max_lr=1e-3, moms=(0.8, 0.7))"
      ],
      "execution_count": 0,
      "outputs": [
        {
          "output_type": "display_data",
          "data": {
            "text/html": [
              "Total time: 00:28 <p><table border=\"1\" class=\"dataframe\">\n",
              "  <thead>\n",
              "    <tr style=\"text-align: left;\">\n",
              "      <th>epoch</th>\n",
              "      <th>train_loss</th>\n",
              "      <th>valid_loss</th>\n",
              "      <th>accuracy</th>\n",
              "      <th>time</th>\n",
              "    </tr>\n",
              "  </thead>\n",
              "  <tbody>\n",
              "    <tr>\n",
              "      <td>1</td>\n",
              "      <td>6.816808</td>\n",
              "      <td>6.281889</td>\n",
              "      <td>0.164844</td>\n",
              "      <td>00:28</td>\n",
              "    </tr>\n",
              "  </tbody>\n",
              "</table>"
            ],
            "text/plain": [
              "<IPython.core.display.HTML object>"
            ]
          },
          "metadata": {
            "tags": []
          }
        }
      ]
    },
    {
      "metadata": {
        "id": "vNzPTvlGF9w3",
        "colab_type": "text"
      },
      "cell_type": "markdown",
      "source": [
        "Accuracy is **16.5%**,  almost the same accuracy as with the basic implementation. So we unfreeze the model and continue training. "
      ]
    },
    {
      "metadata": {
        "id": "JDtFaiYAhVIm",
        "colab_type": "code",
        "outputId": "9201bd87-c1cc-4c40-d0d1-cac2c535c8f9",
        "colab": {
          "base_uri": "https://localhost:8080/",
          "height": 537
        }
      },
      "cell_type": "code",
      "source": [
        "# unfreeze model and continue training for 15 epochs\n",
        "learn_2.unfreeze()\n",
        "learn_2.fit_one_cycle(cyc_len=15, max_lr=1e-3, moms=(0.8, 0.7))"
      ],
      "execution_count": 0,
      "outputs": [
        {
          "output_type": "display_data",
          "data": {
            "text/html": [
              "Total time: 08:54 <p><table border=\"1\" class=\"dataframe\">\n",
              "  <thead>\n",
              "    <tr style=\"text-align: left;\">\n",
              "      <th>epoch</th>\n",
              "      <th>train_loss</th>\n",
              "      <th>valid_loss</th>\n",
              "      <th>accuracy</th>\n",
              "      <th>time</th>\n",
              "    </tr>\n",
              "  </thead>\n",
              "  <tbody>\n",
              "    <tr>\n",
              "      <td>1</td>\n",
              "      <td>5.786323</td>\n",
              "      <td>5.217152</td>\n",
              "      <td>0.206083</td>\n",
              "      <td>00:35</td>\n",
              "    </tr>\n",
              "    <tr>\n",
              "      <td>2</td>\n",
              "      <td>5.168601</td>\n",
              "      <td>4.476050</td>\n",
              "      <td>0.244838</td>\n",
              "      <td>00:35</td>\n",
              "    </tr>\n",
              "    <tr>\n",
              "      <td>3</td>\n",
              "      <td>4.600520</td>\n",
              "      <td>4.193370</td>\n",
              "      <td>0.263728</td>\n",
              "      <td>00:35</td>\n",
              "    </tr>\n",
              "    <tr>\n",
              "      <td>4</td>\n",
              "      <td>4.232181</td>\n",
              "      <td>4.059202</td>\n",
              "      <td>0.271987</td>\n",
              "      <td>00:35</td>\n",
              "    </tr>\n",
              "    <tr>\n",
              "      <td>5</td>\n",
              "      <td>3.968616</td>\n",
              "      <td>3.984220</td>\n",
              "      <td>0.279325</td>\n",
              "      <td>00:35</td>\n",
              "    </tr>\n",
              "    <tr>\n",
              "      <td>6</td>\n",
              "      <td>3.683970</td>\n",
              "      <td>3.980080</td>\n",
              "      <td>0.279213</td>\n",
              "      <td>00:35</td>\n",
              "    </tr>\n",
              "    <tr>\n",
              "      <td>7</td>\n",
              "      <td>3.419349</td>\n",
              "      <td>4.019758</td>\n",
              "      <td>0.279269</td>\n",
              "      <td>00:35</td>\n",
              "    </tr>\n",
              "    <tr>\n",
              "      <td>8</td>\n",
              "      <td>3.139668</td>\n",
              "      <td>4.090762</td>\n",
              "      <td>0.274693</td>\n",
              "      <td>00:35</td>\n",
              "    </tr>\n",
              "    <tr>\n",
              "      <td>9</td>\n",
              "      <td>2.893517</td>\n",
              "      <td>4.186374</td>\n",
              "      <td>0.270480</td>\n",
              "      <td>00:35</td>\n",
              "    </tr>\n",
              "    <tr>\n",
              "      <td>10</td>\n",
              "      <td>2.677337</td>\n",
              "      <td>4.283485</td>\n",
              "      <td>0.266769</td>\n",
              "      <td>00:35</td>\n",
              "    </tr>\n",
              "    <tr>\n",
              "      <td>11</td>\n",
              "      <td>2.496191</td>\n",
              "      <td>4.355929</td>\n",
              "      <td>0.265653</td>\n",
              "      <td>00:35</td>\n",
              "    </tr>\n",
              "    <tr>\n",
              "      <td>12</td>\n",
              "      <td>2.358597</td>\n",
              "      <td>4.417377</td>\n",
              "      <td>0.264118</td>\n",
              "      <td>00:35</td>\n",
              "    </tr>\n",
              "    <tr>\n",
              "      <td>13</td>\n",
              "      <td>2.263529</td>\n",
              "      <td>4.451635</td>\n",
              "      <td>0.262556</td>\n",
              "      <td>00:35</td>\n",
              "    </tr>\n",
              "    <tr>\n",
              "      <td>14</td>\n",
              "      <td>2.197251</td>\n",
              "      <td>4.475811</td>\n",
              "      <td>0.261468</td>\n",
              "      <td>00:35</td>\n",
              "    </tr>\n",
              "    <tr>\n",
              "      <td>15</td>\n",
              "      <td>2.166765</td>\n",
              "      <td>4.483233</td>\n",
              "      <td>0.260826</td>\n",
              "      <td>00:35</td>\n",
              "    </tr>\n",
              "  </tbody>\n",
              "</table>"
            ],
            "text/plain": [
              "<IPython.core.display.HTML object>"
            ]
          },
          "metadata": {
            "tags": []
          }
        }
      ]
    },
    {
      "metadata": {
        "id": "bJqqP1Y8GuLs",
        "colab_type": "text"
      },
      "cell_type": "markdown",
      "source": [
        "Accuracy increase  to **26.1%** and validation loss decreased from  **6.28** to **4.48.**"
      ]
    },
    {
      "metadata": {
        "colab_type": "code",
        "id": "2-ZcKzXDnpk-",
        "colab": {}
      },
      "cell_type": "code",
      "source": [
        "#save fine-tuned model to use for classification \n",
        "learn_2.save_encoder('ft_enc')"
      ],
      "execution_count": 0,
      "outputs": []
    },
    {
      "metadata": {
        "id": "NeRnSt8WHQcs",
        "colab_type": "text"
      },
      "cell_type": "markdown",
      "source": [
        "**Train the classifier**"
      ]
    },
    {
      "metadata": {
        "colab_type": "code",
        "id": "-ZeMXFHWnpk_",
        "colab": {}
      },
      "cell_type": "code",
      "source": [
        "# create classifier using DataBunch created earlier for classification and AWS_LSTM pretrained language model \n",
        "drop_mult = 0.5\n",
        "learn_2 = text_classifier_learner(data_clas_2, AWD_LSTM, drop_mult=drop_mult)\n",
        "learn_2.load_encoder('ft_enc')"
      ],
      "execution_count": 0,
      "outputs": []
    },
    {
      "metadata": {
        "id": "viXhevbzliSj",
        "colab_type": "code",
        "colab": {}
      },
      "cell_type": "code",
      "source": [
        "#freeze learning \n",
        "learn_2.freeze()\n",
        "\n"
      ],
      "execution_count": 0,
      "outputs": []
    },
    {
      "metadata": {
        "id": "Gr4sOQzpH31C",
        "colab_type": "text"
      },
      "cell_type": "markdown",
      "source": [
        "I'll apply gradual unfreezing as it is shown to improve accuracy https://arxiv.org/abs/1801.06146"
      ]
    },
    {
      "metadata": {
        "colab_type": "code",
        "outputId": "02b2c05e-56ad-45f6-976a-a864123285d4",
        "id": "rPcuq2ganplD",
        "colab": {
          "base_uri": "https://localhost:8080/",
          "height": 378
        }
      },
      "cell_type": "code",
      "source": [
        "#find optimum learning rate\n",
        "learn_2.lr_find(start_lr=1e-8, end_lr=1e2)\n",
        "learn_2.recorder.plot()"
      ],
      "execution_count": 0,
      "outputs": [
        {
          "output_type": "display_data",
          "data": {
            "text/html": [
              ""
            ],
            "text/plain": [
              "<IPython.core.display.HTML object>"
            ]
          },
          "metadata": {
            "tags": []
          }
        },
        {
          "output_type": "stream",
          "text": [
            "LR Finder is complete, type {learner_name}.recorder.plot() to see the graph.\n"
          ],
          "name": "stdout"
        },
        {
          "output_type": "display_data",
          "data": {
            "image/png": "[encoded data removed]",
            "text/plain": [
              "<Figure size 576x396 with 1 Axes>"
            ]
          },
          "metadata": {
            "tags": []
          }
        }
      ]
    },
    {
      "metadata": {
        "colab_type": "code",
        "outputId": "ba173f7f-6d0e-4edb-b719-a1b031690732",
        "id": "65PSDpuonplF",
        "colab": {
          "base_uri": "https://localhost:8080/",
          "height": 103
        }
      },
      "cell_type": "code",
      "source": [
        "#train model w/ max learning rate 1e-3, one epoch, using fit_one cycle that already provides some regularization\n",
        "# include moms to decrease momentum so that we train faster and don't overshoot target\n",
        "learn_2.fit_one_cycle(cyc_len=1, max_lr=1e-3, moms=(0.8, 0.7))"
      ],
      "execution_count": 0,
      "outputs": [
        {
          "output_type": "display_data",
          "data": {
            "text/html": [
              "Total time: 00:24 <p><table border=\"1\" class=\"dataframe\">\n",
              "  <thead>\n",
              "    <tr style=\"text-align: left;\">\n",
              "      <th>epoch</th>\n",
              "      <th>train_loss</th>\n",
              "      <th>valid_loss</th>\n",
              "      <th>accuracy</th>\n",
              "      <th>time</th>\n",
              "    </tr>\n",
              "  </thead>\n",
              "  <tbody>\n",
              "    <tr>\n",
              "      <td>1</td>\n",
              "      <td>0.546112</td>\n",
              "      <td>0.455472</td>\n",
              "      <td>0.781421</td>\n",
              "      <td>00:24</td>\n",
              "    </tr>\n",
              "  </tbody>\n",
              "</table>"
            ],
            "text/plain": [
              "<IPython.core.display.HTML object>"
            ]
          },
          "metadata": {
            "tags": []
          }
        }
      ]
    },
    {
      "metadata": {
        "id": "JfpMoU5yJ9B5",
        "colab_type": "text"
      },
      "cell_type": "markdown",
      "source": [
        "This already shows imporvement from Basic Implementation with accuracy of **78.1%** vs. **76.2%**. Lets continue training classifier."
      ]
    },
    {
      "metadata": {
        "id": "99A9fwtKl6s6",
        "colab_type": "code",
        "outputId": "d1d3013e-cfd3-4123-faec-e258a0f6b293",
        "colab": {
          "base_uri": "https://localhost:8080/",
          "height": 103
        }
      },
      "cell_type": "code",
      "source": [
        "#Unfreeze  one layer\n",
        "#train model one epoch, using fit_one cycle that already provides some regularization\n",
        "# using a different learning rates for each layer for fine-tuning\n",
        "# include moms to decrease momentum so that we train faster and don't overshoot target\n",
        "learn_2.freeze_to(-2)\n",
        "learn_2.fit_one_cycle(1, slice(1e-4,1e-2), moms=(0.8,0.7))"
      ],
      "execution_count": 0,
      "outputs": [
        {
          "output_type": "display_data",
          "data": {
            "text/html": [
              "Total time: 00:28 <p><table border=\"1\" class=\"dataframe\">\n",
              "  <thead>\n",
              "    <tr style=\"text-align: left;\">\n",
              "      <th>epoch</th>\n",
              "      <th>train_loss</th>\n",
              "      <th>valid_loss</th>\n",
              "      <th>accuracy</th>\n",
              "      <th>time</th>\n",
              "    </tr>\n",
              "  </thead>\n",
              "  <tbody>\n",
              "    <tr>\n",
              "      <td>1</td>\n",
              "      <td>0.503972</td>\n",
              "      <td>0.398741</td>\n",
              "      <td>0.814208</td>\n",
              "      <td>00:28</td>\n",
              "    </tr>\n",
              "  </tbody>\n",
              "</table>"
            ],
            "text/plain": [
              "<IPython.core.display.HTML object>"
            ]
          },
          "metadata": {
            "tags": []
          }
        }
      ]
    },
    {
      "metadata": {
        "id": "A-Cx8F-TmaXK",
        "colab_type": "code",
        "outputId": "8062d6f8-b870-4fd0-fda5-0609d6ca6a8d",
        "colab": {
          "base_uri": "https://localhost:8080/",
          "height": 103
        }
      },
      "cell_type": "code",
      "source": [
        "#Unfreeze  additional layer\n",
        "#train model one epoch, using fit_one cycle that already provides some regularization\n",
        "# using a different learning rates for each layer for fine-tuning\n",
        "# include moms to decrease momentum so that we train faster and don't overshoot target\n",
        "learn_2.freeze_to(-3)\n",
        "learn_2.fit_one_cycle(1, slice(1e-5,5e-3), moms=(0.8,0.7))"
      ],
      "execution_count": 0,
      "outputs": [
        {
          "output_type": "display_data",
          "data": {
            "text/html": [
              "Total time: 00:45 <p><table border=\"1\" class=\"dataframe\">\n",
              "  <thead>\n",
              "    <tr style=\"text-align: left;\">\n",
              "      <th>epoch</th>\n",
              "      <th>train_loss</th>\n",
              "      <th>valid_loss</th>\n",
              "      <th>accuracy</th>\n",
              "      <th>time</th>\n",
              "    </tr>\n",
              "  </thead>\n",
              "  <tbody>\n",
              "    <tr>\n",
              "      <td>1</td>\n",
              "      <td>0.489567</td>\n",
              "      <td>0.373823</td>\n",
              "      <td>0.833333</td>\n",
              "      <td>00:45</td>\n",
              "    </tr>\n",
              "  </tbody>\n",
              "</table>"
            ],
            "text/plain": [
              "<IPython.core.display.HTML object>"
            ]
          },
          "metadata": {
            "tags": []
          }
        }
      ]
    },
    {
      "metadata": {
        "id": "VFzUjO9G3oU-",
        "colab_type": "code",
        "outputId": "bb3ef150-e6d1-4861-faad-5e12606164b5",
        "colab": {
          "base_uri": "https://localhost:8080/",
          "height": 537
        }
      },
      "cell_type": "code",
      "source": [
        "#Unfreeze  all\n",
        "#train model 15 epoch, using fit_one cycle that already provides some regularization\n",
        "# using a different learning rates for each layer for fine-tuning\n",
        "# include moms to decrease momentum so that we train faster and don't overshoot target\n",
        "learn_2.unfreeze()\n",
        "learn_2.fit_one_cycle(15, slice(1e-5,1e-3), moms=(0.8,0.7))"
      ],
      "execution_count": 0,
      "outputs": [
        {
          "output_type": "display_data",
          "data": {
            "text/html": [
              "Total time: 15:24 <p><table border=\"1\" class=\"dataframe\">\n",
              "  <thead>\n",
              "    <tr style=\"text-align: left;\">\n",
              "      <th>epoch</th>\n",
              "      <th>train_loss</th>\n",
              "      <th>valid_loss</th>\n",
              "      <th>accuracy</th>\n",
              "      <th>time</th>\n",
              "    </tr>\n",
              "  </thead>\n",
              "  <tbody>\n",
              "    <tr>\n",
              "      <td>1</td>\n",
              "      <td>0.468826</td>\n",
              "      <td>0.365977</td>\n",
              "      <td>0.838798</td>\n",
              "      <td>01:01</td>\n",
              "    </tr>\n",
              "    <tr>\n",
              "      <td>2</td>\n",
              "      <td>0.485950</td>\n",
              "      <td>0.367022</td>\n",
              "      <td>0.835383</td>\n",
              "      <td>01:01</td>\n",
              "    </tr>\n",
              "    <tr>\n",
              "      <td>3</td>\n",
              "      <td>0.482658</td>\n",
              "      <td>0.370144</td>\n",
              "      <td>0.837432</td>\n",
              "      <td>01:01</td>\n",
              "    </tr>\n",
              "    <tr>\n",
              "      <td>4</td>\n",
              "      <td>0.457390</td>\n",
              "      <td>0.351785</td>\n",
              "      <td>0.841530</td>\n",
              "      <td>01:02</td>\n",
              "    </tr>\n",
              "    <tr>\n",
              "      <td>5</td>\n",
              "      <td>0.465989</td>\n",
              "      <td>0.361781</td>\n",
              "      <td>0.832650</td>\n",
              "      <td>01:00</td>\n",
              "    </tr>\n",
              "    <tr>\n",
              "      <td>6</td>\n",
              "      <td>0.461249</td>\n",
              "      <td>0.357360</td>\n",
              "      <td>0.837432</td>\n",
              "      <td>01:00</td>\n",
              "    </tr>\n",
              "    <tr>\n",
              "      <td>7</td>\n",
              "      <td>0.440344</td>\n",
              "      <td>0.335019</td>\n",
              "      <td>0.853142</td>\n",
              "      <td>01:01</td>\n",
              "    </tr>\n",
              "    <tr>\n",
              "      <td>8</td>\n",
              "      <td>0.424277</td>\n",
              "      <td>0.332266</td>\n",
              "      <td>0.849727</td>\n",
              "      <td>01:01</td>\n",
              "    </tr>\n",
              "    <tr>\n",
              "      <td>9</td>\n",
              "      <td>0.429196</td>\n",
              "      <td>0.331989</td>\n",
              "      <td>0.850410</td>\n",
              "      <td>01:02</td>\n",
              "    </tr>\n",
              "    <tr>\n",
              "      <td>10</td>\n",
              "      <td>0.409236</td>\n",
              "      <td>0.325432</td>\n",
              "      <td>0.853825</td>\n",
              "      <td>01:02</td>\n",
              "    </tr>\n",
              "    <tr>\n",
              "      <td>11</td>\n",
              "      <td>0.400326</td>\n",
              "      <td>0.315391</td>\n",
              "      <td>0.862022</td>\n",
              "      <td>01:01</td>\n",
              "    </tr>\n",
              "    <tr>\n",
              "      <td>12</td>\n",
              "      <td>0.380113</td>\n",
              "      <td>0.318890</td>\n",
              "      <td>0.861339</td>\n",
              "      <td>01:00</td>\n",
              "    </tr>\n",
              "    <tr>\n",
              "      <td>13</td>\n",
              "      <td>0.401228</td>\n",
              "      <td>0.320936</td>\n",
              "      <td>0.861339</td>\n",
              "      <td>01:02</td>\n",
              "    </tr>\n",
              "    <tr>\n",
              "      <td>14</td>\n",
              "      <td>0.391369</td>\n",
              "      <td>0.318244</td>\n",
              "      <td>0.861339</td>\n",
              "      <td>01:01</td>\n",
              "    </tr>\n",
              "    <tr>\n",
              "      <td>15</td>\n",
              "      <td>0.408859</td>\n",
              "      <td>0.331917</td>\n",
              "      <td>0.860656</td>\n",
              "      <td>01:03</td>\n",
              "    </tr>\n",
              "  </tbody>\n",
              "</table>"
            ],
            "text/plain": [
              "<IPython.core.display.HTML object>"
            ]
          },
          "metadata": {
            "tags": []
          }
        }
      ]
    },
    {
      "metadata": {
        "id": "soTNT4AMMArL",
        "colab_type": "text"
      },
      "cell_type": "markdown",
      "source": [
        "Accuracy improved to **86.1%!.** And our validation loss is less than training loss, so the model is not overfitting. Let's explore the results."
      ]
    },
    {
      "metadata": {
        "colab_type": "code",
        "outputId": "41a046d6-6c33-4979-9d22-f29ac19ca092",
        "id": "g5ij1t-7nplU",
        "colab": {
          "base_uri": "https://localhost:8080/",
          "height": 415
        }
      },
      "cell_type": "code",
      "source": [
        "#create confusion matrix\n",
        "preds_2,y_2,losses_2 = learn_2.get_preds(with_loss=True)\n",
        "interp_2 = ClassificationInterpretation(learn_2, preds_2, y_2, losses_2)\n",
        "interp_2.plot_confusion_matrix()"
      ],
      "execution_count": 0,
      "outputs": [
        {
          "output_type": "display_data",
          "data": {
            "image/png": "[encoded data removed]",
            "text/plain": [
              "<Figure size 576x396 with 1 Axes>"
            ]
          },
          "metadata": {
            "tags": []
          }
        }
      ]
    },
    {
      "metadata": {
        "id": "9lcxKSPWMhdJ",
        "colab_type": "text"
      },
      "cell_type": "markdown",
      "source": [
        "This Fine-tuned implementation seems to be still be overclassifying non_negative sentiments (positive and neutral) as negative. Let's take a closer look."
      ]
    },
    {
      "metadata": {
        "id": "dcE6bsURMuR5",
        "colab_type": "text"
      },
      "cell_type": "markdown",
      "source": [
        "**Results**"
      ]
    },
    {
      "metadata": {
        "colab_type": "code",
        "outputId": "cc710df8-8aab-4bd1-feaf-987909c2a219",
        "id": "PT7BK6xDnplZ",
        "colab": {
          "base_uri": "https://localhost:8080/",
          "height": 119
        }
      },
      "cell_type": "code",
      "source": [
        "#Add predictions to validation dataframe\n",
        "df_val_2['pred'] = df_val_2['text'].apply(lambda row: str(learn_2.predict(row)[0]))"
      ],
      "execution_count": 0,
      "outputs": [
        {
          "output_type": "stream",
          "text": [
            "/usr/local/lib/python3.6/dist-packages/ipykernel_launcher.py:1: SettingWithCopyWarning: \n",
            "A value is trying to be set on a copy of a slice from a DataFrame.\n",
            "Try using .loc[row_indexer,col_indexer] = value instead\n",
            "\n",
            "See the caveats in the documentation: http://pandas.pydata.org/pandas-docs/stable/indexing.html#indexing-view-versus-copy\n",
            "  \"\"\"Entry point for launching an IPython kernel.\n"
          ],
          "name": "stderr"
        }
      ]
    },
    {
      "metadata": {
        "colab_type": "code",
        "outputId": "c951bc17-d64c-4821-cd8a-05bef1830a21",
        "id": "58lhVtOInplb",
        "colab": {
          "base_uri": "https://localhost:8080/",
          "height": 204
        }
      },
      "cell_type": "code",
      "source": [
        "#check dataframe\n",
        "df_val_2.tail()"
      ],
      "execution_count": 0,
      "outputs": [
        {
          "output_type": "execute_result",
          "data": {
            "text/html": [
              "<div>\n",
              "<style scoped>\n",
              "    .dataframe tbody tr th:only-of-type {\n",
              "        vertical-align: middle;\n",
              "    }\n",
              "\n",
              "    .dataframe tbody tr th {\n",
              "        vertical-align: top;\n",
              "    }\n",
              "\n",
              "    .dataframe thead th {\n",
              "        text-align: right;\n",
              "    }\n",
              "</style>\n",
              "<table border=\"1\" class=\"dataframe\">\n",
              "  <thead>\n",
              "    <tr style=\"text-align: right;\">\n",
              "      <th></th>\n",
              "      <th>label</th>\n",
              "      <th>text</th>\n",
              "      <th>pred</th>\n",
              "    </tr>\n",
              "  </thead>\n",
              "  <tbody>\n",
              "    <tr>\n",
              "      <th>12811</th>\n",
              "      <td>non_neg</td>\n",
              "      <td>@AmericanAir um no just hanging out what’s new...</td>\n",
              "      <td>neg</td>\n",
              "    </tr>\n",
              "    <tr>\n",
              "      <th>2250</th>\n",
              "      <td>neg</td>\n",
              "      <td>@united Flight has been delayed for another ho...</td>\n",
              "      <td>neg</td>\n",
              "    </tr>\n",
              "    <tr>\n",
              "      <th>5323</th>\n",
              "      <td>neg</td>\n",
              "      <td>.@SouthwestAir received an error online and ha...</td>\n",
              "      <td>neg</td>\n",
              "    </tr>\n",
              "    <tr>\n",
              "      <th>9534</th>\n",
              "      <td>neg</td>\n",
              "      <td>@USAirways What is going on with flight 1826 f...</td>\n",
              "      <td>neg</td>\n",
              "    </tr>\n",
              "    <tr>\n",
              "      <th>10679</th>\n",
              "      <td>neg</td>\n",
              "      <td>@USAirways How dirty does the damn plane have ...</td>\n",
              "      <td>neg</td>\n",
              "    </tr>\n",
              "  </tbody>\n",
              "</table>\n",
              "</div>"
            ],
            "text/plain": [
              "         label                                               text pred\n",
              "12811  non_neg  @AmericanAir um no just hanging out what’s new...  neg\n",
              "2250       neg  @united Flight has been delayed for another ho...  neg\n",
              "5323       neg  .@SouthwestAir received an error online and ha...  neg\n",
              "9534       neg  @USAirways What is going on with flight 1826 f...  neg\n",
              "10679      neg  @USAirways How dirty does the damn plane have ...  neg"
            ]
          },
          "metadata": {
            "tags": []
          },
          "execution_count": 52
        }
      ]
    },
    {
      "metadata": {
        "colab_type": "code",
        "outputId": "9d8639c5-21c1-4a1d-d26d-ff0121833d37",
        "id": "zuIg5vB3nple",
        "colab": {
          "base_uri": "https://localhost:8080/",
          "height": 153
        }
      },
      "cell_type": "code",
      "source": [
        "#check dataframe info (nulls, types, columns)\n",
        "df_val_2.info()"
      ],
      "execution_count": 0,
      "outputs": [
        {
          "output_type": "stream",
          "text": [
            "<class 'pandas.core.frame.DataFrame'>\n",
            "Int64Index: 1464 entries, 12229 to 10679\n",
            "Data columns (total 3 columns):\n",
            "label    1464 non-null object\n",
            "text     1464 non-null object\n",
            "pred     1464 non-null object\n",
            "dtypes: object(3)\n",
            "memory usage: 45.8+ KB\n"
          ],
          "name": "stdout"
        }
      ]
    },
    {
      "metadata": {
        "id": "rSj54-v9C8q7",
        "colab_type": "code",
        "outputId": "2408d6c1-88d7-4a38-ed93-763816ed4efd",
        "colab": {
          "base_uri": "https://localhost:8080/",
          "height": 418
        }
      },
      "cell_type": "code",
      "source": [
        "#plot predictions, targets, incorrect predictions\n",
        "fig, axarr = plt.subplots(1, 3, figsize=(12, 6), sharey=True)\n",
        "\n",
        "df_val_2.pred.value_counts().sort_index().plot.bar(\n",
        "    ax=axarr[0]\n",
        ")\n",
        "axarr[0].set_title(\"Sentiment count for predicted values\")\n",
        "\n",
        "df_val_2.label.value_counts().sort_index().plot.bar(\n",
        "    ax=axarr[1]\n",
        ")\n",
        "axarr[1].set_title(\"Sentiment count for target values\")\n",
        "\n",
        "df_val_2[df_val_2.label!= df_val_2.pred].label.value_counts().sort_index().plot.bar(\n",
        "    ax=axarr[2]\n",
        ")\n",
        "axarr[2].set_title(\"Sentiment count for incorrect predictions\");\n"
      ],
      "execution_count": 0,
      "outputs": [
        {
          "output_type": "display_data",
          "data": {
            "image/png": "[encoded data removed]",
            "text/plain": [
              "<Figure size 864x432 with 3 Axes>"
            ]
          },
          "metadata": {
            "tags": []
          }
        }
      ]
    },
    {
      "metadata": {
        "id": "zq1esUseNQJX",
        "colab_type": "text"
      },
      "cell_type": "markdown",
      "source": [
        "Model is still overprediucting negative sentiments. Let's explore the Tweets."
      ]
    },
    {
      "metadata": {
        "colab_type": "code",
        "outputId": "2c7ef736-98d8-4bc3-b744-9e8c2a13c7b1",
        "id": "B7DACErunplr",
        "colab": {
          "base_uri": "https://localhost:8080/",
          "height": 359
        }
      },
      "cell_type": "code",
      "source": [
        "#check sample of incorrectly predicted Tweets\n",
        "df_val_2[df_val_2.label!= df_val_2.pred].tail(10)"
      ],
      "execution_count": 0,
      "outputs": [
        {
          "output_type": "execute_result",
          "data": {
            "text/html": [
              "<div>\n",
              "<style scoped>\n",
              "    .dataframe tbody tr th:only-of-type {\n",
              "        vertical-align: middle;\n",
              "    }\n",
              "\n",
              "    .dataframe tbody tr th {\n",
              "        vertical-align: top;\n",
              "    }\n",
              "\n",
              "    .dataframe thead th {\n",
              "        text-align: right;\n",
              "    }\n",
              "</style>\n",
              "<table border=\"1\" class=\"dataframe\">\n",
              "  <thead>\n",
              "    <tr style=\"text-align: right;\">\n",
              "      <th></th>\n",
              "      <th>label</th>\n",
              "      <th>text</th>\n",
              "      <th>pred</th>\n",
              "    </tr>\n",
              "  </thead>\n",
              "  <tbody>\n",
              "    <tr>\n",
              "      <th>355</th>\n",
              "      <td>neg</td>\n",
              "      <td>@VirginAmerica what happened to direct flights...</td>\n",
              "      <td>non_neg</td>\n",
              "    </tr>\n",
              "    <tr>\n",
              "      <th>12607</th>\n",
              "      <td>neg</td>\n",
              "      <td>@AmericanAir #2298. Everyone else  was outstan...</td>\n",
              "      <td>non_neg</td>\n",
              "    </tr>\n",
              "    <tr>\n",
              "      <th>7107</th>\n",
              "      <td>non_neg</td>\n",
              "      <td>@JetBlue but Virgin has wifi 👀</td>\n",
              "      <td>neg</td>\n",
              "    </tr>\n",
              "    <tr>\n",
              "      <th>13397</th>\n",
              "      <td>non_neg</td>\n",
              "      <td>@AmericanAir at LAX &amp;amp; just got off the pho...</td>\n",
              "      <td>neg</td>\n",
              "    </tr>\n",
              "    <tr>\n",
              "      <th>773</th>\n",
              "      <td>non_neg</td>\n",
              "      <td>@united flight ua3576, gate b1. And tell ray I...</td>\n",
              "      <td>neg</td>\n",
              "    </tr>\n",
              "    <tr>\n",
              "      <th>14583</th>\n",
              "      <td>neg</td>\n",
              "      <td>@AmericanAir Nah, just horrible dining options...</td>\n",
              "      <td>non_neg</td>\n",
              "    </tr>\n",
              "    <tr>\n",
              "      <th>12083</th>\n",
              "      <td>neg</td>\n",
              "      <td>“@AmericanAir: @Andrew_Wasila We're sorry you ...</td>\n",
              "      <td>non_neg</td>\n",
              "    </tr>\n",
              "    <tr>\n",
              "      <th>4250</th>\n",
              "      <td>non_neg</td>\n",
              "      <td>@United just played the Most bizarre \"safety\" ...</td>\n",
              "      <td>neg</td>\n",
              "    </tr>\n",
              "    <tr>\n",
              "      <th>9394</th>\n",
              "      <td>non_neg</td>\n",
              "      <td>@USAirways @AmericanAir shout out to Diane at ...</td>\n",
              "      <td>neg</td>\n",
              "    </tr>\n",
              "    <tr>\n",
              "      <th>12811</th>\n",
              "      <td>non_neg</td>\n",
              "      <td>@AmericanAir um no just hanging out what’s new...</td>\n",
              "      <td>neg</td>\n",
              "    </tr>\n",
              "  </tbody>\n",
              "</table>\n",
              "</div>"
            ],
            "text/plain": [
              "         label                                               text     pred\n",
              "355        neg  @VirginAmerica what happened to direct flights...  non_neg\n",
              "12607      neg  @AmericanAir #2298. Everyone else  was outstan...  non_neg\n",
              "7107   non_neg                     @JetBlue but Virgin has wifi 👀      neg\n",
              "13397  non_neg  @AmericanAir at LAX &amp; just got off the pho...      neg\n",
              "773    non_neg  @united flight ua3576, gate b1. And tell ray I...      neg\n",
              "14583      neg  @AmericanAir Nah, just horrible dining options...  non_neg\n",
              "12083      neg  “@AmericanAir: @Andrew_Wasila We're sorry you ...  non_neg\n",
              "4250   non_neg  @United just played the Most bizarre \"safety\" ...      neg\n",
              "9394   non_neg  @USAirways @AmericanAir shout out to Diane at ...      neg\n",
              "12811  non_neg  @AmericanAir um no just hanging out what’s new...      neg"
            ]
          },
          "metadata": {
            "tags": []
          },
          "execution_count": 55
        }
      ]
    },
    {
      "metadata": {
        "colab_type": "code",
        "id": "SxeG9IHJnpl2",
        "outputId": "78c5d2db-54bf-4fe9-b44d-5dd069027230",
        "colab": {
          "base_uri": "https://localhost:8080/",
          "height": 34
        }
      },
      "cell_type": "code",
      "source": [
        "# negative tweet predicted as non_neg.\n",
        "df_val_2.text.loc[12607]"
      ],
      "execution_count": 0,
      "outputs": [
        {
          "output_type": "execute_result",
          "data": {
            "text/plain": [
              "'@AmericanAir #2298. Everyone else  was outstanding.'"
            ]
          },
          "metadata": {
            "tags": []
          },
          "execution_count": 56
        }
      ]
    },
    {
      "metadata": {
        "id": "27kmbMy_OKEE",
        "colab_type": "text"
      },
      "cell_type": "markdown",
      "source": [
        "Model picks on the word outstanding. Doesn't seem to understant context."
      ]
    },
    {
      "metadata": {
        "id": "WW5jDKkKznHc",
        "colab_type": "code",
        "outputId": "87fd1ac2-a343-458e-d128-5f66f0478f8c",
        "colab": {
          "base_uri": "https://localhost:8080/",
          "height": 34
        }
      },
      "cell_type": "code",
      "source": [
        "#non_negative tweet predicted as negative\n",
        "df_val_2.text.loc[9394]"
      ],
      "execution_count": 0,
      "outputs": [
        {
          "output_type": "execute_result",
          "data": {
            "text/plain": [
              "'@USAirways @AmericanAir shout out to Diane at EYW for helping get us home today instead of tomorrow (even if a little Late Flight!)'"
            ]
          },
          "metadata": {
            "tags": []
          },
          "execution_count": 57
        }
      ]
    },
    {
      "metadata": {
        "id": "dWGQXGQZOcOm",
        "colab_type": "text"
      },
      "cell_type": "markdown",
      "source": [
        "Model might be classifying shout and late as negative."
      ]
    },
    {
      "metadata": {
        "id": "M5kFtfMLzwu8",
        "colab_type": "code",
        "outputId": "f0eef07d-c5f2-47c8-877c-b4fb99e4d226",
        "colab": {
          "base_uri": "https://localhost:8080/",
          "height": 34
        }
      },
      "cell_type": "code",
      "source": [
        "#non_negative tweet predicted as negative\n",
        "df_val_2.text.loc[773]"
      ],
      "execution_count": 0,
      "outputs": [
        {
          "output_type": "execute_result",
          "data": {
            "text/plain": [
              "\"@united flight ua3576, gate b1. And tell ray I somehow made it on to the 736 flight out of IAH and didn't have to wait for the 917 one. :)\""
            ]
          },
          "metadata": {
            "tags": []
          },
          "execution_count": 58
        }
      ]
    },
    {
      "metadata": {
        "id": "2EDmUqC7OnTY",
        "colab_type": "text"
      },
      "cell_type": "markdown",
      "source": [
        "Model doesn't understand smiley faces? IT could be predicting negative because of the word wait or t might be thrown off by words like ua3576, b1, IAH, 736, 917."
      ]
    },
    {
      "metadata": {
        "id": "Y1tMZr9yPPHT",
        "colab_type": "text"
      },
      "cell_type": "markdown",
      "source": [
        "Let's try to improve the model by separating non_negs in neutral and positive, as the original dataset. This might also backfire as classification models usually work better for binary and balanced classes."
      ]
    },
    {
      "metadata": {
        "id": "s62gXBcMPuZV",
        "colab_type": "text"
      },
      "cell_type": "markdown",
      "source": [
        "## **Fine-tuned model but with three classes (negative, positive, neutral)**"
      ]
    },
    {
      "metadata": {
        "id": "XfrQO6xvQLF4",
        "colab_type": "text"
      },
      "cell_type": "markdown",
      "source": [
        "**Preprocess Data for ULMfiT**"
      ]
    },
    {
      "metadata": {
        "colab_type": "code",
        "outputId": "5204f4db-7652-4a85-d2fe-57ad2a9e044c",
        "id": "fYeC6WXH0vyc",
        "colab": {
          "base_uri": "https://localhost:8080/",
          "height": 204
        }
      },
      "cell_type": "code",
      "source": [
        "# create dataframe consisting of labels and text only as suggested by Yann LeCun et. al https://arxiv.org/pdf/1509.01626.pdf\n",
        "data_df_2 = pd.DataFrame()\n",
        "data_df_2['label'] = df['airline_sentiment']\n",
        "data_df_2['text'] = df['text'].copy()\n",
        "data_df_2.head() #check dataframe"
      ],
      "execution_count": 0,
      "outputs": [
        {
          "output_type": "execute_result",
          "data": {
            "text/html": [
              "<div>\n",
              "<style scoped>\n",
              "    .dataframe tbody tr th:only-of-type {\n",
              "        vertical-align: middle;\n",
              "    }\n",
              "\n",
              "    .dataframe tbody tr th {\n",
              "        vertical-align: top;\n",
              "    }\n",
              "\n",
              "    .dataframe thead th {\n",
              "        text-align: right;\n",
              "    }\n",
              "</style>\n",
              "<table border=\"1\" class=\"dataframe\">\n",
              "  <thead>\n",
              "    <tr style=\"text-align: right;\">\n",
              "      <th></th>\n",
              "      <th>label</th>\n",
              "      <th>text</th>\n",
              "    </tr>\n",
              "  </thead>\n",
              "  <tbody>\n",
              "    <tr>\n",
              "      <th>0</th>\n",
              "      <td>neutral</td>\n",
              "      <td>@VirginAmerica What @dhepburn said.</td>\n",
              "    </tr>\n",
              "    <tr>\n",
              "      <th>1</th>\n",
              "      <td>positive</td>\n",
              "      <td>@VirginAmerica plus you've added commercials t...</td>\n",
              "    </tr>\n",
              "    <tr>\n",
              "      <th>2</th>\n",
              "      <td>neutral</td>\n",
              "      <td>@VirginAmerica I didn't today... Must mean I n...</td>\n",
              "    </tr>\n",
              "    <tr>\n",
              "      <th>3</th>\n",
              "      <td>negative</td>\n",
              "      <td>@VirginAmerica it's really aggressive to blast...</td>\n",
              "    </tr>\n",
              "    <tr>\n",
              "      <th>4</th>\n",
              "      <td>negative</td>\n",
              "      <td>@VirginAmerica and it's a really big bad thing...</td>\n",
              "    </tr>\n",
              "  </tbody>\n",
              "</table>\n",
              "</div>"
            ],
            "text/plain": [
              "      label                                               text\n",
              "0   neutral                @VirginAmerica What @dhepburn said.\n",
              "1  positive  @VirginAmerica plus you've added commercials t...\n",
              "2   neutral  @VirginAmerica I didn't today... Must mean I n...\n",
              "3  negative  @VirginAmerica it's really aggressive to blast...\n",
              "4  negative  @VirginAmerica and it's a really big bad thing..."
            ]
          },
          "metadata": {
            "tags": []
          },
          "execution_count": 59
        }
      ]
    },
    {
      "metadata": {
        "colab_type": "code",
        "outputId": "f522e7d5-b2d3-4b68-a704-742431915864",
        "id": "MxA4bZzV0vyj",
        "colab": {
          "base_uri": "https://localhost:8080/",
          "height": 34
        }
      },
      "cell_type": "code",
      "source": [
        "#check dataframe size\n",
        "data_df_2.shape"
      ],
      "execution_count": 0,
      "outputs": [
        {
          "output_type": "execute_result",
          "data": {
            "text/plain": [
              "(14640, 2)"
            ]
          },
          "metadata": {
            "tags": []
          },
          "execution_count": 60
        }
      ]
    },
    {
      "metadata": {
        "colab_type": "code",
        "outputId": "ad3d3ef9-4e88-4114-e36f-c1351560eef9",
        "id": "84K7y1Yv0vym",
        "colab": {
          "base_uri": "https://localhost:8080/",
          "height": 136
        }
      },
      "cell_type": "code",
      "source": [
        "#check dataframe info (nulls, columns, types)\n",
        "data_df_2.info()"
      ],
      "execution_count": 0,
      "outputs": [
        {
          "output_type": "stream",
          "text": [
            "<class 'pandas.core.frame.DataFrame'>\n",
            "RangeIndex: 14640 entries, 0 to 14639\n",
            "Data columns (total 2 columns):\n",
            "label    14640 non-null object\n",
            "text     14640 non-null object\n",
            "dtypes: object(2)\n",
            "memory usage: 228.8+ KB\n"
          ],
          "name": "stdout"
        }
      ]
    },
    {
      "metadata": {
        "colab_type": "code",
        "outputId": "6f6304c0-e286-435f-b54a-2d3848e1d76c",
        "id": "MvIqSpUE0vyo",
        "colab": {
          "base_uri": "https://localhost:8080/",
          "height": 34
        }
      },
      "cell_type": "code",
      "source": [
        "#split data into train 90%, validate 10% as per fastai deep_learning course (lesson 10)\n",
        "df_trn_3, df_val_3 = train_test_split(data_df_2, stratify=data_df_2['label'], test_size = 0.1, random_state = 83)\n",
        "\n",
        "df_trn_3.shape, df_val_3.shape"
      ],
      "execution_count": 0,
      "outputs": [
        {
          "output_type": "execute_result",
          "data": {
            "text/plain": [
              "((13176, 2), (1464, 2))"
            ]
          },
          "metadata": {
            "tags": []
          },
          "execution_count": 62
        }
      ]
    },
    {
      "metadata": {
        "colab_type": "code",
        "id": "Gq5Bci8Z0vyq",
        "colab": {}
      },
      "cell_type": "code",
      "source": [
        "#select batch-size for classifier\n",
        "bs=32 #default for TextClasDataBunch\n",
        "# create a DataBunch (fastai data object) for Language Model\n",
        "data_lm_3 = TextLMDataBunch.from_df(train_df = df_trn_3, valid_df = df_val_3, path = \"\", min_freq=1)\n",
        "\n",
        "# create a DataBunch (fastai data object) for RNN classifier using vocab from language model\n",
        "data_clas_3 = TextClasDataBunch.from_df(path = \"\", train_df = df_trn_3, valid_df = df_val_3, vocab=data_lm_3.train_ds.vocab, bs=bs, min_freq=1)"
      ],
      "execution_count": 0,
      "outputs": []
    },
    {
      "metadata": {
        "colab_type": "code",
        "outputId": "4577a049-ba36-47dd-dca0-2c11dac08a33",
        "id": "kCG9V-ko0vyy",
        "colab": {
          "base_uri": "https://localhost:8080/",
          "height": 306
        }
      },
      "cell_type": "code",
      "source": [
        "#check preprocessed data\n",
        "data_lm_3.show_batch()"
      ],
      "execution_count": 0,
      "outputs": [
        {
          "output_type": "display_data",
          "data": {
            "text/html": [
              "<table border=\"1\" class=\"dataframe\">\n",
              "  <thead>\n",
              "    <tr style=\"text-align: right;\">\n",
              "      <th>idx</th>\n",
              "      <th>text</th>\n",
              "    </tr>\n",
              "  </thead>\n",
              "  <tbody>\n",
              "    <tr>\n",
              "      <td>0</td>\n",
              "      <td>/ / t.co / ttlwzgiyag xxbos @jetblue i 'm over that honestly just would like to get going on the journey . xxbos xxmaj this shits got ta stop xxup rt @jetblue : xxmaj our fleet 's on fleek . http : / / t.co / peq90pqmpp xxbos @united should hire extra customer service reps . 50 minute wait time to ask one question ? i would rather just fly</td>\n",
              "    </tr>\n",
              "    <tr>\n",
              "      <td>1</td>\n",
              "      <td>out car rental changes and such . xxbos @usairways why are your customer service department so intent on ignoring my emails and queries ? # badservice # usairways xxbos @united i was n't asking for a full refund but delaying me 3 hours and giving no reason should be enough to give partial credit xxbos @southwestair suggestion- shades on the windows @kciairport so travelers wo n't have to watch ur</td>\n",
              "    </tr>\n",
              "    <tr>\n",
              "      <td>2</td>\n",
              "      <td>you for xxmaj christmas . xxbos @americanair thank you for doing the best you could to get me rebooked . xxmaj agent on phone &amp; &amp; addtl resolution on xxup dm was very much appreciated . xxbos @united you 'd learn if you listen to your customers ... you do want you want ... @virginamerica asks their customer what they want xxbos @virginamerica xxmaj you guys charged me $ 100</td>\n",
              "    </tr>\n",
              "    <tr>\n",
              "      <td>3</td>\n",
              "      <td>large rifle case too ? xxmaj was n't clear in freq asked questions xxbos @southwestair it would be nice if i could talk to an agent rather than get caught up w / a promotion &amp; &amp; then be hung up on xxbos @jetblue i waited in line all that time to be told by a crewmember that there 's no update until 9:30 # 3hrdelay # disappointed xxbos @united</td>\n",
              "    </tr>\n",
              "    <tr>\n",
              "      <td>4</td>\n",
              "      <td>game called xxmaj who can be the xxmaj bigger xxmaj dick to xxmaj people . xxmaj flight 952 to xxup chi - xxup mid xxbos @southwestair what to do when you show up to your destination with no clothes in your suitcase ? # nakedmeetings # awkward xxbos @jetblue # 1680 xxmaj super smooth flight and landing . xxmaj nicely done . xxbos @united i just sent a long note</td>\n",
              "    </tr>\n",
              "  </tbody>\n",
              "</table>"
            ],
            "text/plain": [
              "<IPython.core.display.HTML object>"
            ]
          },
          "metadata": {
            "tags": []
          }
        }
      ]
    },
    {
      "metadata": {
        "id": "Bq800pYUROJr",
        "colab_type": "text"
      },
      "cell_type": "markdown",
      "source": [
        "**Language Model Fine-tuning**"
      ]
    },
    {
      "metadata": {
        "colab_type": "code",
        "id": "pLrJIDM_0vy2",
        "colab": {}
      },
      "cell_type": "code",
      "source": [
        "#create learner model using pretrained dataset AWD_LSTM Merity et. al https://arxiv.org/abs/1708.02182 from fastai\n",
        "drop_mult=0.1\n",
        "learn_3 = language_model_learner(data_lm_3, AWD_LSTM, drop_mult=drop_mult)"
      ],
      "execution_count": 0,
      "outputs": []
    },
    {
      "metadata": {
        "colab_type": "code",
        "outputId": "7733b335-798e-441a-c7e6-ed8823fc5839",
        "id": "9DMMBqns0vy3",
        "colab": {
          "base_uri": "https://localhost:8080/",
          "height": 459
        }
      },
      "cell_type": "code",
      "source": [
        "#check structure of learner model\n",
        "list(learn_3.model.children())"
      ],
      "execution_count": 0,
      "outputs": [
        {
          "output_type": "execute_result",
          "data": {
            "text/plain": [
              "[AWD_LSTM(\n",
              "   (encoder): Embedding(15119, 400, padding_idx=1)\n",
              "   (encoder_dp): EmbeddingDropout(\n",
              "     (emb): Embedding(15119, 400, padding_idx=1)\n",
              "   )\n",
              "   (rnns): ModuleList(\n",
              "     (0): WeightDropout(\n",
              "       (module): LSTM(400, 1150, batch_first=True)\n",
              "     )\n",
              "     (1): WeightDropout(\n",
              "       (module): LSTM(1150, 1150, batch_first=True)\n",
              "     )\n",
              "     (2): WeightDropout(\n",
              "       (module): LSTM(1150, 400, batch_first=True)\n",
              "     )\n",
              "   )\n",
              "   (input_dp): RNNDropout()\n",
              "   (hidden_dps): ModuleList(\n",
              "     (0): RNNDropout()\n",
              "     (1): RNNDropout()\n",
              "     (2): RNNDropout()\n",
              "   )\n",
              " ), LinearDecoder(\n",
              "   (decoder): Linear(in_features=400, out_features=15119, bias=True)\n",
              "   (output_dp): RNNDropout()\n",
              " )]"
            ]
          },
          "metadata": {
            "tags": []
          },
          "execution_count": 66
        }
      ]
    },
    {
      "metadata": {
        "colab_type": "code",
        "outputId": "cb4f9edd-5c45-4a0f-cb7b-35aa67d03c2e",
        "id": "OQ32C8ZL0vy9",
        "colab": {
          "base_uri": "https://localhost:8080/",
          "height": 378
        }
      },
      "cell_type": "code",
      "source": [
        "#find optimum learning rate\n",
        "learn_3.lr_find(start_lr=1e-8, end_lr=1e2)\n",
        "learn_3.recorder.plot()"
      ],
      "execution_count": 0,
      "outputs": [
        {
          "output_type": "display_data",
          "data": {
            "text/html": [
              ""
            ],
            "text/plain": [
              "<IPython.core.display.HTML object>"
            ]
          },
          "metadata": {
            "tags": []
          }
        },
        {
          "output_type": "stream",
          "text": [
            "LR Finder is complete, type {learner_name}.recorder.plot() to see the graph.\n"
          ],
          "name": "stdout"
        },
        {
          "output_type": "display_data",
          "data": {
            "image/png": "[encoded data removed]",
            "text/plain": [
              "<Figure size 576x396 with 1 Axes>"
            ]
          },
          "metadata": {
            "tags": []
          }
        }
      ]
    },
    {
      "metadata": {
        "colab_type": "code",
        "outputId": "a54f93bc-5852-4716-aa06-2f59f8abf597",
        "id": "6wQG8vo-0vy-",
        "colab": {
          "base_uri": "https://localhost:8080/",
          "height": 103
        }
      },
      "cell_type": "code",
      "source": [
        "#train model w/ max learning rate 1e-3, one epoch, using fit_one cycle that already provides some regularization\n",
        "# include moms to decrease momentum so that we train faster and don't overshoot target\n",
        "learn_3.fit_one_cycle(cyc_len=1, max_lr=1e-3, moms=(0.8, 0.7))"
      ],
      "execution_count": 0,
      "outputs": [
        {
          "output_type": "display_data",
          "data": {
            "text/html": [
              "Total time: 00:29 <p><table border=\"1\" class=\"dataframe\">\n",
              "  <thead>\n",
              "    <tr style=\"text-align: left;\">\n",
              "      <th>epoch</th>\n",
              "      <th>train_loss</th>\n",
              "      <th>valid_loss</th>\n",
              "      <th>accuracy</th>\n",
              "      <th>time</th>\n",
              "    </tr>\n",
              "  </thead>\n",
              "  <tbody>\n",
              "    <tr>\n",
              "      <td>1</td>\n",
              "      <td>6.815966</td>\n",
              "      <td>6.316790</td>\n",
              "      <td>0.161607</td>\n",
              "      <td>00:29</td>\n",
              "    </tr>\n",
              "  </tbody>\n",
              "</table>"
            ],
            "text/plain": [
              "<IPython.core.display.HTML object>"
            ]
          },
          "metadata": {
            "tags": []
          }
        }
      ]
    },
    {
      "metadata": {
        "id": "jTEkHuZUR03Z",
        "colab_type": "text"
      },
      "cell_type": "markdown",
      "source": [
        "Accuracy is similar to previous models: **16.2%**"
      ]
    },
    {
      "metadata": {
        "colab_type": "code",
        "outputId": "adf82155-04da-4122-accd-e955c865e76c",
        "id": "GdPP_Wfd0vy_",
        "colab": {
          "base_uri": "https://localhost:8080/",
          "height": 537
        }
      },
      "cell_type": "code",
      "source": [
        "# unfreeze model and continue training for 15 epochs\n",
        "learn_3.unfreeze()\n",
        "learn_3.fit_one_cycle(cyc_len=15, max_lr=1e-3, moms=(0.8, 0.7))"
      ],
      "execution_count": 0,
      "outputs": [
        {
          "output_type": "display_data",
          "data": {
            "text/html": [
              "Total time: 08:57 <p><table border=\"1\" class=\"dataframe\">\n",
              "  <thead>\n",
              "    <tr style=\"text-align: left;\">\n",
              "      <th>epoch</th>\n",
              "      <th>train_loss</th>\n",
              "      <th>valid_loss</th>\n",
              "      <th>accuracy</th>\n",
              "      <th>time</th>\n",
              "    </tr>\n",
              "  </thead>\n",
              "  <tbody>\n",
              "    <tr>\n",
              "      <td>1</td>\n",
              "      <td>5.788518</td>\n",
              "      <td>5.239578</td>\n",
              "      <td>0.200992</td>\n",
              "      <td>00:35</td>\n",
              "    </tr>\n",
              "    <tr>\n",
              "      <td>2</td>\n",
              "      <td>5.167732</td>\n",
              "      <td>4.499863</td>\n",
              "      <td>0.241691</td>\n",
              "      <td>00:35</td>\n",
              "    </tr>\n",
              "    <tr>\n",
              "      <td>3</td>\n",
              "      <td>4.598574</td>\n",
              "      <td>4.213074</td>\n",
              "      <td>0.258036</td>\n",
              "      <td>00:35</td>\n",
              "    </tr>\n",
              "    <tr>\n",
              "      <td>4</td>\n",
              "      <td>4.227964</td>\n",
              "      <td>4.065394</td>\n",
              "      <td>0.269767</td>\n",
              "      <td>00:35</td>\n",
              "    </tr>\n",
              "    <tr>\n",
              "      <td>5</td>\n",
              "      <td>3.942227</td>\n",
              "      <td>4.008253</td>\n",
              "      <td>0.275818</td>\n",
              "      <td>00:35</td>\n",
              "    </tr>\n",
              "    <tr>\n",
              "      <td>6</td>\n",
              "      <td>3.668914</td>\n",
              "      <td>3.999787</td>\n",
              "      <td>0.279415</td>\n",
              "      <td>00:35</td>\n",
              "    </tr>\n",
              "    <tr>\n",
              "      <td>7</td>\n",
              "      <td>3.400664</td>\n",
              "      <td>4.035471</td>\n",
              "      <td>0.276116</td>\n",
              "      <td>00:35</td>\n",
              "    </tr>\n",
              "    <tr>\n",
              "      <td>8</td>\n",
              "      <td>3.149117</td>\n",
              "      <td>4.407180</td>\n",
              "      <td>0.250794</td>\n",
              "      <td>00:35</td>\n",
              "    </tr>\n",
              "    <tr>\n",
              "      <td>9</td>\n",
              "      <td>2.897838</td>\n",
              "      <td>4.200648</td>\n",
              "      <td>0.270709</td>\n",
              "      <td>00:35</td>\n",
              "    </tr>\n",
              "    <tr>\n",
              "      <td>10</td>\n",
              "      <td>2.676928</td>\n",
              "      <td>4.274826</td>\n",
              "      <td>0.268378</td>\n",
              "      <td>00:35</td>\n",
              "    </tr>\n",
              "    <tr>\n",
              "      <td>11</td>\n",
              "      <td>2.498978</td>\n",
              "      <td>4.345834</td>\n",
              "      <td>0.267063</td>\n",
              "      <td>00:35</td>\n",
              "    </tr>\n",
              "    <tr>\n",
              "      <td>12</td>\n",
              "      <td>2.357821</td>\n",
              "      <td>4.408537</td>\n",
              "      <td>0.265650</td>\n",
              "      <td>00:35</td>\n",
              "    </tr>\n",
              "    <tr>\n",
              "      <td>13</td>\n",
              "      <td>2.259642</td>\n",
              "      <td>4.453135</td>\n",
              "      <td>0.263666</td>\n",
              "      <td>00:35</td>\n",
              "    </tr>\n",
              "    <tr>\n",
              "      <td>14</td>\n",
              "      <td>2.199049</td>\n",
              "      <td>4.470650</td>\n",
              "      <td>0.263021</td>\n",
              "      <td>00:35</td>\n",
              "    </tr>\n",
              "    <tr>\n",
              "      <td>15</td>\n",
              "      <td>2.170224</td>\n",
              "      <td>4.473577</td>\n",
              "      <td>0.262872</td>\n",
              "      <td>00:35</td>\n",
              "    </tr>\n",
              "  </tbody>\n",
              "</table>"
            ],
            "text/plain": [
              "<IPython.core.display.HTML object>"
            ]
          },
          "metadata": {
            "tags": []
          }
        }
      ]
    },
    {
      "metadata": {
        "id": "8i2CBlduSRKa",
        "colab_type": "text"
      },
      "cell_type": "markdown",
      "source": [
        "Similar to previous model, after further training, accuracy increaces to **26.3%.**"
      ]
    },
    {
      "metadata": {
        "colab_type": "code",
        "id": "0f75IcXC0vzF",
        "colab": {}
      },
      "cell_type": "code",
      "source": [
        "#save fine-tuned model to use for classification \n",
        "learn_3.save_encoder('ft_enc')"
      ],
      "execution_count": 0,
      "outputs": []
    },
    {
      "metadata": {
        "id": "ONmWZ6blS6Nz",
        "colab_type": "text"
      },
      "cell_type": "markdown",
      "source": [
        "**Train the classifier**"
      ]
    },
    {
      "metadata": {
        "colab_type": "code",
        "id": "dMfWtYZu0vzG",
        "colab": {}
      },
      "cell_type": "code",
      "source": [
        "# create classifier using DataBunch created earlier for classification and AWS_LSTM pretrained language model \n",
        "drop_mult = 0.5\n",
        "learn_3 = text_classifier_learner(data_clas_3, AWD_LSTM, drop_mult=drop_mult)\n",
        "learn_3.load_encoder('ft_enc')"
      ],
      "execution_count": 0,
      "outputs": []
    },
    {
      "metadata": {
        "colab_type": "code",
        "id": "7d76yarT0vzI",
        "colab": {}
      },
      "cell_type": "code",
      "source": [
        "#freeze learning\n",
        "learn_3.freeze()\n",
        "\n"
      ],
      "execution_count": 0,
      "outputs": []
    },
    {
      "metadata": {
        "colab_type": "code",
        "outputId": "7b770589-4a5f-4565-888d-bd754e0dfaf8",
        "id": "dBSeslNr0vzJ",
        "colab": {
          "base_uri": "https://localhost:8080/",
          "height": 378
        }
      },
      "cell_type": "code",
      "source": [
        "#find optimum learning rate\n",
        "learn_3.lr_find(start_lr=1e-8, end_lr=1e2)\n",
        "learn_3.recorder.plot()"
      ],
      "execution_count": 0,
      "outputs": [
        {
          "output_type": "display_data",
          "data": {
            "text/html": [
              ""
            ],
            "text/plain": [
              "<IPython.core.display.HTML object>"
            ]
          },
          "metadata": {
            "tags": []
          }
        },
        {
          "output_type": "stream",
          "text": [
            "LR Finder is complete, type {learner_name}.recorder.plot() to see the graph.\n"
          ],
          "name": "stdout"
        },
        {
          "output_type": "display_data",
          "data": {
            "image/png": "[encoded data removed]",
            "text/plain": [
              "<Figure size 576x396 with 1 Axes>"
            ]
          },
          "metadata": {
            "tags": []
          }
        }
      ]
    },
    {
      "metadata": {
        "colab_type": "code",
        "outputId": "4ef67ab3-42a2-4d3a-ad98-b9b61510570f",
        "id": "kQzCuMbl0vzL",
        "colab": {
          "base_uri": "https://localhost:8080/",
          "height": 103
        }
      },
      "cell_type": "code",
      "source": [
        "#train model w/ max learning rate 1e-3, one epoch, using fit_one cycle that already provides some regularization\n",
        "# include moms to decrease momentum so that we train faster and don't overshoot target\n",
        "learn_3.fit_one_cycle(cyc_len=1, max_lr=1e-3, moms=(0.8, 0.7))"
      ],
      "execution_count": 0,
      "outputs": [
        {
          "output_type": "display_data",
          "data": {
            "text/html": [
              "Total time: 00:24 <p><table border=\"1\" class=\"dataframe\">\n",
              "  <thead>\n",
              "    <tr style=\"text-align: left;\">\n",
              "      <th>epoch</th>\n",
              "      <th>train_loss</th>\n",
              "      <th>valid_loss</th>\n",
              "      <th>accuracy</th>\n",
              "      <th>time</th>\n",
              "    </tr>\n",
              "  </thead>\n",
              "  <tbody>\n",
              "    <tr>\n",
              "      <td>1</td>\n",
              "      <td>0.755149</td>\n",
              "      <td>0.616269</td>\n",
              "      <td>0.741803</td>\n",
              "      <td>00:24</td>\n",
              "    </tr>\n",
              "  </tbody>\n",
              "</table>"
            ],
            "text/plain": [
              "<IPython.core.display.HTML object>"
            ]
          },
          "metadata": {
            "tags": []
          }
        }
      ]
    },
    {
      "metadata": {
        "id": "4ezmwHewTn6c",
        "colab_type": "text"
      },
      "cell_type": "markdown",
      "source": [
        "And now we get a lower accuracy than with both previous models at **74.2%**. Let's continue training to see if it improves."
      ]
    },
    {
      "metadata": {
        "colab_type": "code",
        "outputId": "ab2bc73d-cbb6-499c-8faa-8f4632f11658",
        "id": "zg2wTuCq0vzN",
        "colab": {
          "base_uri": "https://localhost:8080/",
          "height": 103
        }
      },
      "cell_type": "code",
      "source": [
        "#Unfreeze  one layer\n",
        "#train model one epoch, using fit_one cycle that already provides some regularization\n",
        "# using a different learning rates for each layer for fine-tuning\n",
        "# include moms to decrease momentum so that we train faster and don't overshoot target\n",
        "learn_3.freeze_to(-2)\n",
        "learn_3.fit_one_cycle(1, slice(1e-4,1e-2), moms=(0.8,0.7))"
      ],
      "execution_count": 0,
      "outputs": [
        {
          "output_type": "display_data",
          "data": {
            "text/html": [
              "Total time: 00:28 <p><table border=\"1\" class=\"dataframe\">\n",
              "  <thead>\n",
              "    <tr style=\"text-align: left;\">\n",
              "      <th>epoch</th>\n",
              "      <th>train_loss</th>\n",
              "      <th>valid_loss</th>\n",
              "      <th>accuracy</th>\n",
              "      <th>time</th>\n",
              "    </tr>\n",
              "  </thead>\n",
              "  <tbody>\n",
              "    <tr>\n",
              "      <td>1</td>\n",
              "      <td>0.698049</td>\n",
              "      <td>0.583948</td>\n",
              "      <td>0.761612</td>\n",
              "      <td>00:28</td>\n",
              "    </tr>\n",
              "  </tbody>\n",
              "</table>"
            ],
            "text/plain": [
              "<IPython.core.display.HTML object>"
            ]
          },
          "metadata": {
            "tags": []
          }
        }
      ]
    },
    {
      "metadata": {
        "colab_type": "code",
        "outputId": "7302ab2a-541c-4059-bd54-600789a5c5fb",
        "id": "UPBiAilO0vzO",
        "colab": {
          "base_uri": "https://localhost:8080/",
          "height": 103
        }
      },
      "cell_type": "code",
      "source": [
        "#Unfreeze  additional layer\n",
        "#train model one epoch, using fit_one cycle that already provides some regularization\n",
        "# using a different learning rates for each layer for fine-tuning\n",
        "# include moms to decrease momentum so that we train faster and don't overshoot target\n",
        "learn_3.freeze_to(-3)\n",
        "learn_3.fit_one_cycle(1, slice(1e-5,5e-3), moms=(0.8,0.7))"
      ],
      "execution_count": 0,
      "outputs": [
        {
          "output_type": "display_data",
          "data": {
            "text/html": [
              "Total time: 00:47 <p><table border=\"1\" class=\"dataframe\">\n",
              "  <thead>\n",
              "    <tr style=\"text-align: left;\">\n",
              "      <th>epoch</th>\n",
              "      <th>train_loss</th>\n",
              "      <th>valid_loss</th>\n",
              "      <th>accuracy</th>\n",
              "      <th>time</th>\n",
              "    </tr>\n",
              "  </thead>\n",
              "  <tbody>\n",
              "    <tr>\n",
              "      <td>1</td>\n",
              "      <td>0.660167</td>\n",
              "      <td>0.535460</td>\n",
              "      <td>0.776639</td>\n",
              "      <td>00:47</td>\n",
              "    </tr>\n",
              "  </tbody>\n",
              "</table>"
            ],
            "text/plain": [
              "<IPython.core.display.HTML object>"
            ]
          },
          "metadata": {
            "tags": []
          }
        }
      ]
    },
    {
      "metadata": {
        "colab_type": "code",
        "outputId": "30f5eb47-fa99-4689-c1bd-bb30593c101e",
        "id": "KzDeo6pq0vzP",
        "colab": {
          "base_uri": "https://localhost:8080/",
          "height": 537
        }
      },
      "cell_type": "code",
      "source": [
        "#Unfreeze all\n",
        "#train model one epoch, using fit_one cycle that already provides some regularization\n",
        "# using a different learning rates for each layer for fine-tuning\n",
        "# include moms to decrease momentum so that we train faster and don't overshoot target\n",
        "learn_3.unfreeze()\n",
        "learn_3.fit_one_cycle(15, slice(1e-5,1e-3), moms=(0.8,0.7))"
      ],
      "execution_count": 0,
      "outputs": [
        {
          "output_type": "display_data",
          "data": {
            "text/html": [
              "Total time: 15:19 <p><table border=\"1\" class=\"dataframe\">\n",
              "  <thead>\n",
              "    <tr style=\"text-align: left;\">\n",
              "      <th>epoch</th>\n",
              "      <th>train_loss</th>\n",
              "      <th>valid_loss</th>\n",
              "      <th>accuracy</th>\n",
              "      <th>time</th>\n",
              "    </tr>\n",
              "  </thead>\n",
              "  <tbody>\n",
              "    <tr>\n",
              "      <td>1</td>\n",
              "      <td>0.647775</td>\n",
              "      <td>0.533825</td>\n",
              "      <td>0.774590</td>\n",
              "      <td>01:01</td>\n",
              "    </tr>\n",
              "    <tr>\n",
              "      <td>2</td>\n",
              "      <td>0.639680</td>\n",
              "      <td>0.521395</td>\n",
              "      <td>0.782104</td>\n",
              "      <td>00:59</td>\n",
              "    </tr>\n",
              "    <tr>\n",
              "      <td>3</td>\n",
              "      <td>0.642863</td>\n",
              "      <td>0.511909</td>\n",
              "      <td>0.787568</td>\n",
              "      <td>01:00</td>\n",
              "    </tr>\n",
              "    <tr>\n",
              "      <td>4</td>\n",
              "      <td>0.598835</td>\n",
              "      <td>0.493893</td>\n",
              "      <td>0.794399</td>\n",
              "      <td>01:01</td>\n",
              "    </tr>\n",
              "    <tr>\n",
              "      <td>5</td>\n",
              "      <td>0.597074</td>\n",
              "      <td>0.496806</td>\n",
              "      <td>0.800546</td>\n",
              "      <td>01:02</td>\n",
              "    </tr>\n",
              "    <tr>\n",
              "      <td>6</td>\n",
              "      <td>0.591990</td>\n",
              "      <td>0.478784</td>\n",
              "      <td>0.806011</td>\n",
              "      <td>01:01</td>\n",
              "    </tr>\n",
              "    <tr>\n",
              "      <td>7</td>\n",
              "      <td>0.561893</td>\n",
              "      <td>0.463800</td>\n",
              "      <td>0.814208</td>\n",
              "      <td>01:02</td>\n",
              "    </tr>\n",
              "    <tr>\n",
              "      <td>8</td>\n",
              "      <td>0.579383</td>\n",
              "      <td>0.463342</td>\n",
              "      <td>0.818989</td>\n",
              "      <td>01:01</td>\n",
              "    </tr>\n",
              "    <tr>\n",
              "      <td>9</td>\n",
              "      <td>0.535792</td>\n",
              "      <td>0.466089</td>\n",
              "      <td>0.816257</td>\n",
              "      <td>01:01</td>\n",
              "    </tr>\n",
              "    <tr>\n",
              "      <td>10</td>\n",
              "      <td>0.549344</td>\n",
              "      <td>0.469352</td>\n",
              "      <td>0.818989</td>\n",
              "      <td>01:02</td>\n",
              "    </tr>\n",
              "    <tr>\n",
              "      <td>11</td>\n",
              "      <td>0.527716</td>\n",
              "      <td>0.452823</td>\n",
              "      <td>0.819672</td>\n",
              "      <td>00:59</td>\n",
              "    </tr>\n",
              "    <tr>\n",
              "      <td>12</td>\n",
              "      <td>0.555019</td>\n",
              "      <td>0.443719</td>\n",
              "      <td>0.822404</td>\n",
              "      <td>01:01</td>\n",
              "    </tr>\n",
              "    <tr>\n",
              "      <td>13</td>\n",
              "      <td>0.552635</td>\n",
              "      <td>0.448477</td>\n",
              "      <td>0.824454</td>\n",
              "      <td>01:01</td>\n",
              "    </tr>\n",
              "    <tr>\n",
              "      <td>14</td>\n",
              "      <td>0.517576</td>\n",
              "      <td>0.450908</td>\n",
              "      <td>0.825137</td>\n",
              "      <td>01:01</td>\n",
              "    </tr>\n",
              "    <tr>\n",
              "      <td>15</td>\n",
              "      <td>0.531471</td>\n",
              "      <td>0.444371</td>\n",
              "      <td>0.824454</td>\n",
              "      <td>01:00</td>\n",
              "    </tr>\n",
              "  </tbody>\n",
              "</table>"
            ],
            "text/plain": [
              "<IPython.core.display.HTML object>"
            ]
          },
          "metadata": {
            "tags": []
          }
        }
      ]
    },
    {
      "metadata": {
        "id": "BJAC-sr4UNxU",
        "colab_type": "text"
      },
      "cell_type": "markdown",
      "source": [
        "With **82.4%** accuracy, this model is more accurate than the basic implementation but its not more accurate than the binary model fine-tuned. Let's check the results to see what is going on."
      ]
    },
    {
      "metadata": {
        "id": "EaMeK3ZVUk1d",
        "colab_type": "text"
      },
      "cell_type": "markdown",
      "source": [
        "**Confusion Matrix**"
      ]
    },
    {
      "metadata": {
        "colab_type": "code",
        "outputId": "ba73915e-570b-46a6-993e-ae68f389aeb5",
        "id": "2UgqWD4L0vzQ",
        "colab": {
          "base_uri": "https://localhost:8080/",
          "height": 415
        }
      },
      "cell_type": "code",
      "source": [
        "#create confusion matrix\n",
        "preds_3,y_3,losses_3 = learn_3.get_preds(with_loss=True)\n",
        "interp_3 = ClassificationInterpretation(learn_3, preds_3, y_3, losses_3)\n",
        "interp_3.plot_confusion_matrix()"
      ],
      "execution_count": 0,
      "outputs": [
        {
          "output_type": "display_data",
          "data": {
            "image/png": "[encoded data removed]",
            "text/plain": [
              "<Figure size 576x396 with 1 Axes>"
            ]
          },
          "metadata": {
            "tags": []
          }
        }
      ]
    },
    {
      "metadata": {
        "id": "Az0R3szWUy6m",
        "colab_type": "text"
      },
      "cell_type": "markdown",
      "source": [
        "The model seems to be misclassifying neutrals as negative. Let's check the tweets."
      ]
    },
    {
      "metadata": {
        "id": "kmgJc5B_VDLm",
        "colab_type": "text"
      },
      "cell_type": "markdown",
      "source": [
        "**Results**"
      ]
    },
    {
      "metadata": {
        "colab_type": "code",
        "outputId": "668c7ef2-ab2c-457a-9f76-03add37d31f9",
        "id": "4rGIZYoC0vzS",
        "colab": {
          "base_uri": "https://localhost:8080/",
          "height": 119
        }
      },
      "cell_type": "code",
      "source": [
        "#Add predictions to validation dataframe\n",
        "df_val_3['pred'] = df_val_3['text'].apply(lambda row: str(learn_3.predict(row)[0]))"
      ],
      "execution_count": 0,
      "outputs": [
        {
          "output_type": "stream",
          "text": [
            "/usr/local/lib/python3.6/dist-packages/ipykernel_launcher.py:1: SettingWithCopyWarning: \n",
            "A value is trying to be set on a copy of a slice from a DataFrame.\n",
            "Try using .loc[row_indexer,col_indexer] = value instead\n",
            "\n",
            "See the caveats in the documentation: http://pandas.pydata.org/pandas-docs/stable/indexing.html#indexing-view-versus-copy\n",
            "  \"\"\"Entry point for launching an IPython kernel.\n"
          ],
          "name": "stderr"
        }
      ]
    },
    {
      "metadata": {
        "colab_type": "code",
        "outputId": "7815b7e4-b350-4e89-c5e8-4e70fe3ceded",
        "id": "UuGnvBd20vzW",
        "colab": {
          "base_uri": "https://localhost:8080/",
          "height": 204
        }
      },
      "cell_type": "code",
      "source": [
        "#check dataframe\n",
        "df_val_3.tail()"
      ],
      "execution_count": 0,
      "outputs": [
        {
          "output_type": "execute_result",
          "data": {
            "text/html": [
              "<div>\n",
              "<style scoped>\n",
              "    .dataframe tbody tr th:only-of-type {\n",
              "        vertical-align: middle;\n",
              "    }\n",
              "\n",
              "    .dataframe tbody tr th {\n",
              "        vertical-align: top;\n",
              "    }\n",
              "\n",
              "    .dataframe thead th {\n",
              "        text-align: right;\n",
              "    }\n",
              "</style>\n",
              "<table border=\"1\" class=\"dataframe\">\n",
              "  <thead>\n",
              "    <tr style=\"text-align: right;\">\n",
              "      <th></th>\n",
              "      <th>label</th>\n",
              "      <th>text</th>\n",
              "      <th>pred</th>\n",
              "    </tr>\n",
              "  </thead>\n",
              "  <tbody>\n",
              "    <tr>\n",
              "      <th>2951</th>\n",
              "      <td>negative</td>\n",
              "      <td>@united flight 5187 to be specific. The last t...</td>\n",
              "      <td>negative</td>\n",
              "    </tr>\n",
              "    <tr>\n",
              "      <th>3888</th>\n",
              "      <td>negative</td>\n",
              "      <td>@united we are never going to get to out gate ...</td>\n",
              "      <td>negative</td>\n",
              "    </tr>\n",
              "    <tr>\n",
              "      <th>2161</th>\n",
              "      <td>negative</td>\n",
              "      <td>@united has once again earned a place as the w...</td>\n",
              "      <td>negative</td>\n",
              "    </tr>\n",
              "    <tr>\n",
              "      <th>14370</th>\n",
              "      <td>negative</td>\n",
              "      <td>@AmericanAir I have been on hold 3 hours.  2 s...</td>\n",
              "      <td>negative</td>\n",
              "    </tr>\n",
              "    <tr>\n",
              "      <th>9184</th>\n",
              "      <td>negative</td>\n",
              "      <td>@USAirways honestly - how is it quickly as pos...</td>\n",
              "      <td>negative</td>\n",
              "    </tr>\n",
              "  </tbody>\n",
              "</table>\n",
              "</div>"
            ],
            "text/plain": [
              "          label                                               text      pred\n",
              "2951   negative  @united flight 5187 to be specific. The last t...  negative\n",
              "3888   negative  @united we are never going to get to out gate ...  negative\n",
              "2161   negative  @united has once again earned a place as the w...  negative\n",
              "14370  negative  @AmericanAir I have been on hold 3 hours.  2 s...  negative\n",
              "9184   negative  @USAirways honestly - how is it quickly as pos...  negative"
            ]
          },
          "metadata": {
            "tags": []
          },
          "execution_count": 80
        }
      ]
    },
    {
      "metadata": {
        "colab_type": "code",
        "outputId": "607f4eb8-b1da-476b-df6a-b30182c89378",
        "id": "wJG5o6Qc0vzY",
        "colab": {
          "base_uri": "https://localhost:8080/",
          "height": 153
        }
      },
      "cell_type": "code",
      "source": [
        "#check dataframe info (nulls, columsn, type)\n",
        "df_val_3.info()"
      ],
      "execution_count": 0,
      "outputs": [
        {
          "output_type": "stream",
          "text": [
            "<class 'pandas.core.frame.DataFrame'>\n",
            "Int64Index: 1464 entries, 3885 to 9184\n",
            "Data columns (total 3 columns):\n",
            "label    1464 non-null object\n",
            "text     1464 non-null object\n",
            "pred     1464 non-null object\n",
            "dtypes: object(3)\n",
            "memory usage: 45.8+ KB\n"
          ],
          "name": "stdout"
        }
      ]
    },
    {
      "metadata": {
        "id": "VBrfiQ5VDO1G",
        "colab_type": "code",
        "outputId": "f6e83b57-cace-4a7d-8f29-49ccd574a0c4",
        "colab": {
          "base_uri": "https://localhost:8080/",
          "height": 417
        }
      },
      "cell_type": "code",
      "source": [
        "#plot predictions, targets, incorrect predictions\n",
        "fig, axarr = plt.subplots(1, 3, figsize=(12, 6), sharey=True)\n",
        "\n",
        "df_val_3.pred.value_counts().sort_index().plot.bar(\n",
        "    ax=axarr[0]\n",
        ")\n",
        "axarr[0].set_title(\"Sentiment count for predicted values\")\n",
        "\n",
        "df_val_3.label.value_counts().sort_index().plot.bar(\n",
        "    ax=axarr[1]\n",
        ")\n",
        "axarr[1].set_title(\"Sentiment count for target values\")\n",
        "\n",
        "df_val_3[df_val_3.label!= df_val_3.pred].label.value_counts().sort_index().plot.bar(\n",
        "    ax=axarr[2]\n",
        ")\n",
        "axarr[2].set_title(\"Sentiment count for incorrect predictions\");\n"
      ],
      "execution_count": 0,
      "outputs": [
        {
          "output_type": "display_data",
          "data": {
            "image/png": "[encoded data removed]",
            "text/plain": [
              "<Figure size 864x432 with 3 Axes>"
            ]
          },
          "metadata": {
            "tags": []
          }
        }
      ]
    },
    {
      "metadata": {
        "id": "BxasboOUWIUp",
        "colab_type": "text"
      },
      "cell_type": "markdown",
      "source": [
        "This model is overclassifying neutral as negatives. Comparatively, it doesn't do thsat bad with positive twees."
      ]
    },
    {
      "metadata": {
        "colab_type": "code",
        "outputId": "dff9e40b-f2d2-4964-b716-4202929fcd66",
        "id": "m18jUv4d0vzd",
        "colab": {
          "base_uri": "https://localhost:8080/",
          "height": 359
        }
      },
      "cell_type": "code",
      "source": [
        "#check sample of incorrect predictions\n",
        "df_val_3[df_val_3.label!= df_val_3.pred].tail(10)"
      ],
      "execution_count": 0,
      "outputs": [
        {
          "output_type": "execute_result",
          "data": {
            "text/html": [
              "<div>\n",
              "<style scoped>\n",
              "    .dataframe tbody tr th:only-of-type {\n",
              "        vertical-align: middle;\n",
              "    }\n",
              "\n",
              "    .dataframe tbody tr th {\n",
              "        vertical-align: top;\n",
              "    }\n",
              "\n",
              "    .dataframe thead th {\n",
              "        text-align: right;\n",
              "    }\n",
              "</style>\n",
              "<table border=\"1\" class=\"dataframe\">\n",
              "  <thead>\n",
              "    <tr style=\"text-align: right;\">\n",
              "      <th></th>\n",
              "      <th>label</th>\n",
              "      <th>text</th>\n",
              "      <th>pred</th>\n",
              "    </tr>\n",
              "  </thead>\n",
              "  <tbody>\n",
              "    <tr>\n",
              "      <th>355</th>\n",
              "      <td>negative</td>\n",
              "      <td>@VirginAmerica what happened to direct flights...</td>\n",
              "      <td>neutral</td>\n",
              "    </tr>\n",
              "    <tr>\n",
              "      <th>12607</th>\n",
              "      <td>negative</td>\n",
              "      <td>@AmericanAir #2298. Everyone else  was outstan...</td>\n",
              "      <td>positive</td>\n",
              "    </tr>\n",
              "    <tr>\n",
              "      <th>11243</th>\n",
              "      <td>neutral</td>\n",
              "      <td>@USAirways can they change to correct last nam...</td>\n",
              "      <td>negative</td>\n",
              "    </tr>\n",
              "    <tr>\n",
              "      <th>813</th>\n",
              "      <td>neutral</td>\n",
              "      <td>@united I hope so too</td>\n",
              "      <td>positive</td>\n",
              "    </tr>\n",
              "    <tr>\n",
              "      <th>8408</th>\n",
              "      <td>neutral</td>\n",
              "      <td>@JetBlue  Brazil to volunteer teaching english...</td>\n",
              "      <td>negative</td>\n",
              "    </tr>\n",
              "    <tr>\n",
              "      <th>9202</th>\n",
              "      <td>neutral</td>\n",
              "      <td>@USAirways but i bougth mc caren to jfk with s...</td>\n",
              "      <td>negative</td>\n",
              "    </tr>\n",
              "    <tr>\n",
              "      <th>14583</th>\n",
              "      <td>negative</td>\n",
              "      <td>@AmericanAir Nah, just horrible dining options...</td>\n",
              "      <td>positive</td>\n",
              "    </tr>\n",
              "    <tr>\n",
              "      <th>11420</th>\n",
              "      <td>negative</td>\n",
              "      <td>@usairways would it kill you to let me put my ...</td>\n",
              "      <td>neutral</td>\n",
              "    </tr>\n",
              "    <tr>\n",
              "      <th>3020</th>\n",
              "      <td>positive</td>\n",
              "      <td>@united enjoyed #heathrow lounge so much i alm...</td>\n",
              "      <td>negative</td>\n",
              "    </tr>\n",
              "    <tr>\n",
              "      <th>6951</th>\n",
              "      <td>neutral</td>\n",
              "      <td>@JetBlue @weepysweetmonty i heard youre planni...</td>\n",
              "      <td>negative</td>\n",
              "    </tr>\n",
              "  </tbody>\n",
              "</table>\n",
              "</div>"
            ],
            "text/plain": [
              "          label                                               text      pred\n",
              "355    negative  @VirginAmerica what happened to direct flights...   neutral\n",
              "12607  negative  @AmericanAir #2298. Everyone else  was outstan...  positive\n",
              "11243   neutral  @USAirways can they change to correct last nam...  negative\n",
              "813     neutral                              @united I hope so too  positive\n",
              "8408    neutral  @JetBlue  Brazil to volunteer teaching english...  negative\n",
              "9202    neutral  @USAirways but i bougth mc caren to jfk with s...  negative\n",
              "14583  negative  @AmericanAir Nah, just horrible dining options...  positive\n",
              "11420  negative  @usairways would it kill you to let me put my ...   neutral\n",
              "3020   positive  @united enjoyed #heathrow lounge so much i alm...  negative\n",
              "6951    neutral  @JetBlue @weepysweetmonty i heard youre planni...  negative"
            ]
          },
          "metadata": {
            "tags": []
          },
          "execution_count": 83
        }
      ]
    },
    {
      "metadata": {
        "id": "m4XEATkR-S2t",
        "colab_type": "code",
        "outputId": "c8e6d83c-283e-4ca7-ef73-27515b73ed18",
        "colab": {
          "base_uri": "https://localhost:8080/",
          "height": 34
        }
      },
      "cell_type": "code",
      "source": [
        "#negative tweet predicted as positive\n",
        "df_val_3.text.loc[14583]"
      ],
      "execution_count": 0,
      "outputs": [
        {
          "output_type": "execute_result",
          "data": {
            "text/plain": [
              "'@AmericanAir Nah, just horrible dining options outside of club. Luckily Manuel in the Admirals can make a Bloody Mary.'"
            ]
          },
          "metadata": {
            "tags": []
          },
          "execution_count": 84
        }
      ]
    },
    {
      "metadata": {
        "id": "BIhtUnx6WnRh",
        "colab_type": "text"
      },
      "cell_type": "markdown",
      "source": [
        "Negative tweet predicted as positive. Baffling as has negative words Nah and horrible. Positive words , luckily, admirals?"
      ]
    },
    {
      "metadata": {
        "id": "XnritKzT-nOA",
        "colab_type": "code",
        "outputId": "d58cb8ba-a4a6-4214-f224-e0cb5ca8dd18",
        "colab": {
          "base_uri": "https://localhost:8080/",
          "height": 34
        }
      },
      "cell_type": "code",
      "source": [
        "#positive tweet predicted as negative\n",
        "df_val_3.text.loc[3020]"
      ],
      "execution_count": 0,
      "outputs": [
        {
          "output_type": "execute_result",
          "data": {
            "text/plain": [
              "'@united enjoyed #heathrow lounge so much i almost missed my @airnzusa flight!'"
            ]
          },
          "metadata": {
            "tags": []
          },
          "execution_count": 85
        }
      ]
    },
    {
      "metadata": {
        "id": "dnyAgOTXXH4F",
        "colab_type": "text"
      },
      "cell_type": "markdown",
      "source": [
        "Not sure if its the word missed or the overuse of tweet language (@, #)"
      ]
    },
    {
      "metadata": {
        "colab_type": "code",
        "id": "6BHym1IP0vzl",
        "outputId": "1f5a1697-c98d-4575-d5a5-d48d5d8e0c78",
        "colab": {
          "base_uri": "https://localhost:8080/",
          "height": 34
        }
      },
      "cell_type": "code",
      "source": [
        "#neutral tweet predicted as positive\n",
        "df_val_3.text.loc[813]"
      ],
      "execution_count": 0,
      "outputs": [
        {
          "output_type": "execute_result",
          "data": {
            "text/plain": [
              "'@united I hope so too'"
            ]
          },
          "metadata": {
            "tags": []
          },
          "execution_count": 86
        }
      ]
    },
    {
      "metadata": {
        "id": "fr0JX7bzXg_g",
        "colab_type": "text"
      },
      "cell_type": "markdown",
      "source": [
        "Tweet above is labeled neutral and predicted as positive. Probably the word hope."
      ]
    },
    {
      "metadata": {
        "id": "S0wk9e42-Jfz",
        "colab_type": "code",
        "outputId": "84e73a1e-8842-4440-9bae-b8dc51e79bde",
        "colab": {
          "base_uri": "https://localhost:8080/",
          "height": 34
        }
      },
      "cell_type": "code",
      "source": [
        "#neutral tweet predicted as negative\n",
        "df_val_3.text.loc[6951]"
      ],
      "execution_count": 0,
      "outputs": [
        {
          "output_type": "execute_result",
          "data": {
            "text/plain": [
              "'@JetBlue @weepysweetmonty i heard youre planning on letting people fly in the overhead compartments. why would you do that?'"
            ]
          },
          "metadata": {
            "tags": []
          },
          "execution_count": 87
        }
      ]
    },
    {
      "metadata": {
        "id": "2grMczQ3YNWv",
        "colab_type": "text"
      },
      "cell_type": "markdown",
      "source": [
        "Neutral tweet predicted as negative. I actually agree with the model, it seems more negative than neutral."
      ]
    },
    {
      "metadata": {
        "id": "LqWfqRka-6bt",
        "colab_type": "code",
        "outputId": "c8ca6009-2ec6-4cd7-acb6-4038fc4a4b57",
        "colab": {
          "base_uri": "https://localhost:8080/",
          "height": 34
        }
      },
      "cell_type": "code",
      "source": [
        "#neutral tweet predicted as negative\n",
        "df_val_3.text.loc[8408]"
      ],
      "execution_count": 0,
      "outputs": [
        {
          "output_type": "execute_result",
          "data": {
            "text/plain": [
              "'@JetBlue  Brazil to volunteer teaching english &amp; spanish to Poor children so they have a skills to improve their chances of a better life.'"
            ]
          },
          "metadata": {
            "tags": []
          },
          "execution_count": 88
        }
      ]
    },
    {
      "metadata": {
        "id": "PKWbsCNtX_d8",
        "colab_type": "text"
      },
      "cell_type": "markdown",
      "source": [
        "Tweet above labeled as neutral, predicted as negative, maybe because it mentiones Poor children?"
      ]
    },
    {
      "metadata": {
        "id": "QFyHnYDkYd2n",
        "colab_type": "text"
      },
      "cell_type": "markdown",
      "source": [
        "So adding the neutral class did not improve the model. Let's try removing the neutral tweets as the model does not seem to do well with them. This should imporve the model as it returns it to a binary classification problem, though unbalanced."
      ]
    },
    {
      "metadata": {
        "id": "CZCGps9CYzI8",
        "colab_type": "text"
      },
      "cell_type": "markdown",
      "source": [
        "## **Model without neutral tweets**"
      ]
    },
    {
      "metadata": {
        "id": "vVkVIAKbZaWR",
        "colab_type": "text"
      },
      "cell_type": "markdown",
      "source": [
        "**Preprocess Data for ULMfiT**"
      ]
    },
    {
      "metadata": {
        "colab_type": "code",
        "outputId": "0d546d0c-2a6f-4636-c641-d22b6c822c0e",
        "id": "k-SOYRKM_qCg",
        "colab": {
          "base_uri": "https://localhost:8080/",
          "height": 204
        }
      },
      "cell_type": "code",
      "source": [
        "# create dataframe consisting of labels and text only as suggested by Yann LeCun et. al https://arxiv.org/pdf/1509.01626.pdf\n",
        "data_df_3 = pd.DataFrame()\n",
        "data_df_3['label'] = df['airline_sentiment']\n",
        "data_df_3['text'] = df['text'].copy()\n",
        "data_df_3.head()#check dataframe"
      ],
      "execution_count": 0,
      "outputs": [
        {
          "output_type": "execute_result",
          "data": {
            "text/html": [
              "<div>\n",
              "<style scoped>\n",
              "    .dataframe tbody tr th:only-of-type {\n",
              "        vertical-align: middle;\n",
              "    }\n",
              "\n",
              "    .dataframe tbody tr th {\n",
              "        vertical-align: top;\n",
              "    }\n",
              "\n",
              "    .dataframe thead th {\n",
              "        text-align: right;\n",
              "    }\n",
              "</style>\n",
              "<table border=\"1\" class=\"dataframe\">\n",
              "  <thead>\n",
              "    <tr style=\"text-align: right;\">\n",
              "      <th></th>\n",
              "      <th>label</th>\n",
              "      <th>text</th>\n",
              "    </tr>\n",
              "  </thead>\n",
              "  <tbody>\n",
              "    <tr>\n",
              "      <th>0</th>\n",
              "      <td>neutral</td>\n",
              "      <td>@VirginAmerica What @dhepburn said.</td>\n",
              "    </tr>\n",
              "    <tr>\n",
              "      <th>1</th>\n",
              "      <td>positive</td>\n",
              "      <td>@VirginAmerica plus you've added commercials t...</td>\n",
              "    </tr>\n",
              "    <tr>\n",
              "      <th>2</th>\n",
              "      <td>neutral</td>\n",
              "      <td>@VirginAmerica I didn't today... Must mean I n...</td>\n",
              "    </tr>\n",
              "    <tr>\n",
              "      <th>3</th>\n",
              "      <td>negative</td>\n",
              "      <td>@VirginAmerica it's really aggressive to blast...</td>\n",
              "    </tr>\n",
              "    <tr>\n",
              "      <th>4</th>\n",
              "      <td>negative</td>\n",
              "      <td>@VirginAmerica and it's a really big bad thing...</td>\n",
              "    </tr>\n",
              "  </tbody>\n",
              "</table>\n",
              "</div>"
            ],
            "text/plain": [
              "      label                                               text\n",
              "0   neutral                @VirginAmerica What @dhepburn said.\n",
              "1  positive  @VirginAmerica plus you've added commercials t...\n",
              "2   neutral  @VirginAmerica I didn't today... Must mean I n...\n",
              "3  negative  @VirginAmerica it's really aggressive to blast...\n",
              "4  negative  @VirginAmerica and it's a really big bad thing..."
            ]
          },
          "metadata": {
            "tags": []
          },
          "execution_count": 89
        }
      ]
    },
    {
      "metadata": {
        "colab_type": "code",
        "outputId": "0753d7aa-f968-452e-d50d-4354b4824ce1",
        "id": "ytzzfKIZ_qCi",
        "colab": {
          "base_uri": "https://localhost:8080/",
          "height": 34
        }
      },
      "cell_type": "code",
      "source": [
        "#check size\n",
        "data_df_3.shape"
      ],
      "execution_count": 0,
      "outputs": [
        {
          "output_type": "execute_result",
          "data": {
            "text/plain": [
              "(14640, 2)"
            ]
          },
          "metadata": {
            "tags": []
          },
          "execution_count": 90
        }
      ]
    },
    {
      "metadata": {
        "id": "ftzthTzDSafc",
        "colab_type": "code",
        "colab": {}
      },
      "cell_type": "code",
      "source": [
        "#remove neutral tweets\n",
        "data_df_3 = data_df_3[data_df_3.label != 'neutral']"
      ],
      "execution_count": 0,
      "outputs": []
    },
    {
      "metadata": {
        "colab_type": "code",
        "outputId": "831d8ff9-c0f4-4e17-da59-5552a37b98b6",
        "id": "Y_lztVjS_qCn",
        "colab": {
          "base_uri": "https://localhost:8080/",
          "height": 136
        }
      },
      "cell_type": "code",
      "source": [
        "#check datsframe info (nulls, columns, types)\n",
        "data_df_3.info()"
      ],
      "execution_count": 0,
      "outputs": [
        {
          "output_type": "stream",
          "text": [
            "<class 'pandas.core.frame.DataFrame'>\n",
            "Int64Index: 11541 entries, 1 to 14638\n",
            "Data columns (total 2 columns):\n",
            "label    11541 non-null object\n",
            "text     11541 non-null object\n",
            "dtypes: object(2)\n",
            "memory usage: 270.5+ KB\n"
          ],
          "name": "stdout"
        }
      ]
    },
    {
      "metadata": {
        "id": "WyJZW1y9TEQK",
        "colab_type": "code",
        "outputId": "c05dafca-728d-4b47-faa6-fce02c6cfaa3",
        "colab": {
          "base_uri": "https://localhost:8080/",
          "height": 390
        }
      },
      "cell_type": "code",
      "source": [
        "#check class distribution\n",
        "data_df_3.label.value_counts().plot(kind='bar', title='Airline Sentiment Count w/o neutral');"
      ],
      "execution_count": 0,
      "outputs": [
        {
          "output_type": "display_data",
          "data": {
            "image/png": "[encoded data removed]",
            "text/plain": [
              "<Figure size 576x396 with 1 Axes>"
            ]
          },
          "metadata": {
            "tags": []
          }
        }
      ]
    },
    {
      "metadata": {
        "colab_type": "code",
        "outputId": "dcc776e7-cb82-4783-f097-03246fcaa07e",
        "id": "BmqwZnU5_qCv",
        "colab": {
          "base_uri": "https://localhost:8080/",
          "height": 34
        }
      },
      "cell_type": "code",
      "source": [
        "#split data into train 90%, validate 10% as per fastai deep_learning course (lesson 10)\n",
        "df_trn_4, df_val_4 = train_test_split(data_df_3, stratify=data_df_3['label'], test_size = 0.1, random_state = 83)\n",
        "\n",
        "df_trn_4.shape, df_val_4.shape"
      ],
      "execution_count": 0,
      "outputs": [
        {
          "output_type": "execute_result",
          "data": {
            "text/plain": [
              "((10386, 2), (1155, 2))"
            ]
          },
          "metadata": {
            "tags": []
          },
          "execution_count": 94
        }
      ]
    },
    {
      "metadata": {
        "colab_type": "code",
        "id": "fYoO0Xlg_qCz",
        "colab": {}
      },
      "cell_type": "code",
      "source": [
        "#select batch-size for classifier\n",
        "bs=32 #default for TextClasDataBunch\n",
        "# create a DataBunch (fastai data object) for Language Model\n",
        "data_lm_4 = TextLMDataBunch.from_df(train_df = df_trn_4, valid_df = df_val_4, path = \"\", min_freq=1)\n",
        "\n",
        "# create a DataBunch (fastai data object) for RNN classifier using vocab from language model\n",
        "data_clas_4 = TextClasDataBunch.from_df(path = \"\", train_df = df_trn_4, valid_df = df_val_4, vocab=data_lm_4.train_ds.vocab, bs=bs, min_freq=1)"
      ],
      "execution_count": 0,
      "outputs": []
    },
    {
      "metadata": {
        "colab_type": "code",
        "outputId": "6bf430ba-8741-48eb-a893-66b27227d920",
        "id": "OJW_Su31_qC0",
        "colab": {
          "base_uri": "https://localhost:8080/",
          "height": 289
        }
      },
      "cell_type": "code",
      "source": [
        "# check how data looks after preprocessing\n",
        "data_lm_4.show_batch()"
      ],
      "execution_count": 0,
      "outputs": [
        {
          "output_type": "display_data",
          "data": {
            "text/html": [
              "<table border=\"1\" class=\"dataframe\">\n",
              "  <thead>\n",
              "    <tr style=\"text-align: right;\">\n",
              "      <th>idx</th>\n",
              "      <th>text</th>\n",
              "    </tr>\n",
              "  </thead>\n",
              "  <tbody>\n",
              "    <tr>\n",
              "      <td>0</td>\n",
              "      <td>ramp was broken . \" xxmaj no other ramps in xxmaj charlotte ? ? xxbos @united that would be great - 1k us651621 xxbos @usairways tell them to get on that , please . xxbos @southwestair i xxup would xxup do xxup anything xxup for tickets to the xxup vegas ... xxup anything . i love imagine dragons so much ! ! xxbos @jetblue xxmaj been a member since 2007</td>\n",
              "    </tr>\n",
              "    <tr>\n",
              "      <td>1</td>\n",
              "      <td>service on xxup sw xxbos @jetblue xxmaj flight 1562 is still waiting for bags . xxmaj most of us checked in 12 hours ago . xxmaj people are missing connections . xxmaj please help ! xxbos @southwestair you guys rock ! xxmaj so easy , quick , and affordable to change my flight . # bestairlineever # neverchange xxbos @usairways xxmaj that link does n't work on mobile . xxbos</td>\n",
              "    </tr>\n",
              "    <tr>\n",
              "      <td>2</td>\n",
              "      <td>sitting in a bus without air in front of plane and there is no communication from anyone40min xxbos @jetblue sounds great ! xxmaj thank you ! ! :) xxbos @usairways i get some bs from a guy at the door says door closes 10 minutes before it backs out . xxmaj yet i know for a fact it was 5 people short xxbos @americanair has the worst flights and customer</td>\n",
              "    </tr>\n",
              "    <tr>\n",
              "      <td>3</td>\n",
              "      <td>phone . xxmaj do you actually have any employees ? xxbos @americanair not to mention its a three hour wait to get an agent on the phone . xxbos @usairways not happy w / app xxmaj late xxmaj flightly . xxmaj last time i flew would n't let me check in , xxmaj this time i checked in went on xxmaj late xxmaj flightr says i never checked in xxbos</td>\n",
              "    </tr>\n",
              "    <tr>\n",
              "      <td>4</td>\n",
              "      <td>your staff at xxup lax really messed up on this one . xxmaj failing to scan my suitcase tag . xxbos @united should hire extra customer service reps . 50 minute wait time to ask one question ? i would rather just fly another airline , thanks . xxbos @southwestair xxmaj hi - xxmaj my flight ( xxup bna to xxup lga ) was xxmaj cancelled xxmaj flighted this morning--</td>\n",
              "    </tr>\n",
              "  </tbody>\n",
              "</table>"
            ],
            "text/plain": [
              "<IPython.core.display.HTML object>"
            ]
          },
          "metadata": {
            "tags": []
          }
        }
      ]
    },
    {
      "metadata": {
        "id": "RE4GxWKzoRVd",
        "colab_type": "text"
      },
      "cell_type": "markdown",
      "source": [
        "**Language Model Fine-tuning**"
      ]
    },
    {
      "metadata": {
        "colab_type": "code",
        "id": "NO5ZcuM0_qC4",
        "colab": {}
      },
      "cell_type": "code",
      "source": [
        "#create learner model using pretrained dataset AWD_LSTM Merity et. al https://arxiv.org/abs/1708.02182 from fastai\n",
        "drop_mult=0.1\n",
        "learn_4 = language_model_learner(data_lm_4, AWD_LSTM, drop_mult=drop_mult)"
      ],
      "execution_count": 0,
      "outputs": []
    },
    {
      "metadata": {
        "colab_type": "code",
        "outputId": "de3fd47d-3727-4de2-c39c-88bcb2feaf02",
        "id": "TnXZISkM_qC6",
        "colab": {
          "base_uri": "https://localhost:8080/",
          "height": 459
        }
      },
      "cell_type": "code",
      "source": [
        "#check learner structure\n",
        "list(learn_4.model.children())"
      ],
      "execution_count": 0,
      "outputs": [
        {
          "output_type": "execute_result",
          "data": {
            "text/plain": [
              "[AWD_LSTM(\n",
              "   (encoder): Embedding(12694, 400, padding_idx=1)\n",
              "   (encoder_dp): EmbeddingDropout(\n",
              "     (emb): Embedding(12694, 400, padding_idx=1)\n",
              "   )\n",
              "   (rnns): ModuleList(\n",
              "     (0): WeightDropout(\n",
              "       (module): LSTM(400, 1150, batch_first=True)\n",
              "     )\n",
              "     (1): WeightDropout(\n",
              "       (module): LSTM(1150, 1150, batch_first=True)\n",
              "     )\n",
              "     (2): WeightDropout(\n",
              "       (module): LSTM(1150, 400, batch_first=True)\n",
              "     )\n",
              "   )\n",
              "   (input_dp): RNNDropout()\n",
              "   (hidden_dps): ModuleList(\n",
              "     (0): RNNDropout()\n",
              "     (1): RNNDropout()\n",
              "     (2): RNNDropout()\n",
              "   )\n",
              " ), LinearDecoder(\n",
              "   (decoder): Linear(in_features=400, out_features=12694, bias=True)\n",
              "   (output_dp): RNNDropout()\n",
              " )]"
            ]
          },
          "metadata": {
            "tags": []
          },
          "execution_count": 98
        }
      ]
    },
    {
      "metadata": {
        "colab_type": "code",
        "outputId": "2798824d-9188-4cc0-d7c4-41f891d5494d",
        "id": "p1qnAuID_qDA",
        "colab": {
          "base_uri": "https://localhost:8080/",
          "height": 378
        }
      },
      "cell_type": "code",
      "source": [
        "#find optimum learning rate\n",
        "learn_4.lr_find(start_lr=1e-8, end_lr=1e2)\n",
        "learn_4.recorder.plot()"
      ],
      "execution_count": 0,
      "outputs": [
        {
          "output_type": "display_data",
          "data": {
            "text/html": [
              ""
            ],
            "text/plain": [
              "<IPython.core.display.HTML object>"
            ]
          },
          "metadata": {
            "tags": []
          }
        },
        {
          "output_type": "stream",
          "text": [
            "LR Finder is complete, type {learner_name}.recorder.plot() to see the graph.\n"
          ],
          "name": "stdout"
        },
        {
          "output_type": "display_data",
          "data": {
            "image/png": "[encoded data removed]",
            "text/plain": [
              "<Figure size 576x396 with 1 Axes>"
            ]
          },
          "metadata": {
            "tags": []
          }
        }
      ]
    },
    {
      "metadata": {
        "colab_type": "code",
        "outputId": "d592fa80-c43c-49ff-86a0-2720ddad3551",
        "id": "JgRS-6rJ_qDC",
        "colab": {
          "base_uri": "https://localhost:8080/",
          "height": 103
        }
      },
      "cell_type": "code",
      "source": [
        "#train model w/ max learning rate 1e-3, one epoch, using fit_one cycle that already provides some regularization\n",
        "# include moms to decrease momentum so that we train faster and don't overshoot target\n",
        "learn_4.fit_one_cycle(cyc_len=1, max_lr=1e-3, moms=(0.8, 0.7))"
      ],
      "execution_count": 0,
      "outputs": [
        {
          "output_type": "display_data",
          "data": {
            "text/html": [
              "Total time: 00:22 <p><table border=\"1\" class=\"dataframe\">\n",
              "  <thead>\n",
              "    <tr style=\"text-align: left;\">\n",
              "      <th>epoch</th>\n",
              "      <th>train_loss</th>\n",
              "      <th>valid_loss</th>\n",
              "      <th>accuracy</th>\n",
              "      <th>time</th>\n",
              "    </tr>\n",
              "  </thead>\n",
              "  <tbody>\n",
              "    <tr>\n",
              "      <td>1</td>\n",
              "      <td>6.863474</td>\n",
              "      <td>6.356096</td>\n",
              "      <td>0.158100</td>\n",
              "      <td>00:22</td>\n",
              "    </tr>\n",
              "  </tbody>\n",
              "</table>"
            ],
            "text/plain": [
              "<IPython.core.display.HTML object>"
            ]
          },
          "metadata": {
            "tags": []
          }
        }
      ]
    },
    {
      "metadata": {
        "id": "FtMXpD23pMK6",
        "colab_type": "text"
      },
      "cell_type": "markdown",
      "source": [
        "At **15.8%**, accuracy is a little lower than in all previous models, but not that much. Let's continue training."
      ]
    },
    {
      "metadata": {
        "colab_type": "code",
        "outputId": "0d022d06-ccfa-45a4-bf45-ea006746312e",
        "id": "fHkw65Oe_qDE",
        "colab": {
          "base_uri": "https://localhost:8080/",
          "height": 537
        }
      },
      "cell_type": "code",
      "source": [
        "# unfreeze model and continue training for 15 epochs\n",
        "learn_4.unfreeze()\n",
        "learn_4.fit_one_cycle(cyc_len=15, max_lr=1e-3, moms=(0.8, 0.7))"
      ],
      "execution_count": 0,
      "outputs": [
        {
          "output_type": "display_data",
          "data": {
            "text/html": [
              "Total time: 07:03 <p><table border=\"1\" class=\"dataframe\">\n",
              "  <thead>\n",
              "    <tr style=\"text-align: left;\">\n",
              "      <th>epoch</th>\n",
              "      <th>train_loss</th>\n",
              "      <th>valid_loss</th>\n",
              "      <th>accuracy</th>\n",
              "      <th>time</th>\n",
              "    </tr>\n",
              "  </thead>\n",
              "  <tbody>\n",
              "    <tr>\n",
              "      <td>1</td>\n",
              "      <td>5.897778</td>\n",
              "      <td>5.281853</td>\n",
              "      <td>0.197385</td>\n",
              "      <td>00:28</td>\n",
              "    </tr>\n",
              "    <tr>\n",
              "      <td>2</td>\n",
              "      <td>5.351610</td>\n",
              "      <td>4.698582</td>\n",
              "      <td>0.221014</td>\n",
              "      <td>00:28</td>\n",
              "    </tr>\n",
              "    <tr>\n",
              "      <td>3</td>\n",
              "      <td>4.759184</td>\n",
              "      <td>4.273860</td>\n",
              "      <td>0.250574</td>\n",
              "      <td>00:28</td>\n",
              "    </tr>\n",
              "    <tr>\n",
              "      <td>4</td>\n",
              "      <td>4.346770</td>\n",
              "      <td>4.096588</td>\n",
              "      <td>0.266167</td>\n",
              "      <td>00:28</td>\n",
              "    </tr>\n",
              "    <tr>\n",
              "      <td>5</td>\n",
              "      <td>4.043130</td>\n",
              "      <td>4.040946</td>\n",
              "      <td>0.269005</td>\n",
              "      <td>00:28</td>\n",
              "    </tr>\n",
              "    <tr>\n",
              "      <td>6</td>\n",
              "      <td>3.765982</td>\n",
              "      <td>4.034140</td>\n",
              "      <td>0.271875</td>\n",
              "      <td>00:28</td>\n",
              "    </tr>\n",
              "    <tr>\n",
              "      <td>7</td>\n",
              "      <td>3.517258</td>\n",
              "      <td>4.067775</td>\n",
              "      <td>0.269133</td>\n",
              "      <td>00:28</td>\n",
              "    </tr>\n",
              "    <tr>\n",
              "      <td>8</td>\n",
              "      <td>3.236789</td>\n",
              "      <td>4.131282</td>\n",
              "      <td>0.266901</td>\n",
              "      <td>00:28</td>\n",
              "    </tr>\n",
              "    <tr>\n",
              "      <td>9</td>\n",
              "      <td>2.979490</td>\n",
              "      <td>4.239089</td>\n",
              "      <td>0.262341</td>\n",
              "      <td>00:28</td>\n",
              "    </tr>\n",
              "    <tr>\n",
              "      <td>10</td>\n",
              "      <td>2.748489</td>\n",
              "      <td>4.325390</td>\n",
              "      <td>0.257653</td>\n",
              "      <td>00:28</td>\n",
              "    </tr>\n",
              "    <tr>\n",
              "      <td>11</td>\n",
              "      <td>2.555618</td>\n",
              "      <td>4.394934</td>\n",
              "      <td>0.256696</td>\n",
              "      <td>00:28</td>\n",
              "    </tr>\n",
              "    <tr>\n",
              "      <td>12</td>\n",
              "      <td>2.402590</td>\n",
              "      <td>4.467930</td>\n",
              "      <td>0.253444</td>\n",
              "      <td>00:28</td>\n",
              "    </tr>\n",
              "    <tr>\n",
              "      <td>13</td>\n",
              "      <td>2.308435</td>\n",
              "      <td>4.495645</td>\n",
              "      <td>0.252232</td>\n",
              "      <td>00:28</td>\n",
              "    </tr>\n",
              "    <tr>\n",
              "      <td>14</td>\n",
              "      <td>2.239145</td>\n",
              "      <td>4.514316</td>\n",
              "      <td>0.251594</td>\n",
              "      <td>00:28</td>\n",
              "    </tr>\n",
              "    <tr>\n",
              "      <td>15</td>\n",
              "      <td>2.210287</td>\n",
              "      <td>4.520472</td>\n",
              "      <td>0.252009</td>\n",
              "      <td>00:28</td>\n",
              "    </tr>\n",
              "  </tbody>\n",
              "</table>"
            ],
            "text/plain": [
              "<IPython.core.display.HTML object>"
            ]
          },
          "metadata": {
            "tags": []
          }
        }
      ]
    },
    {
      "metadata": {
        "id": "A6G_74t7pscC",
        "colab_type": "text"
      },
      "cell_type": "markdown",
      "source": [
        "Again, accuracy is a little lower than in previous models at **25.2%**, but its improving, and validation loss is improving too."
      ]
    },
    {
      "metadata": {
        "colab_type": "code",
        "id": "gOMhRMl-_qDH",
        "colab": {}
      },
      "cell_type": "code",
      "source": [
        "#save fine-tuned model to use for classification \n",
        "learn_4.save_encoder('ft_enc')"
      ],
      "execution_count": 0,
      "outputs": []
    },
    {
      "metadata": {
        "id": "7fQaezG5qHgG",
        "colab_type": "text"
      },
      "cell_type": "markdown",
      "source": [
        "**Train the classifier**"
      ]
    },
    {
      "metadata": {
        "colab_type": "code",
        "id": "4q7BLkZy_qDH",
        "colab": {}
      },
      "cell_type": "code",
      "source": [
        "# create classifier using DataBunch created earlier for classification and AWS_LSTM pretrained language model \n",
        "drop_mult = 0.5\n",
        "learn_4 = text_classifier_learner(data_clas_4, AWD_LSTM, drop_mult=drop_mult)\n",
        "learn_4.load_encoder('ft_enc')"
      ],
      "execution_count": 0,
      "outputs": []
    },
    {
      "metadata": {
        "colab_type": "code",
        "id": "cJyNowbo_qDJ",
        "colab": {}
      },
      "cell_type": "code",
      "source": [
        "#freeze learning\n",
        "learn_4.freeze()\n",
        "\n"
      ],
      "execution_count": 0,
      "outputs": []
    },
    {
      "metadata": {
        "colab_type": "code",
        "outputId": "0b42caa0-dffc-4f65-f31f-0a1dab97a467",
        "id": "bqnf7Lu9_qDN",
        "colab": {
          "base_uri": "https://localhost:8080/",
          "height": 378
        }
      },
      "cell_type": "code",
      "source": [
        "#find optimum learning rate\n",
        "learn_4.lr_find(start_lr=1e-8, end_lr=1e2)\n",
        "learn_4.recorder.plot()"
      ],
      "execution_count": 0,
      "outputs": [
        {
          "output_type": "display_data",
          "data": {
            "text/html": [
              ""
            ],
            "text/plain": [
              "<IPython.core.display.HTML object>"
            ]
          },
          "metadata": {
            "tags": []
          }
        },
        {
          "output_type": "stream",
          "text": [
            "LR Finder is complete, type {learner_name}.recorder.plot() to see the graph.\n"
          ],
          "name": "stdout"
        },
        {
          "output_type": "display_data",
          "data": {
            "image/png": "[encoded data removed]",
            "text/plain": [
              "<Figure size 576x396 with 1 Axes>"
            ]
          },
          "metadata": {
            "tags": []
          }
        }
      ]
    },
    {
      "metadata": {
        "colab_type": "code",
        "outputId": "70938be0-2773-41a3-a006-e940723ab200",
        "id": "hNvgN3qy_qDP",
        "colab": {
          "base_uri": "https://localhost:8080/",
          "height": 103
        }
      },
      "cell_type": "code",
      "source": [
        "#train model w/ max learning rate 1e-3, one epoch, using fit_one cycle that already provides some regularization\n",
        "# include moms to decrease momentum so that we train faster and don't overshoot target\n",
        "learn_4.fit_one_cycle(cyc_len=1, max_lr=1e-3, moms=(0.8, 0.7))"
      ],
      "execution_count": 0,
      "outputs": [
        {
          "output_type": "display_data",
          "data": {
            "text/html": [
              "Total time: 00:19 <p><table border=\"1\" class=\"dataframe\">\n",
              "  <thead>\n",
              "    <tr style=\"text-align: left;\">\n",
              "      <th>epoch</th>\n",
              "      <th>train_loss</th>\n",
              "      <th>valid_loss</th>\n",
              "      <th>accuracy</th>\n",
              "      <th>time</th>\n",
              "    </tr>\n",
              "  </thead>\n",
              "  <tbody>\n",
              "    <tr>\n",
              "      <td>1</td>\n",
              "      <td>0.420883</td>\n",
              "      <td>0.251649</td>\n",
              "      <td>0.894372</td>\n",
              "      <td>00:19</td>\n",
              "    </tr>\n",
              "  </tbody>\n",
              "</table>"
            ],
            "text/plain": [
              "<IPython.core.display.HTML object>"
            ]
          },
          "metadata": {
            "tags": []
          }
        }
      ]
    },
    {
      "metadata": {
        "id": "EgfuPaZ2scKU",
        "colab_type": "text"
      },
      "cell_type": "markdown",
      "source": [
        "**89.4%** accuracy, that is better than all other models so far. Let's continue training."
      ]
    },
    {
      "metadata": {
        "colab_type": "code",
        "outputId": "53a59652-6b04-40b5-ffd3-53857c0d2988",
        "id": "CfcJz2JK_qDR",
        "colab": {
          "base_uri": "https://localhost:8080/",
          "height": 103
        }
      },
      "cell_type": "code",
      "source": [
        "#Unfreeze  one layer\n",
        "#train model one epoch, using fit_one cycle that already provides some regularization\n",
        "# using a different learning rates for each layer for fine-tuning\n",
        "# include moms to decrease momentum so that we train faster and don't overshoot target\n",
        "learn_4.freeze_to(-2)\n",
        "learn_4.fit_one_cycle(1, slice(1e-4,1e-2), moms=(0.8,0.7))"
      ],
      "execution_count": 0,
      "outputs": [
        {
          "output_type": "display_data",
          "data": {
            "text/html": [
              "Total time: 00:22 <p><table border=\"1\" class=\"dataframe\">\n",
              "  <thead>\n",
              "    <tr style=\"text-align: left;\">\n",
              "      <th>epoch</th>\n",
              "      <th>train_loss</th>\n",
              "      <th>valid_loss</th>\n",
              "      <th>accuracy</th>\n",
              "      <th>time</th>\n",
              "    </tr>\n",
              "  </thead>\n",
              "  <tbody>\n",
              "    <tr>\n",
              "      <td>1</td>\n",
              "      <td>0.338225</td>\n",
              "      <td>0.193074</td>\n",
              "      <td>0.914286</td>\n",
              "      <td>00:22</td>\n",
              "    </tr>\n",
              "  </tbody>\n",
              "</table>"
            ],
            "text/plain": [
              "<IPython.core.display.HTML object>"
            ]
          },
          "metadata": {
            "tags": []
          }
        }
      ]
    },
    {
      "metadata": {
        "colab_type": "code",
        "outputId": "da625626-593b-401f-8c80-99c9fd20b9d0",
        "id": "RqNPEH11_qDT",
        "colab": {
          "base_uri": "https://localhost:8080/",
          "height": 103
        }
      },
      "cell_type": "code",
      "source": [
        "#Unfreeze  additional layer\n",
        "#train model one epoch, using fit_one cycle that already provides some regularization\n",
        "# using a different learning rates for each layer for fine-tuning\n",
        "# include moms to decrease momentum so that we train faster and don't overshoot target\n",
        "learn_4.freeze_to(-3)\n",
        "learn_4.fit_one_cycle(1, slice(1e-5,5e-3), moms=(0.8,0.7))"
      ],
      "execution_count": 0,
      "outputs": [
        {
          "output_type": "display_data",
          "data": {
            "text/html": [
              "Total time: 00:36 <p><table border=\"1\" class=\"dataframe\">\n",
              "  <thead>\n",
              "    <tr style=\"text-align: left;\">\n",
              "      <th>epoch</th>\n",
              "      <th>train_loss</th>\n",
              "      <th>valid_loss</th>\n",
              "      <th>accuracy</th>\n",
              "      <th>time</th>\n",
              "    </tr>\n",
              "  </thead>\n",
              "  <tbody>\n",
              "    <tr>\n",
              "      <td>1</td>\n",
              "      <td>0.331057</td>\n",
              "      <td>0.193903</td>\n",
              "      <td>0.913420</td>\n",
              "      <td>00:36</td>\n",
              "    </tr>\n",
              "  </tbody>\n",
              "</table>"
            ],
            "text/plain": [
              "<IPython.core.display.HTML object>"
            ]
          },
          "metadata": {
            "tags": []
          }
        }
      ]
    },
    {
      "metadata": {
        "colab_type": "code",
        "outputId": "808096e3-2c7d-4f56-d8d2-7a5859a3feef",
        "id": "E8KfZI8y_qDW",
        "colab": {
          "base_uri": "https://localhost:8080/",
          "height": 537
        }
      },
      "cell_type": "code",
      "source": [
        "#Unfreeze  all\n",
        "#train model 15 epochs, using fit_one cycle that already provides some regularization\n",
        "# using a different learning rates for each layer for fine-tuning\n",
        "# include moms to decrease momentum so that we train faster and don't overshoot target\n",
        "learn_4.unfreeze()\n",
        "learn_4.fit_one_cycle(15, slice(1e-5,1e-3), moms=(0.8,0.7))"
      ],
      "execution_count": 0,
      "outputs": [
        {
          "output_type": "display_data",
          "data": {
            "text/html": [
              "Total time: 12:05 <p><table border=\"1\" class=\"dataframe\">\n",
              "  <thead>\n",
              "    <tr style=\"text-align: left;\">\n",
              "      <th>epoch</th>\n",
              "      <th>train_loss</th>\n",
              "      <th>valid_loss</th>\n",
              "      <th>accuracy</th>\n",
              "      <th>time</th>\n",
              "    </tr>\n",
              "  </thead>\n",
              "  <tbody>\n",
              "    <tr>\n",
              "      <td>1</td>\n",
              "      <td>0.313016</td>\n",
              "      <td>0.185741</td>\n",
              "      <td>0.916883</td>\n",
              "      <td>00:47</td>\n",
              "    </tr>\n",
              "    <tr>\n",
              "      <td>2</td>\n",
              "      <td>0.299098</td>\n",
              "      <td>0.186880</td>\n",
              "      <td>0.916017</td>\n",
              "      <td>00:50</td>\n",
              "    </tr>\n",
              "    <tr>\n",
              "      <td>3</td>\n",
              "      <td>0.305828</td>\n",
              "      <td>0.176552</td>\n",
              "      <td>0.922944</td>\n",
              "      <td>00:48</td>\n",
              "    </tr>\n",
              "    <tr>\n",
              "      <td>4</td>\n",
              "      <td>0.309566</td>\n",
              "      <td>0.170958</td>\n",
              "      <td>0.929870</td>\n",
              "      <td>00:47</td>\n",
              "    </tr>\n",
              "    <tr>\n",
              "      <td>5</td>\n",
              "      <td>0.292763</td>\n",
              "      <td>0.170470</td>\n",
              "      <td>0.926407</td>\n",
              "      <td>00:48</td>\n",
              "    </tr>\n",
              "    <tr>\n",
              "      <td>6</td>\n",
              "      <td>0.282157</td>\n",
              "      <td>0.163103</td>\n",
              "      <td>0.930736</td>\n",
              "      <td>00:48</td>\n",
              "    </tr>\n",
              "    <tr>\n",
              "      <td>7</td>\n",
              "      <td>0.282879</td>\n",
              "      <td>0.168165</td>\n",
              "      <td>0.929004</td>\n",
              "      <td>00:47</td>\n",
              "    </tr>\n",
              "    <tr>\n",
              "      <td>8</td>\n",
              "      <td>0.249387</td>\n",
              "      <td>0.166886</td>\n",
              "      <td>0.929004</td>\n",
              "      <td>00:47</td>\n",
              "    </tr>\n",
              "    <tr>\n",
              "      <td>9</td>\n",
              "      <td>0.233395</td>\n",
              "      <td>0.170528</td>\n",
              "      <td>0.929870</td>\n",
              "      <td>00:48</td>\n",
              "    </tr>\n",
              "    <tr>\n",
              "      <td>10</td>\n",
              "      <td>0.224902</td>\n",
              "      <td>0.163241</td>\n",
              "      <td>0.934199</td>\n",
              "      <td>00:49</td>\n",
              "    </tr>\n",
              "    <tr>\n",
              "      <td>11</td>\n",
              "      <td>0.241457</td>\n",
              "      <td>0.168555</td>\n",
              "      <td>0.930736</td>\n",
              "      <td>00:47</td>\n",
              "    </tr>\n",
              "    <tr>\n",
              "      <td>12</td>\n",
              "      <td>0.224954</td>\n",
              "      <td>0.168052</td>\n",
              "      <td>0.930736</td>\n",
              "      <td>00:49</td>\n",
              "    </tr>\n",
              "    <tr>\n",
              "      <td>13</td>\n",
              "      <td>0.221280</td>\n",
              "      <td>0.165339</td>\n",
              "      <td>0.933333</td>\n",
              "      <td>00:48</td>\n",
              "    </tr>\n",
              "    <tr>\n",
              "      <td>14</td>\n",
              "      <td>0.223227</td>\n",
              "      <td>0.163603</td>\n",
              "      <td>0.931602</td>\n",
              "      <td>00:47</td>\n",
              "    </tr>\n",
              "    <tr>\n",
              "      <td>15</td>\n",
              "      <td>0.227242</td>\n",
              "      <td>0.168501</td>\n",
              "      <td>0.930736</td>\n",
              "      <td>00:47</td>\n",
              "    </tr>\n",
              "  </tbody>\n",
              "</table>"
            ],
            "text/plain": [
              "<IPython.core.display.HTML object>"
            ]
          },
          "metadata": {
            "tags": []
          }
        }
      ]
    },
    {
      "metadata": {
        "id": "5dfiK5eas6lf",
        "colab_type": "text"
      },
      "cell_type": "markdown",
      "source": [
        "We improved accuracy to **93.1%!**, and the model is not overfitting! Let's take a look at what the model is doing."
      ]
    },
    {
      "metadata": {
        "id": "wr48TxsitLeb",
        "colab_type": "text"
      },
      "cell_type": "markdown",
      "source": [
        "**Confusion Matrix**"
      ]
    },
    {
      "metadata": {
        "colab_type": "code",
        "outputId": "c90eaef7-a552-46e6-c181-c71d370e72ae",
        "id": "ttlGt80e_qDX",
        "colab": {
          "base_uri": "https://localhost:8080/",
          "height": 415
        }
      },
      "cell_type": "code",
      "source": [
        "#create confusion mattrix\n",
        "preds_4,y_4,losses_4 = learn_4.get_preds(with_loss=True)\n",
        "interp_4 = ClassificationInterpretation(learn_4, preds_4, y_4, losses_4)\n",
        "interp_4.plot_confusion_matrix()"
      ],
      "execution_count": 0,
      "outputs": [
        {
          "output_type": "display_data",
          "data": {
            "image/png": "[encoded data removed]",
            "text/plain": [
              "<Figure size 576x396 with 1 Axes>"
            ]
          },
          "metadata": {
            "tags": []
          }
        }
      ]
    },
    {
      "metadata": {
        "id": "rhU06tHWtYR_",
        "colab_type": "text"
      },
      "cell_type": "markdown",
      "source": [
        "Model still tends to over predict negatives, but that is expected due to the class imbalance."
      ]
    },
    {
      "metadata": {
        "id": "okH0yLUTthOh",
        "colab_type": "text"
      },
      "cell_type": "markdown",
      "source": [
        "**Results**"
      ]
    },
    {
      "metadata": {
        "colab_type": "code",
        "outputId": "7e004925-7329-439d-8b2d-3fbae72abcc5",
        "id": "VcssXrAL_qDf",
        "colab": {
          "base_uri": "https://localhost:8080/",
          "height": 119
        }
      },
      "cell_type": "code",
      "source": [
        "#Add predictions to validation dataframe\n",
        "df_val_4['pred'] = df_val_4['text'].apply(lambda row: str(learn_4.predict(row)[0]))"
      ],
      "execution_count": 0,
      "outputs": [
        {
          "output_type": "stream",
          "text": [
            "/usr/local/lib/python3.6/dist-packages/ipykernel_launcher.py:1: SettingWithCopyWarning: \n",
            "A value is trying to be set on a copy of a slice from a DataFrame.\n",
            "Try using .loc[row_indexer,col_indexer] = value instead\n",
            "\n",
            "See the caveats in the documentation: http://pandas.pydata.org/pandas-docs/stable/indexing.html#indexing-view-versus-copy\n",
            "  \"\"\"Entry point for launching an IPython kernel.\n"
          ],
          "name": "stderr"
        }
      ]
    },
    {
      "metadata": {
        "colab_type": "code",
        "outputId": "576d9edb-314c-4944-9fee-9decf5555ef7",
        "id": "m8crioG6_qDg",
        "colab": {
          "base_uri": "https://localhost:8080/",
          "height": 204
        }
      },
      "cell_type": "code",
      "source": [
        "#check dataframe\n",
        "df_val_4.tail()"
      ],
      "execution_count": 0,
      "outputs": [
        {
          "output_type": "execute_result",
          "data": {
            "text/html": [
              "<div>\n",
              "<style scoped>\n",
              "    .dataframe tbody tr th:only-of-type {\n",
              "        vertical-align: middle;\n",
              "    }\n",
              "\n",
              "    .dataframe tbody tr th {\n",
              "        vertical-align: top;\n",
              "    }\n",
              "\n",
              "    .dataframe thead th {\n",
              "        text-align: right;\n",
              "    }\n",
              "</style>\n",
              "<table border=\"1\" class=\"dataframe\">\n",
              "  <thead>\n",
              "    <tr style=\"text-align: right;\">\n",
              "      <th></th>\n",
              "      <th>label</th>\n",
              "      <th>text</th>\n",
              "      <th>pred</th>\n",
              "    </tr>\n",
              "  </thead>\n",
              "  <tbody>\n",
              "    <tr>\n",
              "      <th>1011</th>\n",
              "      <td>positive</td>\n",
              "      <td>Thank you “@united: @TRUU_Tall I can certainly...</td>\n",
              "      <td>positive</td>\n",
              "    </tr>\n",
              "    <tr>\n",
              "      <th>5506</th>\n",
              "      <td>positive</td>\n",
              "      <td>@SouthwestAir you are lucky to have people lik...</td>\n",
              "      <td>positive</td>\n",
              "    </tr>\n",
              "    <tr>\n",
              "      <th>5150</th>\n",
              "      <td>negative</td>\n",
              "      <td>@SouthwestAir baggage claim has already change...</td>\n",
              "      <td>negative</td>\n",
              "    </tr>\n",
              "    <tr>\n",
              "      <th>13950</th>\n",
              "      <td>negative</td>\n",
              "      <td>@AmericanAir I have tried to talk to someone f...</td>\n",
              "      <td>negative</td>\n",
              "    </tr>\n",
              "    <tr>\n",
              "      <th>14383</th>\n",
              "      <td>positive</td>\n",
              "      <td>@AmericanAir Always enjoy my time. Now on the ...</td>\n",
              "      <td>positive</td>\n",
              "    </tr>\n",
              "  </tbody>\n",
              "</table>\n",
              "</div>"
            ],
            "text/plain": [
              "          label                                               text      pred\n",
              "1011   positive  Thank you “@united: @TRUU_Tall I can certainly...  positive\n",
              "5506   positive  @SouthwestAir you are lucky to have people lik...  positive\n",
              "5150   negative  @SouthwestAir baggage claim has already change...  negative\n",
              "13950  negative  @AmericanAir I have tried to talk to someone f...  negative\n",
              "14383  positive  @AmericanAir Always enjoy my time. Now on the ...  positive"
            ]
          },
          "metadata": {
            "tags": []
          },
          "execution_count": 112
        }
      ]
    },
    {
      "metadata": {
        "colab_type": "code",
        "outputId": "06777b01-3fb6-4a91-8039-4e1f80591717",
        "id": "01RVE9v3_qDh",
        "colab": {
          "base_uri": "https://localhost:8080/",
          "height": 153
        }
      },
      "cell_type": "code",
      "source": [
        "#check dataframe info (nulls, columns, types)\n",
        "df_val_4.info()"
      ],
      "execution_count": 0,
      "outputs": [
        {
          "output_type": "stream",
          "text": [
            "<class 'pandas.core.frame.DataFrame'>\n",
            "Int64Index: 1155 entries, 10176 to 14383\n",
            "Data columns (total 3 columns):\n",
            "label    1155 non-null object\n",
            "text     1155 non-null object\n",
            "pred     1155 non-null object\n",
            "dtypes: object(3)\n",
            "memory usage: 36.1+ KB\n"
          ],
          "name": "stdout"
        }
      ]
    },
    {
      "metadata": {
        "colab_type": "code",
        "outputId": "9d3ae231-ce68-4c1a-c71a-46be912fa6bb",
        "id": "fNg7wvmY_qDl",
        "colab": {
          "base_uri": "https://localhost:8080/",
          "height": 417
        }
      },
      "cell_type": "code",
      "source": [
        "#plot predictions, targets, incorrect predictions\n",
        "fig, axarr = plt.subplots(1, 3, figsize=(12, 6), sharey=True)\n",
        "\n",
        "df_val_4.pred.value_counts().sort_index().plot.bar(\n",
        "    ax=axarr[0]\n",
        ")\n",
        "axarr[0].set_title(\"Sentiment count for predicted values\")\n",
        "\n",
        "df_val_4.label.value_counts().sort_index().plot.bar(\n",
        "    ax=axarr[1]\n",
        ")\n",
        "axarr[1].set_title(\"Sentiment count for target values\")\n",
        "\n",
        "df_val_4[df_val_4.label!= df_val_4.pred].label.value_counts().sort_index().plot.bar(\n",
        "    ax=axarr[2]\n",
        ")\n",
        "axarr[2].set_title(\"Sentiment count for incorrect predictions\");\n"
      ],
      "execution_count": 0,
      "outputs": [
        {
          "output_type": "display_data",
          "data": {
            "image/png": "[encoded data removed]",
            "text/plain": [
              "<Figure size 864x432 with 3 Axes>"
            ]
          },
          "metadata": {
            "tags": []
          }
        }
      ]
    },
    {
      "metadata": {
        "id": "AjQzZgxtt6ob",
        "colab_type": "text"
      },
      "cell_type": "markdown",
      "source": [
        "As expected, model is slightly overpredicting negative values. Let's explore."
      ]
    },
    {
      "metadata": {
        "colab_type": "code",
        "outputId": "fbf08bcc-ef88-48b6-9526-c5af9852728d",
        "id": "rqwe54oo_qDq",
        "colab": {
          "base_uri": "https://localhost:8080/",
          "height": 359
        }
      },
      "cell_type": "code",
      "source": [
        "#check incorrect predictions\n",
        "df_val_4[df_val_4.label!= df_val_4.pred].tail(10)"
      ],
      "execution_count": 0,
      "outputs": [
        {
          "output_type": "execute_result",
          "data": {
            "text/html": [
              "<div>\n",
              "<style scoped>\n",
              "    .dataframe tbody tr th:only-of-type {\n",
              "        vertical-align: middle;\n",
              "    }\n",
              "\n",
              "    .dataframe tbody tr th {\n",
              "        vertical-align: top;\n",
              "    }\n",
              "\n",
              "    .dataframe thead th {\n",
              "        text-align: right;\n",
              "    }\n",
              "</style>\n",
              "<table border=\"1\" class=\"dataframe\">\n",
              "  <thead>\n",
              "    <tr style=\"text-align: right;\">\n",
              "      <th></th>\n",
              "      <th>label</th>\n",
              "      <th>text</th>\n",
              "      <th>pred</th>\n",
              "    </tr>\n",
              "  </thead>\n",
              "  <tbody>\n",
              "    <tr>\n",
              "      <th>10485</th>\n",
              "      <td>positive</td>\n",
              "      <td>@USAirways No Problem - he was the only person...</td>\n",
              "      <td>negative</td>\n",
              "    </tr>\n",
              "    <tr>\n",
              "      <th>3998</th>\n",
              "      <td>positive</td>\n",
              "      <td>@united Got me home amid snow &amp;amp; Cancelled ...</td>\n",
              "      <td>negative</td>\n",
              "    </tr>\n",
              "    <tr>\n",
              "      <th>11795</th>\n",
              "      <td>positive</td>\n",
              "      <td>@USAirways customer service at its finest</td>\n",
              "      <td>negative</td>\n",
              "    </tr>\n",
              "    <tr>\n",
              "      <th>3021</th>\n",
              "      <td>positive</td>\n",
              "      <td>@united Hi, flight 1051. If I try and book a n...</td>\n",
              "      <td>negative</td>\n",
              "    </tr>\n",
              "    <tr>\n",
              "      <th>7552</th>\n",
              "      <td>negative</td>\n",
              "      <td>@JetBlue unfortunately I was so startled and r...</td>\n",
              "      <td>positive</td>\n",
              "    </tr>\n",
              "    <tr>\n",
              "      <th>9432</th>\n",
              "      <td>negative</td>\n",
              "      <td>@usairways really need help asap, so please ma...</td>\n",
              "      <td>positive</td>\n",
              "    </tr>\n",
              "    <tr>\n",
              "      <th>8254</th>\n",
              "      <td>positive</td>\n",
              "      <td>@JetBlue Same exact flight too. Love JetBlue. ...</td>\n",
              "      <td>negative</td>\n",
              "    </tr>\n",
              "    <tr>\n",
              "      <th>6812</th>\n",
              "      <td>positive</td>\n",
              "      <td>@JetBlue Annnndddd, I just booked my flight. T...</td>\n",
              "      <td>negative</td>\n",
              "    </tr>\n",
              "    <tr>\n",
              "      <th>8318</th>\n",
              "      <td>positive</td>\n",
              "      <td>@JetBlue Then en route to the airport the rebo...</td>\n",
              "      <td>negative</td>\n",
              "    </tr>\n",
              "    <tr>\n",
              "      <th>11545</th>\n",
              "      <td>positive</td>\n",
              "      <td>@USAirways we are boarding now but have yet to...</td>\n",
              "      <td>negative</td>\n",
              "    </tr>\n",
              "  </tbody>\n",
              "</table>\n",
              "</div>"
            ],
            "text/plain": [
              "          label                                               text      pred\n",
              "10485  positive  @USAirways No Problem - he was the only person...  negative\n",
              "3998   positive  @united Got me home amid snow &amp; Cancelled ...  negative\n",
              "11795  positive          @USAirways customer service at its finest  negative\n",
              "3021   positive  @united Hi, flight 1051. If I try and book a n...  negative\n",
              "7552   negative  @JetBlue unfortunately I was so startled and r...  positive\n",
              "9432   negative  @usairways really need help asap, so please ma...  positive\n",
              "8254   positive  @JetBlue Same exact flight too. Love JetBlue. ...  negative\n",
              "6812   positive  @JetBlue Annnndddd, I just booked my flight. T...  negative\n",
              "8318   positive  @JetBlue Then en route to the airport the rebo...  negative\n",
              "11545  positive  @USAirways we are boarding now but have yet to...  negative"
            ]
          },
          "metadata": {
            "tags": []
          },
          "execution_count": 115
        }
      ]
    },
    {
      "metadata": {
        "colab_type": "code",
        "id": "KJ8amw6X_qDu",
        "outputId": "4f9fd943-a0e6-4a78-c13e-91f9e9932df7",
        "colab": {
          "base_uri": "https://localhost:8080/",
          "height": 34
        }
      },
      "cell_type": "code",
      "source": [
        "#negative tweet predicted positive\n",
        "df_val_4.text.loc[7552]"
      ],
      "execution_count": 0,
      "outputs": [
        {
          "output_type": "execute_result",
          "data": {
            "text/plain": [
              "\"@JetBlue unfortunately I was so startled and rushed, I didn't get the name, but will provide a description in my expanded email.  Thank you\""
            ]
          },
          "metadata": {
            "tags": []
          },
          "execution_count": 116
        }
      ]
    },
    {
      "metadata": {
        "id": "Wno3SnuZuQz3",
        "colab_type": "text"
      },
      "cell_type": "markdown",
      "source": [
        "Thank you at the end of tweet makes it predict positive."
      ]
    },
    {
      "metadata": {
        "id": "umk7x9EoPUHO",
        "colab_type": "code",
        "outputId": "6a432135-d2ab-4d36-acd5-9fafbe9d9c1b",
        "colab": {
          "base_uri": "https://localhost:8080/",
          "height": 34
        }
      },
      "cell_type": "code",
      "source": [
        "#negative tweet predicted positive\n",
        "df_val_4.text.loc[9432]"
      ],
      "execution_count": 0,
      "outputs": [
        {
          "output_type": "execute_result",
          "data": {
            "text/plain": [
              "'@usairways really need help asap, so please make it quick. Thx.'"
            ]
          },
          "metadata": {
            "tags": []
          },
          "execution_count": 117
        }
      ]
    },
    {
      "metadata": {
        "id": "iTKkMEGYuXvU",
        "colab_type": "text"
      },
      "cell_type": "markdown",
      "source": [
        "Probably same as abaove, maybe the thanks make it predict positive. Or politeness in general (please, help, Thks)"
      ]
    },
    {
      "metadata": {
        "id": "PNHTtRx3PeEJ",
        "colab_type": "code",
        "outputId": "e9c4d503-2e52-48ae-8deb-87d6443cb3ac",
        "colab": {
          "base_uri": "https://localhost:8080/",
          "height": 34
        }
      },
      "cell_type": "code",
      "source": [
        "#positive tweet predicted negative\n",
        "df_val_4.text.loc[10485]"
      ],
      "execution_count": 0,
      "outputs": [
        {
          "output_type": "execute_result",
          "data": {
            "text/plain": [
              "'@USAirways No Problem - he was the only person in the airport who would help :)'"
            ]
          },
          "metadata": {
            "tags": []
          },
          "execution_count": 118
        }
      ]
    },
    {
      "metadata": {
        "id": "sloaslsXuuhQ",
        "colab_type": "text"
      },
      "cell_type": "markdown",
      "source": [
        "Again, model doesn't seem understand smiley face, and probably words No and Problem count as negative."
      ]
    },
    {
      "metadata": {
        "id": "G7jmMv5xPsvq",
        "colab_type": "code",
        "outputId": "9cdd0380-d87f-4a83-9671-bc4dbf438a1b",
        "colab": {
          "base_uri": "https://localhost:8080/",
          "height": 34
        }
      },
      "cell_type": "code",
      "source": [
        "#positive tweet predicted negative\n",
        "df_val_4.text.loc[3998]"
      ],
      "execution_count": 0,
      "outputs": [
        {
          "output_type": "execute_result",
          "data": {
            "text/plain": [
              "'@united Got me home amid snow &amp; Cancelled Flightlations; delivered bag w/o hassle; plus no wait on phone &amp; an upgrade. Thank you!'"
            ]
          },
          "metadata": {
            "tags": []
          },
          "execution_count": 119
        }
      ]
    },
    {
      "metadata": {
        "id": "FEU3oCvjvA4H",
        "colab_type": "text"
      },
      "cell_type": "markdown",
      "source": [
        "No idea why this positive tweet is predicted as negative, maybe words like cancelled and hassle, and thank you does not make it positive as thought before."
      ]
    },
    {
      "metadata": {
        "id": "GmV6iLLJvUXk",
        "colab_type": "text"
      },
      "cell_type": "markdown",
      "source": [
        "**Conclusions**"
      ]
    },
    {
      "metadata": {
        "id": "qDROZ3JXvZhe",
        "colab_type": "text"
      },
      "cell_type": "markdown",
      "source": [
        "Accuracy was improved from **76.2%** to **93.1%**  through hyper-parameter fine-tuning, feature engineering and, further exploration of results. Could it be improved further? Probably. I only touched upon hyper-parameter fine-tuning, trying to keep models as same as possible to compare results, but each model iteration could have its own hyper-parameter fine-tuning. Additional, language modelling could also be included, instead of using the AWS_LSTM another pretrained model could be used, maybe one more specifically trained for tweets or sentiment. Data preprocessing could also have been done differently. Additionally, I did not explore other classification  or deep learning models. It could be that they provide a better result. I quickly checked Kaggle for results and I did find at least one with better results https://www.kaggle.com/robertq/language-model-for-sentiment-analysis"
      ]
    },
    {
      "metadata": {
        "id": "wPnJ5_mTb6fa",
        "colab_type": "text"
      },
      "cell_type": "markdown",
      "source": [
        "**Resources**\n",
        "\n",
        "https://www.analyticsvidhya.com/blog/2018/11/tutorial-text-classification-ulmfit-fastai-library/\n",
        "\n",
        "https://towardsdatascience.com/transfer-learning-in-nlp-for-tweet-stance-classification-8ab014da8dde\n",
        "\n",
        "https://github.com/cedrickchee/knowledge/blob/master/courses/fast.ai/deep-learning-part-2/2018-edition/lesson-10-transfer-learning-nlp.md\n",
        "\n",
        "https://towardsdatascience.com/machine-learning-text-classification-language-modelling-using-fast-ai-b1b334f2872d\n",
        "\n",
        "https://docs.fast.ai/index.html\n",
        "\n",
        "http://nlp.fast.ai/classification/2018/05/15/introducting-ulmfit.html\n",
        "\n",
        "https://www.kaggle.com/crowdflower/twitter-airline-sentiment#Tweets.csv\n",
        "\n",
        "https://arxiv.org/abs/1803.09820\n",
        "\n",
        "https://arxiv.org/abs/1801.06146\n",
        "\n"
      ]
    }
  ]
}